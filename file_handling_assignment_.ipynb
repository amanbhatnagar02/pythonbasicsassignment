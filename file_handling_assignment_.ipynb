{
  "nbformat": 4,
  "nbformat_minor": 0,
  "metadata": {
    "colab": {
      "provenance": []
    },
    "kernelspec": {
      "name": "python3",
      "display_name": "Python 3"
    },
    "language_info": {
      "name": "python"
    }
  },
  "cells": [
    {
      "cell_type": "markdown",
      "source": [
        "# file handling"
      ],
      "metadata": {
        "id": "KE8OcefgxSes"
      }
    },
    {
      "cell_type": "markdown",
      "source": [
        "# theory questions :"
      ],
      "metadata": {
        "id": "b-RJLoUjweCI"
      }
    },
    {
      "cell_type": "markdown",
      "source": [
        "#Q1: What is the difference between interpreted and compiled languages"
      ],
      "metadata": {
        "id": "XRBCVSKXitOw"
      }
    },
    {
      "cell_type": "markdown",
      "source": [
        "ans: In compiled languages, the source code is translated into machine code (binary code) by a compiler before the program is run.\n",
        "In interpreted languages, the source code is translated and executed line by line by an interpreter at runtime.\n"
      ],
      "metadata": {
        "id": "lOat4tlOjIp0"
      }
    },
    {
      "cell_type": "markdown",
      "source": [
        "# Q2 : What is exception handling in Python"
      ],
      "metadata": {
        "id": "SAK0nVIMpNFp"
      }
    },
    {
      "cell_type": "markdown",
      "source": [
        "ans: expection generally means a interuption in an event. expection handling means handling the error gracefully also to ensure that the rest of code gets executed ."
      ],
      "metadata": {
        "id": "33OzwjAXqz8T"
      }
    },
    {
      "cell_type": "markdown",
      "source": [
        "#Q3:What is the purpose of the finally block in exception handling"
      ],
      "metadata": {
        "id": "cjbwQ1fbp0yN"
      }
    },
    {
      "cell_type": "markdown",
      "source": [
        "ans: finally block is the block which irrespective of any other block it will always work."
      ],
      "metadata": {
        "id": "E16F6-tcp66n"
      }
    },
    {
      "cell_type": "markdown",
      "source": [
        "#Q4: What is logging in Python"
      ],
      "metadata": {
        "id": "Esfq36CExz0F"
      }
    },
    {
      "cell_type": "markdown",
      "source": [
        "ans: Logging in Python is a built-in module that allows you to track and record events or messages in your code, which is helpful for debugging, monitoring, and maintaining your applications."
      ],
      "metadata": {
        "id": "oUE9vNI6x8AF"
      }
    },
    {
      "cell_type": "markdown",
      "source": [
        "#Q5:What is the significance of the __del__ method in Python"
      ],
      "metadata": {
        "id": "5HCLN-7_ySwM"
      }
    },
    {
      "cell_type": "markdown",
      "source": [
        "ans: The __del__ method in Python is a destructor method that is called when an object is about to be destroyed."
      ],
      "metadata": {
        "id": "piH-Ar_6zf92"
      }
    },
    {
      "cell_type": "markdown",
      "source": [
        "#Q6:What is the difference between import and from ... import in Python"
      ],
      "metadata": {
        "id": "9HBJndLBz7iG"
      }
    },
    {
      "cell_type": "markdown",
      "source": [
        "ans: import and from import  both in python is use to import external code . import statement is used to call a whole module whereas from import used to call a specific variable ,function from a module"
      ],
      "metadata": {
        "id": "90yBbYER0clD"
      }
    },
    {
      "cell_type": "markdown",
      "source": [
        "#Q7: How can you handle multiple exceptions in Python"
      ],
      "metadata": {
        "id": "GXbwq7se1Cpm"
      }
    },
    {
      "cell_type": "markdown",
      "source": [
        "ans: we can  handle multiple exception as writing multiple exception block or writing exceptionn in same block . for example : value error or zerodivision."
      ],
      "metadata": {
        "id": "mvoC3I_31bDQ"
      }
    },
    {
      "cell_type": "markdown",
      "source": [
        "#Q8: What is the purpose of the with statement when handling files in Python"
      ],
      "metadata": {
        "id": "HRgZfiF-2C3Q"
      }
    },
    {
      "cell_type": "markdown",
      "source": [
        "ans : with statement is used to close the file autometically and smoothly work with file handling ."
      ],
      "metadata": {
        "id": "dL4XLSEK2LZ5"
      }
    },
    {
      "cell_type": "markdown",
      "source": [
        "#Q9: What is the difference between multithreading and multiprocessing"
      ],
      "metadata": {
        "id": "XuiB5Cvn2h5V"
      }
    },
    {
      "cell_type": "markdown",
      "source": [
        "both are used to perform multiple task . multithreading is like dividing the process in multiple thread in single core whereras multiprocess uses multi core or multi processsor to complete the task . multithread is concurrent process and mutithreading is parallel process."
      ],
      "metadata": {
        "id": "sHV3i9w82rSU"
      }
    },
    {
      "cell_type": "markdown",
      "source": [
        "#Q10: What are the advantages of using logging in a program"
      ],
      "metadata": {
        "id": "ZCQuVJWR3wup"
      }
    },
    {
      "cell_type": "markdown",
      "source": [
        "logging has many advantage of tracking the behaviour of the application . it allow to record message of various severity, such as debug ,info,warning,error and critical. This helps to capture detailed information about the execution of the program at different stages, from normal operation to critical errors."
      ],
      "metadata": {
        "id": "o7u-8g6d36Mn"
      }
    },
    {
      "cell_type": "markdown",
      "source": [
        "#Q11:What is memory management in Python"
      ],
      "metadata": {
        "id": "KqGnnIFi4zD6"
      }
    },
    {
      "cell_type": "markdown",
      "source": [
        "this is not done in the class"
      ],
      "metadata": {
        "id": "bALPDkBp5VeI"
      }
    },
    {
      "cell_type": "markdown",
      "source": [
        "#Q12: What are the basic steps involved in exception handling in Python"
      ],
      "metadata": {
        "id": "_pxGkO93gOu2"
      }
    },
    {
      "cell_type": "markdown",
      "source": [
        "ans : basic steps involved in exception handling is\n",
        "1. try block (try to catch error)\n",
        "2.except block (show error once error is caught)\n",
        "3.finally block (this code will run always irrespect of try or except block )  "
      ],
      "metadata": {
        "id": "S--KOXJPghAI"
      }
    },
    {
      "cell_type": "markdown",
      "source": [
        "#Q13: Why is memory management important in Python"
      ],
      "metadata": {
        "id": "zKFCrdAJhbRD"
      }
    },
    {
      "cell_type": "markdown",
      "source": [
        "ans:Memory management is a critical aspect of any programming language, including Python, because it directly impacts the performance, efficiency, and stability of a program."
      ],
      "metadata": {
        "id": "RtJphDSkhhxn"
      }
    },
    {
      "cell_type": "markdown",
      "source": [
        "#Q14:What is the role of try and except in exception handling"
      ],
      "metadata": {
        "id": "Gs9KOJY8iFs6"
      }
    },
    {
      "cell_type": "markdown",
      "source": [
        "ans: try and except in exception handling is to try the code inside the try block and except block raise the error message , error message can be customize or can be default message ."
      ],
      "metadata": {
        "id": "-Tuj7ju2im3-"
      }
    },
    {
      "cell_type": "markdown",
      "source": [
        "#Q15: How does Python's garbage collection system work"
      ],
      "metadata": {
        "id": "TRdl7w88i7vj"
      }
    },
    {
      "cell_type": "markdown",
      "source": [
        "ans:this is not done in the class"
      ],
      "metadata": {
        "id": "3xqB-K0ljuYw"
      }
    },
    {
      "cell_type": "markdown",
      "source": [
        "#Q16: What is the purpose of the else block in exception handling\n"
      ],
      "metadata": {
        "id": "SnKmuEMZkJqO"
      }
    },
    {
      "cell_type": "markdown",
      "source": [
        "ans: The else block in exception handling in Python serves to execute code that should run only when no exceptions are raised in the try block. It allows you to specify a set of operations that should be performed if the code in the try block succeeds without any errors"
      ],
      "metadata": {
        "id": "6tyxfedYktKP"
      }
    },
    {
      "cell_type": "markdown",
      "source": [
        "#Q17: What are the common logging levels in Python\n"
      ],
      "metadata": {
        "id": "n-UgN4U-lMvu"
      }
    },
    {
      "cell_type": "markdown",
      "source": [
        "In Python, the logging module provides several built-in logging levels to indicate the severity or importance of the messages being logged. These levels allow developers to categorize logs based on their significance, helping to filter and manage logs more effectively.some steps are : 1.debug 2.info 3.warning 4.error 5.critical"
      ],
      "metadata": {
        "id": "vaujiKhSlwBY"
      }
    },
    {
      "cell_type": "markdown",
      "source": [
        "#Q18: What is the difference between os.fork() and multiprocessing in Python"
      ],
      "metadata": {
        "id": "wkrVRmmgmENt"
      }
    },
    {
      "cell_type": "markdown",
      "source": [
        "In Python, both os.fork() and the multiprocessing module are used to create and manage multiple processes, but they operate differently and have different use cases."
      ],
      "metadata": {
        "id": "h4M0-uXZ6Syh"
      }
    },
    {
      "cell_type": "markdown",
      "source": [
        "#Q19: What is the importance of closing a file in Python"
      ],
      "metadata": {
        "id": "g8KQA9_06hYn"
      }
    },
    {
      "cell_type": "markdown",
      "source": [
        "ans: Closing a file in Python is an important step when working with file handling. It ensures proper resource management and can help avoid various issues such as data loss, memory leaks, and file corruption."
      ],
      "metadata": {
        "id": "FLP-mGrS74y2"
      }
    },
    {
      "cell_type": "markdown",
      "source": [
        "#Q20 What is the difference between file.read() and file.readline() in Python"
      ],
      "metadata": {
        "id": "LwKAb0A-8P-U"
      }
    },
    {
      "cell_type": "markdown",
      "source": [
        "ans:in Python, file.read() and file.readline() are both methods used to read the contents of a file, but they behave differently. Here are the key differences:\n",
        "1.The read() method is used to read the entire content of the file at once.\n",
        "2.The readline() method reads one line from the file at a time."
      ],
      "metadata": {
        "id": "aI-oIQ5r8W-u"
      }
    },
    {
      "cell_type": "markdown",
      "source": [
        "#Q21: What is the logging module in Python used for"
      ],
      "metadata": {
        "id": "FYfwk1I29Ugy"
      }
    },
    {
      "cell_type": "markdown",
      "source": [
        "ans:The logging module in Python is used for generating log messages from your program. It provides a flexible framework for adding logging functionality to your applications, allowing you to record various events, errors, or informational messages that happen during the execution of your program."
      ],
      "metadata": {
        "id": "TmKbNPo89cnP"
      }
    },
    {
      "cell_type": "markdown",
      "source": [
        "#Q22:What is the os module in Python used for in file handling\n"
      ],
      "metadata": {
        "id": "R37B_WV7-TFE"
      }
    },
    {
      "cell_type": "markdown",
      "source": [
        "ans:The os module in Python provides a way of interacting with the operating system and allows you to perform various file and directory operations."
      ],
      "metadata": {
        "id": "RH-Ak5p9-cER"
      }
    },
    {
      "cell_type": "markdown",
      "source": [
        "#Q23:What are the challenges associated with memory management in Python"
      ],
      "metadata": {
        "id": "M7ecl1tJAKzh"
      }
    },
    {
      "cell_type": "markdown",
      "source": [
        "ans: Memory management in Python, although highly automated, still poses several challenges. These challenges arise due to the dynamic nature of the language, the underlying implementation of Python (CPython, the standard Python interpreter),"
      ],
      "metadata": {
        "id": "5W3RC33xAQ76"
      }
    },
    {
      "cell_type": "markdown",
      "source": [
        "#Q24:  How do you raise an exception manually in Python"
      ],
      "metadata": {
        "id": "IDba8In0BK6Z"
      }
    },
    {
      "cell_type": "markdown",
      "source": [
        "ans:To raise an exception manually in Python, you use the raise statement. You can raise both built-in and custom exceptions, which allows you to control error flow and handle specific conditions in your program."
      ],
      "metadata": {
        "id": "r_K_NUIxBh-F"
      }
    },
    {
      "cell_type": "markdown",
      "source": [
        "#Q25: Why is it important to use multithreading in certain applications?"
      ],
      "metadata": {
        "id": "ZVgDQrAYBsNi"
      }
    },
    {
      "cell_type": "markdown",
      "source": [
        "ans:Multithreading is an important concept in programming, and it becomes crucial in certain applications for several reasons. It allows for concurrent execution, which can significantly improve the performance and responsiveness of an application, especially in cases where there are multiple tasks that can be performed independently."
      ],
      "metadata": {
        "id": "Kdzw4-b0CIFh"
      }
    },
    {
      "cell_type": "markdown",
      "source": [
        "# practical question"
      ],
      "metadata": {
        "id": "1BHq-3DaOVdt"
      }
    },
    {
      "cell_type": "markdown",
      "source": [
        "# Q1 How can you open a file for writing in Python and write a string to it ?"
      ],
      "metadata": {
        "id": "SlAK_eu9xdKa"
      }
    },
    {
      "cell_type": "code",
      "source": [
        "file = open( \"file.txt\",\"w\")\n",
        "file.write(\" hello friend\")"
      ],
      "metadata": {
        "colab": {
          "base_uri": "https://localhost:8080/"
        },
        "id": "fNwkLSpRyOUS",
        "outputId": "5bb5e8d8-20d4-47e9-833e-f96abf5b7537"
      },
      "execution_count": null,
      "outputs": [
        {
          "output_type": "execute_result",
          "data": {
            "text/plain": [
              "13"
            ]
          },
          "metadata": {},
          "execution_count": 4
        }
      ]
    },
    {
      "cell_type": "markdown",
      "source": [
        "# Q2 Write a Python program to read the contents of a file and print each line?"
      ],
      "metadata": {
        "id": "JraTC36Py0Qi"
      }
    },
    {
      "cell_type": "code",
      "source": [
        "f = open(\"file.txt\",\"r\")\n",
        "f.seek(0)\n",
        "print(f.read())\n",
        "f.close()"
      ],
      "metadata": {
        "colab": {
          "base_uri": "https://localhost:8080/"
        },
        "id": "lcf0DJSky6oD",
        "outputId": "4360513b-b9d4-4530-bb7a-9392ffeaff06"
      },
      "execution_count": null,
      "outputs": [
        {
          "output_type": "stream",
          "name": "stdout",
          "text": [
            " hello friend\n"
          ]
        }
      ]
    },
    {
      "cell_type": "markdown",
      "source": [
        "# Q3 How would you handle a case where the file doesn't exist while trying to open it for reading"
      ],
      "metadata": {
        "id": "qmG2x-i_0RzO"
      }
    },
    {
      "cell_type": "code",
      "source": [
        "try:\n",
        "    with open(\"non_existent_file.txt\", \"r\") as file:\n",
        "        content = file.read()\n",
        "        print(content)\n",
        "except Exception as e :\n",
        "    print(\"The file does not exist.\",e)"
      ],
      "metadata": {
        "id": "bhRgRfYW00g2"
      },
      "execution_count": null,
      "outputs": []
    },
    {
      "cell_type": "markdown",
      "source": [
        "# Q4 Write a Python script that reads from one file and writes its content to another file"
      ],
      "metadata": {
        "id": "qw__Bfcgpq5W"
      }
    },
    {
      "cell_type": "code",
      "source": [
        "# Open the source file in read mode and the target file in write mode\n",
        "with open('source_file.txt', 'r') as source_file:\n",
        "    content = source_file.read()  # Read the content of the source file\n",
        "\n",
        "with open('target_file.txt', 'w') as target_file:\n",
        "    target_file.write(content)  # Write the content to the target file\n"
      ],
      "metadata": {
        "id": "G64BOizlpvw1"
      },
      "execution_count": null,
      "outputs": []
    },
    {
      "cell_type": "markdown",
      "source": [
        "#Q5  How would you catch and handle division by zero error in Python"
      ],
      "metadata": {
        "id": "D4q73e6SOM64"
      }
    },
    {
      "cell_type": "code",
      "source": [
        "try :\n",
        "  5/0\n",
        "except ZeroDivisionError as e :\n",
        "  print(\"since the divisor is 0 , the default value i 1 and quotient is \" ,10/1)"
      ],
      "metadata": {
        "colab": {
          "base_uri": "https://localhost:8080/"
        },
        "id": "vxaRjpTBOcM_",
        "outputId": "af8cc6f1-ab08-446d-e524-d6755f490ea5"
      },
      "execution_count": null,
      "outputs": [
        {
          "output_type": "stream",
          "name": "stdout",
          "text": [
            "since the divisor is 0 , the default value i 1 and quotient is  10.0\n"
          ]
        }
      ]
    },
    {
      "cell_type": "markdown",
      "source": [
        "#Q6  Write a Python program that logs an error message to a log file when a division by zero exception occurs."
      ],
      "metadata": {
        "id": "WezLjjiFwMLS"
      }
    },
    {
      "cell_type": "code",
      "source": [
        "import logging\n",
        "logging.basicConfig(filename= \"programme_file\",level = logging.DEBUG)\n",
        "\n",
        "try :\n",
        "  10/0\n",
        "except ZeroDivisionError as e :\n",
        "  logging.error(f\" this is the error {e}\")"
      ],
      "metadata": {
        "colab": {
          "base_uri": "https://localhost:8080/"
        },
        "id": "atkeOA-cu9sf",
        "outputId": "bbeff989-8dbf-41f5-b02c-4b1b39a9da88"
      },
      "execution_count": null,
      "outputs": [
        {
          "output_type": "stream",
          "name": "stderr",
          "text": [
            "ERROR:root: this is the error division by zero\n"
          ]
        }
      ]
    },
    {
      "cell_type": "markdown",
      "source": [
        "#Q7 How do you log information at different levels (INFO, ERROR, WARNING) in Python using the logging module\n"
      ],
      "metadata": {
        "id": "X1doD0W3wOCT"
      }
    },
    {
      "cell_type": "code",
      "source": [
        "import logging\n",
        "\n",
        "\n",
        "logging.basicConfig(\n",
        "    filename='app.log',\n",
        "    level=logging.DEBUG,\n",
        "    format='%(asctime)s - %(levelname)s - %(message)s'\n",
        ")\n",
        "\n",
        "\n",
        "logging.debug(\"This is a debug message.\")\n",
        "logging.info(\"This is an informational message.\")\n",
        "logging.warning(\"This is a warning message.\")\n",
        "logging.error(\"This is an error message.\")\n",
        "logging.critical(\"This is a critical message.\")\n",
        "\n",
        "print(\"Log messages have been written to 'app.log'.\")\n"
      ],
      "metadata": {
        "colab": {
          "base_uri": "https://localhost:8080/"
        },
        "id": "Hpmr6527wWMn",
        "outputId": "e6054554-22a5-41f5-c233-302bf11425d6"
      },
      "execution_count": null,
      "outputs": [
        {
          "output_type": "stream",
          "name": "stderr",
          "text": [
            "WARNING:root:This is a warning message.\n",
            "ERROR:root:This is an error message.\n",
            "CRITICAL:root:This is a critical message.\n"
          ]
        },
        {
          "output_type": "stream",
          "name": "stdout",
          "text": [
            "Log messages have been written to 'app.log'.\n"
          ]
        }
      ]
    },
    {
      "cell_type": "markdown",
      "source": [
        "#Q8  Write a program to handle a file opening error using exception handling"
      ],
      "metadata": {
        "id": "Dj85EewGxBtj"
      }
    },
    {
      "cell_type": "code",
      "source": [
        "try :\n",
        "  with open( \"open_demo_file\",\"r\"):\n",
        "   f.read()\n",
        "except FileNotFoundError as e :\n",
        "  print(\"this is the error  \",e)\n",
        "except Exception as e :\n",
        "  print(\"any other error \",e)\n"
      ],
      "metadata": {
        "colab": {
          "base_uri": "https://localhost:8080/"
        },
        "id": "1hSXNox_O1Lb",
        "outputId": "6d3862bd-4720-4b86-bc5e-ab1bcbf0bf26"
      },
      "execution_count": 5,
      "outputs": [
        {
          "output_type": "stream",
          "name": "stdout",
          "text": [
            "this is the error   [Errno 2] No such file or directory: 'open_demo_file'\n"
          ]
        }
      ]
    },
    {
      "cell_type": "markdown",
      "source": [
        "#Q9 How can you read a file line by line and store its content in a list in Python"
      ],
      "metadata": {
        "id": "jNjNZtRPyIwj"
      }
    },
    {
      "cell_type": "code",
      "source": [
        "def read_file_lines(file_path):\n",
        "    try:\n",
        "        with open(file_path, 'r') as file:\n",
        "            lines = file.readlines()\n",
        "\n",
        "        lines = [line.strip() for line in lines]\n",
        "        return lines\n",
        "    except FileNotFoundError:\n",
        "        print(f\"Error: The file '{file_path}' does not exist.\")\n",
        "    except Exception as e:\n",
        "        print(f\"An unexpected error occurred: {e}\")\n",
        "\n",
        "\n",
        "file_path = 'example.txt'\n",
        "lines = read_file_lines(file_path)\n",
        "if lines:\n",
        "    print(\"File content stored in the list:\")\n",
        "    print(lines)\n"
      ],
      "metadata": {
        "colab": {
          "base_uri": "https://localhost:8080/"
        },
        "id": "AMxXeB1C3v8I",
        "outputId": "895633d9-0ade-4cfa-9c6a-a42a6c9b2279"
      },
      "execution_count": null,
      "outputs": [
        {
          "output_type": "stream",
          "name": "stdout",
          "text": [
            "Error: The file 'example.txt' does not exist.\n"
          ]
        }
      ]
    },
    {
      "cell_type": "markdown",
      "source": [
        "#Q10 How can you append data to an existing file in Python"
      ],
      "metadata": {
        "id": "18u4ztv5uP9R"
      }
    },
    {
      "cell_type": "code",
      "source": [
        "with open(\"file_example.txt\",\"a\") as file :\n",
        "  data = \"hello friend\"\n",
        "  file.write(data)\n"
      ],
      "metadata": {
        "id": "jFotV9ktubtt"
      },
      "execution_count": 23,
      "outputs": []
    },
    {
      "cell_type": "markdown",
      "source": [
        "#Q11  Write a Python program that uses a try-except block to handle an error when attempting to access a dictionary key that doesn't exist"
      ],
      "metadata": {
        "id": "THOJDNRMyPuy"
      }
    },
    {
      "cell_type": "code",
      "source": [
        "try :\n",
        "  d = {\"name \": \"aman\",\"class\":\"12\",\"role\":\"data analylst \"}\n",
        "  print(d[\"age\"])\n",
        "except KeyError as e :\n",
        "  print(\"this key not found \", e )"
      ],
      "metadata": {
        "colab": {
          "base_uri": "https://localhost:8080/"
        },
        "id": "HOsBp-7xyagD",
        "outputId": "b92e0fae-c433-4a72-ad78-b26c952b741a"
      },
      "execution_count": null,
      "outputs": [
        {
          "output_type": "stream",
          "name": "stdout",
          "text": [
            "this key not found  'age'\n"
          ]
        }
      ]
    },
    {
      "cell_type": "markdown",
      "source": [
        "# Q12 How can you read a file line by line and store its content in a list in Python"
      ],
      "metadata": {
        "id": "KrFmnNfwNDsI"
      }
    },
    {
      "cell_type": "code",
      "source": [
        "try:\n",
        "  10/\"3\"\n",
        "  f = open(\"thisis.txt\",\"r\")\n",
        "  f.read()\n",
        "  10/0\n",
        "\n",
        "except ZeroDivisionError as e:\n",
        "  print(\"this is error\",e)\n",
        "except FileNotFoundError as e :\n",
        "  print(\"this is error\",e)\n",
        "except TypeError as e :\n",
        "  print(\"this is error\",e)"
      ],
      "metadata": {
        "colab": {
          "base_uri": "https://localhost:8080/"
        },
        "id": "mWBCygBWNIQn",
        "outputId": "bb8dfe20-600f-4b1e-d986-b487a2a53dab"
      },
      "execution_count": null,
      "outputs": [
        {
          "output_type": "stream",
          "name": "stdout",
          "text": [
            "this is error unsupported operand type(s) for /: 'int' and 'str'\n"
          ]
        }
      ]
    },
    {
      "cell_type": "markdown",
      "source": [
        "# Q13 How would you check if a file exists before attempting to read it in Python\n"
      ],
      "metadata": {
        "id": "mXHRgPjhuUDA"
      }
    },
    {
      "cell_type": "code",
      "source": [
        "import os\n",
        "\n",
        "def read_file_if_exists(file_path):\n",
        "    if os.path.exists(file_path):\n",
        "        try:\n",
        "            with open(file_path, 'r') as file:\n",
        "                content = file.read()\n",
        "                print(\"File content:\")\n",
        "                print(content)\n",
        "        except Exception as e:\n",
        "            print(f\"An error occurred while reading the file: {e}\")\n",
        "    else:\n",
        "        print(f\"Error: The file '{file_path}' does not exist.\")\n",
        "\n",
        "\n",
        "file_path = 'example.txt'\n",
        "read_file_if_exists(file_path)\n"
      ],
      "metadata": {
        "colab": {
          "base_uri": "https://localhost:8080/"
        },
        "id": "-TqQZ7yeudEL",
        "outputId": "66c485d6-306e-4372-d972-7e218c0fbb93"
      },
      "execution_count": null,
      "outputs": [
        {
          "output_type": "stream",
          "name": "stdout",
          "text": [
            "Error: The file 'example.txt' does not exist.\n"
          ]
        }
      ]
    },
    {
      "cell_type": "markdown",
      "source": [
        "# Q14 Write a program that uses the logging module to log both informational and error messages"
      ],
      "metadata": {
        "id": "uGBLF2UvxKnQ"
      }
    },
    {
      "cell_type": "code",
      "source": [
        "import logging\n",
        "\n",
        "\n",
        "logging.basicConfig(\n",
        "    level=logging.DEBUG,\n",
        "    format='%(asctime)s - %(levelname)s - %(message)s',\n",
        "    handlers=[\n",
        "        logging.FileHandler('app.log'),\n",
        "        logging.StreamHandler()\n",
        "    ]\n",
        ")\n",
        "\n",
        "\n",
        "logging.info('This is an informational message.')\n",
        "\n",
        "\n",
        "try:\n",
        "    1 / 0\n",
        "except ZeroDivisionError:\n",
        "    logging.error('An error occurred: Division by zero.')\n",
        "\n",
        "\n",
        "logging.warning('This is a warning message.')\n",
        "\n",
        "\n",
        "logging.debug('This is a debug message.')\n",
        "\n",
        "\n",
        "logging.critical('This is a critical error!')\n"
      ],
      "metadata": {
        "colab": {
          "base_uri": "https://localhost:8080/"
        },
        "id": "KMG7vRNDhlyM",
        "outputId": "1c1a4b6b-62b7-47b5-c10a-5f94b6443619"
      },
      "execution_count": 22,
      "outputs": [
        {
          "output_type": "stream",
          "name": "stderr",
          "text": [
            "ERROR:root:An error occurred: Division by zero.\n",
            "WARNING:root:This is a warning message.\n",
            "CRITICAL:root:This is a critical error!\n"
          ]
        }
      ]
    },
    {
      "cell_type": "markdown",
      "source": [
        "#Q15 Write a Python program that prints the content of a file and handles the case when the file is empty"
      ],
      "metadata": {
        "id": "whtiaKJsOr5x"
      }
    },
    {
      "cell_type": "code",
      "source": [
        "def print_file_content(file_path):\n",
        "    try:\n",
        "        with open(file_path, 'r') as file:\n",
        "            content = file.read()\n",
        "\n",
        "\n",
        "            if not content:\n",
        "                print(\"The file is empty.\")\n",
        "            else:\n",
        "                print(\"File Content:\")\n",
        "                print(content)\n",
        "\n",
        "    except FileNotFoundError:\n",
        "        print(f\"Error: The file '{file_path}' does not exist.\")\n",
        "    except Exception as e:\n",
        "        print(f\"An unexpected error occurred: {e}\")\n",
        "\n",
        "\n",
        "file_path = 'example.txt'\n",
        "print_file_content(file_path)\n"
      ],
      "metadata": {
        "colab": {
          "base_uri": "https://localhost:8080/"
        },
        "id": "1mvbIG6oOxV_",
        "outputId": "c8dd8d61-1daa-4bfa-8622-9c60bdaed9a4"
      },
      "execution_count": null,
      "outputs": [
        {
          "output_type": "stream",
          "name": "stdout",
          "text": [
            "Error: The file 'example.txt' does not exist.\n"
          ]
        }
      ]
    },
    {
      "cell_type": "markdown",
      "source": [
        "#Q16  Demonstrate how to use memory profiling to check the memory usage of a small program"
      ],
      "metadata": {
        "id": "IZNf42qBP6tu"
      }
    },
    {
      "cell_type": "markdown",
      "source": [
        "ans : this is not done in the class"
      ],
      "metadata": {
        "id": "LuZtYbbrtQHU"
      }
    },
    {
      "cell_type": "markdown",
      "source": [
        "#Q17 Write a Python program to create and write a list of numbers to a file, one number per line"
      ],
      "metadata": {
        "id": "ISxbVDMrQRWz"
      }
    },
    {
      "cell_type": "code",
      "source": [
        "\n",
        "numbers = [1, 2, 3, 4, 5, 6, 7, 8, 9, 10]\n",
        "\n",
        "with open('numbers.txt', 'w') as file:\n",
        "\n",
        "    for number in numbers:\n",
        "        file.write(f\"{number}\\n\")\n",
        "\n",
        "print(\"Numbers have been written to 'numbers.txt'.\")\n"
      ],
      "metadata": {
        "colab": {
          "base_uri": "https://localhost:8080/"
        },
        "id": "XC1A-mQ_QlUv",
        "outputId": "48d9a9f3-6764-44c5-dbe0-9822f0ebde9c"
      },
      "execution_count": 6,
      "outputs": [
        {
          "output_type": "stream",
          "name": "stdout",
          "text": [
            "Numbers have been written to 'numbers.txt'.\n"
          ]
        }
      ]
    },
    {
      "cell_type": "markdown",
      "source": [
        "#Q18 How would you implement a basic logging setup that logs to a file with rotation after 1MB"
      ],
      "metadata": {
        "id": "T1cGQZFqQy8M"
      }
    },
    {
      "cell_type": "markdown",
      "source": [
        "ans : this is not done in the class"
      ],
      "metadata": {
        "id": "FA2wikKDtX7f"
      }
    },
    {
      "cell_type": "markdown",
      "source": [
        "#Q19 Write a program that handles both IndexError and KeyError using a try-except block"
      ],
      "metadata": {
        "id": "E8HoFryNuQfb"
      }
    },
    {
      "cell_type": "code",
      "source": [
        "  try:\n",
        "\n",
        "   my_dict= {\"name\": \"aman\", \"age\": 22 , \"job\":\"data analytics\"}\n",
        "   my_dict1 = [\"aman\",\"ajay\",\"arun\"]\n",
        "   print(my_dict[\"salary\"])\n",
        "   print(my_dict1[5])\n",
        "\n",
        "  except (KeyError,IndexError) as e :\n",
        "    print(\"this key not found \", e )\n"
      ],
      "metadata": {
        "colab": {
          "base_uri": "https://localhost:8080/"
        },
        "id": "pXs8wIIYke36",
        "outputId": "9ca33bd6-a5b8-4c15-ecc4-da1412f4ba0f"
      },
      "execution_count": null,
      "outputs": [
        {
          "output_type": "stream",
          "name": "stdout",
          "text": [
            "this key not found  'salary'\n"
          ]
        }
      ]
    },
    {
      "cell_type": "markdown",
      "source": [
        "# Q20  How would you open a file and read its contents using a context manager in Python"
      ],
      "metadata": {
        "id": "PxeqS9ioRHhz"
      }
    },
    {
      "cell_type": "code",
      "source": [
        "\n",
        "try:\n",
        " with open(\"demo_file.txt\", 'r') as file:\n",
        "    contents = file.read()\n",
        " print(contents)\n",
        "except FileNotFoundError:\n",
        " print(\"File not found.\")\n",
        "except Exception as e:\n",
        " print(f\"An error occurred: {e}\")\n"
      ],
      "metadata": {
        "colab": {
          "base_uri": "https://localhost:8080/"
        },
        "id": "d3gOdhnZR1B1",
        "outputId": "3397208c-d08b-4bd0-d1d2-f7f0c6d71a8b"
      },
      "execution_count": 7,
      "outputs": [
        {
          "output_type": "stream",
          "name": "stdout",
          "text": [
            "File not found.\n"
          ]
        }
      ]
    },
    {
      "cell_type": "markdown",
      "source": [
        "# Q21 Write a Python program that reads a file and prints the number of occurrences of a specific word"
      ],
      "metadata": {
        "id": "YQVFNMWAS1Pz"
      }
    },
    {
      "cell_type": "code",
      "source": [
        "\n",
        "with open (\"example_demo.txt\",\"w\") as file :\n",
        "  file.write(\"python is a very useful and easy language. Python is easy!\")\n",
        "\n",
        "\n",
        "def count_word(filename,word):\n",
        "  try:\n",
        "    with open(filename , \"r\") as file :\n",
        "      text = file.read().lower()\n",
        "      words = text.split()\n",
        "      words_count = words.count(word.lower())\n",
        "      print ( f\"the word {word} occurs {words_count} times in the file.\")\n",
        "\n",
        "  except FileNotFoundError:\n",
        "    print(f\"Error: The file '{filename}' does not exist.\")\n",
        "  except Exception as e:\n",
        "    print(f\"An unexpected error occurred: {e}\")\n",
        "\n",
        "\n",
        "filename = \"example_demo.txt\"\n",
        "word = \"python\"\n",
        "count_word(filename,word)"
      ],
      "metadata": {
        "colab": {
          "base_uri": "https://localhost:8080/"
        },
        "id": "DfzcU6yRTfRu",
        "outputId": "fc0a36cb-0603-464a-9383-1f7a9ee12cee"
      },
      "execution_count": 21,
      "outputs": [
        {
          "output_type": "stream",
          "name": "stdout",
          "text": [
            "the word python occurs 2 times in the file.\n"
          ]
        }
      ]
    },
    {
      "cell_type": "markdown",
      "source": [
        "#Q22 How can you check if a file is empty before attempting to read its contents"
      ],
      "metadata": {
        "id": "WBBb0H7WYIPY"
      }
    },
    {
      "cell_type": "code",
      "source": [
        "this is not done in the class"
      ],
      "metadata": {
        "id": "_E8mnfDEYUVW"
      },
      "execution_count": null,
      "outputs": []
    },
    {
      "cell_type": "markdown",
      "source": [
        "# Q23 Write a Python program that writes to a log file when an error occurs during file handling."
      ],
      "metadata": {
        "id": "ccDSj8mjE_ez"
      }
    },
    {
      "cell_type": "code",
      "source": [
        "import logging\n",
        "logging.basicConfig(filename = \"demo_file.log\", level = logging.ERROR,format = '%(message)s',)\n",
        "\n",
        "try :\n",
        "    f= open(\"demo_file.txt\",\"r\")\n",
        "    f.read()\n",
        "except FileNotFoundError as e :\n",
        "    logging.error(f\"this is the error{e}\")"
      ],
      "metadata": {
        "id": "RVeAC22VkmZi"
      },
      "execution_count": null,
      "outputs": []
    }
  ]
}