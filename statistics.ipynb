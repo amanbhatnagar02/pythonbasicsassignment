{
  "nbformat": 4,
  "nbformat_minor": 0,
  "metadata": {
    "colab": {
      "provenance": []
    },
    "kernelspec": {
      "name": "python3",
      "display_name": "Python 3"
    },
    "language_info": {
      "name": "python"
    }
  },
  "cells": [
    {
      "cell_type": "markdown",
      "source": [
        "# Question 1: Explain the different types of data (qualitative and quantitative) and provide examples of each. Discuss nominal, ordinal, interval, and ratio scales"
      ],
      "metadata": {
        "id": "E2rPE0c_bYk0"
      }
    },
    {
      "cell_type": "markdown",
      "source": [
        "ans: Qualitative data are categorical data or basically string data to measure qualitaive data we scale as nominal and ordinal\n",
        "\n",
        "nominal:\n",
        "- no order or superiority in data .\n",
        "- difference cannot be measured .\n",
        "- insight in nominal scale are made through counting .\n",
        "\n",
        "ordinal:\n",
        "- order in data , ranks ,education reviews and rating are example of ordinal scale.\n",
        "- data is measureable. we cannot perform arithmetic operation in both qualitative scale.\n",
        "\n",
        "QUANTITATIVE DATA\n",
        "\n",
        "interval scale data:ranks and order has a meaning\n",
        "- no absolute 0 starting\n",
        "-difference can be measured\n",
        "-for eg:length ,height and temperature\n",
        "\n",
        "ratio scale data :\n",
        "- order and ranking has a meaning\n",
        "- difference and ratio are measurable\n",
        "- it has a absolute 0 starting point\n",
        "  \n",
        " eg: everything in interval scale can be measured in ratio scale except temperature where values can be in negatives"
      ],
      "metadata": {
        "id": "ERU7dPUkbgvr"
      }
    },
    {
      "cell_type": "markdown",
      "source": [
        "# Question 2: What are the measures of central tendency, and when should you use each? Discuss the mean, median,and mode with examples and situations where each is appropriate."
      ],
      "metadata": {
        "id": "SQctXEMefHmw"
      }
    },
    {
      "cell_type": "markdown",
      "source": [
        "ans: measures of central tendency are mean , median and mode\n",
        "- mean: avereage or arithmetic mean .\n",
        "  it is use to calculate a quantitative data's central tendency .\n",
        "  we calculate the average of the observation\n",
        "  we should use mean when there is no outlier in data\n",
        "\n",
        "- median : it is the middle most number of a data .\n",
        "  as median is not affected by outlier, so when outlier is there\n",
        "  use median .\n",
        "\n",
        "\n",
        "- mode: mode means highest frequency of occurence.\n",
        "  we use mode in categorical data . it is not used in numerical data\n"
      ],
      "metadata": {
        "id": "X13yvQzGfTu5"
      }
    },
    {
      "cell_type": "markdown",
      "source": [
        "#Question 3:  Explain the concept of dispersion. How do variance and standard deviation measure the spread of data?"
      ],
      "metadata": {
        "id": "_lVM3gcQh0wq"
      }
    },
    {
      "cell_type": "markdown",
      "source": [
        "ans: concept of dispersion is how the data is spread .\n",
        "\n",
        "variance:"
      ],
      "metadata": {
        "id": "qZ5Cjps8iSbc"
      }
    },
    {
      "cell_type": "markdown",
      "source": [
        "#Question 4:  What is a box plot, and what can it tell you about the distribution of data?"
      ],
      "metadata": {
        "id": "8-LbOQ63jfGZ"
      }
    },
    {
      "cell_type": "markdown",
      "source": [
        "ans : box plot is a graphical representation of data . which show the data in five point summary which include minimum ,quantile 1 (25%) ,quantile 2 (50%), quantile 3 (75%) ,maximum (100%) . it also show outlier in the data it has lowersshelf and highershelf so the data outside it are outliers."
      ],
      "metadata": {
        "id": "Fc9qzF9ZjfTI"
      }
    },
    {
      "cell_type": "markdown",
      "source": [
        "#Question 5:  Discuss the role of random sampling in making inferences about populations."
      ],
      "metadata": {
        "id": "yl2bAne3kLif"
      }
    },
    {
      "cell_type": "markdown",
      "source": [
        "ans: there are two type of data staticstics\n",
        "- descriptive and inferential\n",
        "\n",
        "inferential data is very large data like data of a state or a country . we use inferential data to infere through small sample for the whole population. because time and resources are constraints\n",
        "\n",
        "most used or effective sampling is random sampling :\n",
        "- it is used to inferece for the whole data\n",
        "- equal chance of being selected\n",
        "-each has 50 percentage of getting selected\n",
        "\n",
        "disadvantage - may be not get the chance to represent the group or selection"
      ],
      "metadata": {
        "id": "EbqjHD49km2y"
      }
    },
    {
      "cell_type": "markdown",
      "source": [
        "#Question 6:  Explain the concept of skewness and its types. How does skewness affect the interpretation of data?"
      ],
      "metadata": {
        "id": "fK--uoPelABt"
      }
    },
    {
      "cell_type": "markdown",
      "source": [
        "ans: skewness means inclination . inclination toward any side like  right or  left side of the x axis . when skewness is 0 means the data is symmetric . it is used to intepret the symmetry of data .\n",
        "two types are:\n",
        "- right skewness : where inclination is toward right or positive side if x axis .\n",
        "- left skewness : means the inclination is towards left side or negative side of x axis ."
      ],
      "metadata": {
        "id": "HUTvJ0pNO26S"
      }
    },
    {
      "cell_type": "markdown",
      "source": [
        "#Question 7:  What is the interquartile range (IQR), and how is it used to detect outliers?"
      ],
      "metadata": {
        "id": "wJqaBg1Qk18z"
      }
    },
    {
      "cell_type": "markdown",
      "source": [
        "ans:\n",
        "\n",
        "range has a disadvantage as they get affected by outlier\n",
        "so the solution is interquartile range (IQR) which is calculated by Q3-Q1 .\n",
        "iqr is calculate on q3 and q1 so they are not affected by the maximum or minimum outliers .\n",
        "so after calculating iqr .\n",
        "\n",
        "find lowerfence by Q1 - 1.5 x IQR\n",
        "upperfence by Q3 + 1.5 x IQR\n",
        "\n",
        "after finding  upper and lowerfence . everydata in that range is an outlier so this is how you can detect outlier"
      ],
      "metadata": {
        "id": "1G1xO-dZnwQh"
      }
    },
    {
      "cell_type": "markdown",
      "source": [
        "#Question 8:  Discuss the conditions under which the binomial distribution is used."
      ],
      "metadata": {
        "id": "SPvjni7oVa30"
      }
    },
    {
      "cell_type": "markdown",
      "source": [
        "ans: consition under which binomial distribution is used are:\n",
        "\n",
        " -  number of trials are finite\n",
        " -  each trial should be independent\n",
        " -  anly two possible outcome of the experiment"
      ],
      "metadata": {
        "id": "FNm16F-QI3Iv"
      }
    },
    {
      "cell_type": "markdown",
      "source": [
        "#Question 9:  Explain the properties of the normal distribution and the empirical rule (68-95-99.7 rule)"
      ],
      "metadata": {
        "id": "tdoew81sVpZA"
      }
    },
    {
      "cell_type": "markdown",
      "source": [
        "ans: Properties of the Normal Distribution\n",
        "The Normal Distribution (also called Gaussian Distribution) is a symmetric, bell-shaped probability distribution that describes many natural phenomena. It is defined by two parameters:\n",
        "\n",
        "Mean (μ): The central value (average).\n",
        "\n",
        "Standard Deviation (σ): Measures the spread of the data.\n",
        "\n",
        "Empirical Rule (68-95-99.7 Rule)\n",
        "\n",
        "The Empirical Rule is a shortcut to estimate probabilities for a normal distribution.\n",
        "\n",
        "Breakdown of the Rule:\n",
        "\n",
        "68% of data lies within 1 standard deviation\n",
        "\n",
        "95% of data lies within 2 standard deviations\n",
        "\n",
        "99.7% of data lies within 3 standard deviations"
      ],
      "metadata": {
        "id": "Hf_bXEevBkkP"
      }
    },
    {
      "cell_type": "markdown",
      "source": [
        "#Question 10: Provide a real-life example of a Poisson process and calculate the probability for a specific event"
      ],
      "metadata": {
        "id": "cqV509urVu19"
      }
    },
    {
      "cell_type": "markdown",
      "source": [
        "ans: Suppose customers arrive at a coffee shop at an average rate of 5 customers per hour.\n",
        "\n",
        "We want to find the probability that exactly 3 customers will arrive in the next hour.\n",
        "\n",
        "k = number of event we want is 3\n",
        "\n",
        "𝜆 = expected event is 5 per hour\n",
        "\n",
        "𝑒 = euler number (2.718)\n",
        "\n",
        "\n",
        "after applying the poisson formula we found the probability is 0.1396 .\n"
      ],
      "metadata": {
        "id": "jqzCRuQe_A4b"
      }
    },
    {
      "cell_type": "markdown",
      "source": [
        "#Question 11: Explain what a random variable is and differentiate between discrete and continuous random variables"
      ],
      "metadata": {
        "id": "LPqtmDoRVzKT"
      }
    },
    {
      "cell_type": "markdown",
      "source": [
        "ans : random variable is a variable that take random value from a random experiement\n",
        "\n",
        "discrete  variable  that takes distinct whole number as a value\n",
        "\n",
        "continuous random variable are that takes float numbers as a value\n",
        "\n",
        "for eg : tossing coin or throw a dice"
      ],
      "metadata": {
        "id": "1RRuCXHkV3l1"
      }
    },
    {
      "cell_type": "markdown",
      "source": [
        "#Question 12: Provide an example dataset, calculate both covariance and correlation, and interpret the results"
      ],
      "metadata": {
        "id": "_jJxwIqi1mIi"
      }
    },
    {
      "cell_type": "code",
      "source": [
        "import seaborn as sns\n",
        "df = sns.load_dataset('tips')\n",
        "df\n",
        "df.cov(numeric_only=True)"
      ],
      "metadata": {
        "colab": {
          "base_uri": "https://localhost:8080/",
          "height": 143
        },
        "id": "lrZa0_q77uXa",
        "outputId": "2b825ff1-0b6c-420e-f78d-bae77485456b"
      },
      "execution_count": null,
      "outputs": [
        {
          "output_type": "execute_result",
          "data": {
            "text/plain": [
              "            total_bill       tip      size\n",
              "total_bill   79.252939  8.323502  5.065983\n",
              "tip           8.323502  1.914455  0.643906\n",
              "size          5.065983  0.643906  0.904591"
            ],
            "text/html": [
              "\n",
              "  <div id=\"df-a99d27fb-24aa-4415-b052-634bd6b3cae7\" class=\"colab-df-container\">\n",
              "    <div>\n",
              "<style scoped>\n",
              "    .dataframe tbody tr th:only-of-type {\n",
              "        vertical-align: middle;\n",
              "    }\n",
              "\n",
              "    .dataframe tbody tr th {\n",
              "        vertical-align: top;\n",
              "    }\n",
              "\n",
              "    .dataframe thead th {\n",
              "        text-align: right;\n",
              "    }\n",
              "</style>\n",
              "<table border=\"1\" class=\"dataframe\">\n",
              "  <thead>\n",
              "    <tr style=\"text-align: right;\">\n",
              "      <th></th>\n",
              "      <th>total_bill</th>\n",
              "      <th>tip</th>\n",
              "      <th>size</th>\n",
              "    </tr>\n",
              "  </thead>\n",
              "  <tbody>\n",
              "    <tr>\n",
              "      <th>total_bill</th>\n",
              "      <td>79.252939</td>\n",
              "      <td>8.323502</td>\n",
              "      <td>5.065983</td>\n",
              "    </tr>\n",
              "    <tr>\n",
              "      <th>tip</th>\n",
              "      <td>8.323502</td>\n",
              "      <td>1.914455</td>\n",
              "      <td>0.643906</td>\n",
              "    </tr>\n",
              "    <tr>\n",
              "      <th>size</th>\n",
              "      <td>5.065983</td>\n",
              "      <td>0.643906</td>\n",
              "      <td>0.904591</td>\n",
              "    </tr>\n",
              "  </tbody>\n",
              "</table>\n",
              "</div>\n",
              "    <div class=\"colab-df-buttons\">\n",
              "\n",
              "  <div class=\"colab-df-container\">\n",
              "    <button class=\"colab-df-convert\" onclick=\"convertToInteractive('df-a99d27fb-24aa-4415-b052-634bd6b3cae7')\"\n",
              "            title=\"Convert this dataframe to an interactive table.\"\n",
              "            style=\"display:none;\">\n",
              "\n",
              "  <svg xmlns=\"http://www.w3.org/2000/svg\" height=\"24px\" viewBox=\"0 -960 960 960\">\n",
              "    <path d=\"M120-120v-720h720v720H120Zm60-500h600v-160H180v160Zm220 220h160v-160H400v160Zm0 220h160v-160H400v160ZM180-400h160v-160H180v160Zm440 0h160v-160H620v160ZM180-180h160v-160H180v160Zm440 0h160v-160H620v160Z\"/>\n",
              "  </svg>\n",
              "    </button>\n",
              "\n",
              "  <style>\n",
              "    .colab-df-container {\n",
              "      display:flex;\n",
              "      gap: 12px;\n",
              "    }\n",
              "\n",
              "    .colab-df-convert {\n",
              "      background-color: #E8F0FE;\n",
              "      border: none;\n",
              "      border-radius: 50%;\n",
              "      cursor: pointer;\n",
              "      display: none;\n",
              "      fill: #1967D2;\n",
              "      height: 32px;\n",
              "      padding: 0 0 0 0;\n",
              "      width: 32px;\n",
              "    }\n",
              "\n",
              "    .colab-df-convert:hover {\n",
              "      background-color: #E2EBFA;\n",
              "      box-shadow: 0px 1px 2px rgba(60, 64, 67, 0.3), 0px 1px 3px 1px rgba(60, 64, 67, 0.15);\n",
              "      fill: #174EA6;\n",
              "    }\n",
              "\n",
              "    .colab-df-buttons div {\n",
              "      margin-bottom: 4px;\n",
              "    }\n",
              "\n",
              "    [theme=dark] .colab-df-convert {\n",
              "      background-color: #3B4455;\n",
              "      fill: #D2E3FC;\n",
              "    }\n",
              "\n",
              "    [theme=dark] .colab-df-convert:hover {\n",
              "      background-color: #434B5C;\n",
              "      box-shadow: 0px 1px 3px 1px rgba(0, 0, 0, 0.15);\n",
              "      filter: drop-shadow(0px 1px 2px rgba(0, 0, 0, 0.3));\n",
              "      fill: #FFFFFF;\n",
              "    }\n",
              "  </style>\n",
              "\n",
              "    <script>\n",
              "      const buttonEl =\n",
              "        document.querySelector('#df-a99d27fb-24aa-4415-b052-634bd6b3cae7 button.colab-df-convert');\n",
              "      buttonEl.style.display =\n",
              "        google.colab.kernel.accessAllowed ? 'block' : 'none';\n",
              "\n",
              "      async function convertToInteractive(key) {\n",
              "        const element = document.querySelector('#df-a99d27fb-24aa-4415-b052-634bd6b3cae7');\n",
              "        const dataTable =\n",
              "          await google.colab.kernel.invokeFunction('convertToInteractive',\n",
              "                                                    [key], {});\n",
              "        if (!dataTable) return;\n",
              "\n",
              "        const docLinkHtml = 'Like what you see? Visit the ' +\n",
              "          '<a target=\"_blank\" href=https://colab.research.google.com/notebooks/data_table.ipynb>data table notebook</a>'\n",
              "          + ' to learn more about interactive tables.';\n",
              "        element.innerHTML = '';\n",
              "        dataTable['output_type'] = 'display_data';\n",
              "        await google.colab.output.renderOutput(dataTable, element);\n",
              "        const docLink = document.createElement('div');\n",
              "        docLink.innerHTML = docLinkHtml;\n",
              "        element.appendChild(docLink);\n",
              "      }\n",
              "    </script>\n",
              "  </div>\n",
              "\n",
              "\n",
              "<div id=\"df-aa5c3b67-295d-4655-b894-06081ab38acd\">\n",
              "  <button class=\"colab-df-quickchart\" onclick=\"quickchart('df-aa5c3b67-295d-4655-b894-06081ab38acd')\"\n",
              "            title=\"Suggest charts\"\n",
              "            style=\"display:none;\">\n",
              "\n",
              "<svg xmlns=\"http://www.w3.org/2000/svg\" height=\"24px\"viewBox=\"0 0 24 24\"\n",
              "     width=\"24px\">\n",
              "    <g>\n",
              "        <path d=\"M19 3H5c-1.1 0-2 .9-2 2v14c0 1.1.9 2 2 2h14c1.1 0 2-.9 2-2V5c0-1.1-.9-2-2-2zM9 17H7v-7h2v7zm4 0h-2V7h2v10zm4 0h-2v-4h2v4z\"/>\n",
              "    </g>\n",
              "</svg>\n",
              "  </button>\n",
              "\n",
              "<style>\n",
              "  .colab-df-quickchart {\n",
              "      --bg-color: #E8F0FE;\n",
              "      --fill-color: #1967D2;\n",
              "      --hover-bg-color: #E2EBFA;\n",
              "      --hover-fill-color: #174EA6;\n",
              "      --disabled-fill-color: #AAA;\n",
              "      --disabled-bg-color: #DDD;\n",
              "  }\n",
              "\n",
              "  [theme=dark] .colab-df-quickchart {\n",
              "      --bg-color: #3B4455;\n",
              "      --fill-color: #D2E3FC;\n",
              "      --hover-bg-color: #434B5C;\n",
              "      --hover-fill-color: #FFFFFF;\n",
              "      --disabled-bg-color: #3B4455;\n",
              "      --disabled-fill-color: #666;\n",
              "  }\n",
              "\n",
              "  .colab-df-quickchart {\n",
              "    background-color: var(--bg-color);\n",
              "    border: none;\n",
              "    border-radius: 50%;\n",
              "    cursor: pointer;\n",
              "    display: none;\n",
              "    fill: var(--fill-color);\n",
              "    height: 32px;\n",
              "    padding: 0;\n",
              "    width: 32px;\n",
              "  }\n",
              "\n",
              "  .colab-df-quickchart:hover {\n",
              "    background-color: var(--hover-bg-color);\n",
              "    box-shadow: 0 1px 2px rgba(60, 64, 67, 0.3), 0 1px 3px 1px rgba(60, 64, 67, 0.15);\n",
              "    fill: var(--button-hover-fill-color);\n",
              "  }\n",
              "\n",
              "  .colab-df-quickchart-complete:disabled,\n",
              "  .colab-df-quickchart-complete:disabled:hover {\n",
              "    background-color: var(--disabled-bg-color);\n",
              "    fill: var(--disabled-fill-color);\n",
              "    box-shadow: none;\n",
              "  }\n",
              "\n",
              "  .colab-df-spinner {\n",
              "    border: 2px solid var(--fill-color);\n",
              "    border-color: transparent;\n",
              "    border-bottom-color: var(--fill-color);\n",
              "    animation:\n",
              "      spin 1s steps(1) infinite;\n",
              "  }\n",
              "\n",
              "  @keyframes spin {\n",
              "    0% {\n",
              "      border-color: transparent;\n",
              "      border-bottom-color: var(--fill-color);\n",
              "      border-left-color: var(--fill-color);\n",
              "    }\n",
              "    20% {\n",
              "      border-color: transparent;\n",
              "      border-left-color: var(--fill-color);\n",
              "      border-top-color: var(--fill-color);\n",
              "    }\n",
              "    30% {\n",
              "      border-color: transparent;\n",
              "      border-left-color: var(--fill-color);\n",
              "      border-top-color: var(--fill-color);\n",
              "      border-right-color: var(--fill-color);\n",
              "    }\n",
              "    40% {\n",
              "      border-color: transparent;\n",
              "      border-right-color: var(--fill-color);\n",
              "      border-top-color: var(--fill-color);\n",
              "    }\n",
              "    60% {\n",
              "      border-color: transparent;\n",
              "      border-right-color: var(--fill-color);\n",
              "    }\n",
              "    80% {\n",
              "      border-color: transparent;\n",
              "      border-right-color: var(--fill-color);\n",
              "      border-bottom-color: var(--fill-color);\n",
              "    }\n",
              "    90% {\n",
              "      border-color: transparent;\n",
              "      border-bottom-color: var(--fill-color);\n",
              "    }\n",
              "  }\n",
              "</style>\n",
              "\n",
              "  <script>\n",
              "    async function quickchart(key) {\n",
              "      const quickchartButtonEl =\n",
              "        document.querySelector('#' + key + ' button');\n",
              "      quickchartButtonEl.disabled = true;  // To prevent multiple clicks.\n",
              "      quickchartButtonEl.classList.add('colab-df-spinner');\n",
              "      try {\n",
              "        const charts = await google.colab.kernel.invokeFunction(\n",
              "            'suggestCharts', [key], {});\n",
              "      } catch (error) {\n",
              "        console.error('Error during call to suggestCharts:', error);\n",
              "      }\n",
              "      quickchartButtonEl.classList.remove('colab-df-spinner');\n",
              "      quickchartButtonEl.classList.add('colab-df-quickchart-complete');\n",
              "    }\n",
              "    (() => {\n",
              "      let quickchartButtonEl =\n",
              "        document.querySelector('#df-aa5c3b67-295d-4655-b894-06081ab38acd button');\n",
              "      quickchartButtonEl.style.display =\n",
              "        google.colab.kernel.accessAllowed ? 'block' : 'none';\n",
              "    })();\n",
              "  </script>\n",
              "</div>\n",
              "\n",
              "    </div>\n",
              "  </div>\n"
            ],
            "application/vnd.google.colaboratory.intrinsic+json": {
              "type": "dataframe",
              "summary": "{\n  \"name\": \"df\",\n  \"rows\": 3,\n  \"fields\": [\n    {\n      \"column\": \"total_bill\",\n      \"properties\": {\n        \"dtype\": \"number\",\n        \"std\": 41.92314550467773,\n        \"min\": 5.065983437900561,\n        \"max\": 79.25293861397829,\n        \"num_unique_values\": 3,\n        \"samples\": [\n          79.25293861397829,\n          8.323501629224854,\n          5.065983437900561\n        ],\n        \"semantic_type\": \"\",\n        \"description\": \"\"\n      }\n    },\n    {\n      \"column\": \"tip\",\n      \"properties\": {\n        \"dtype\": \"number\",\n        \"std\": 4.116356773536808,\n        \"min\": 0.6439064291978684,\n        \"max\": 8.323501629224854,\n        \"num_unique_values\": 3,\n        \"samples\": [\n          8.323501629224854,\n          1.914454638062473,\n          0.6439064291978684\n        ],\n        \"semantic_type\": \"\",\n        \"description\": \"\"\n      }\n    },\n    {\n      \"column\": \"size\",\n      \"properties\": {\n        \"dtype\": \"number\",\n        \"std\": 2.4812600897532766,\n        \"min\": 0.6439064291978684,\n        \"max\": 5.065983437900561,\n        \"num_unique_values\": 3,\n        \"samples\": [\n          5.065983437900561,\n          0.6439064291978684,\n          0.9045908385616921\n        ],\n        \"semantic_type\": \"\",\n        \"description\": \"\"\n      }\n    }\n  ]\n}"
            }
          },
          "metadata": {},
          "execution_count": 3
        }
      ]
    },
    {
      "cell_type": "code",
      "source": [
        "df.corr(numeric_only =True)"
      ],
      "metadata": {
        "colab": {
          "base_uri": "https://localhost:8080/",
          "height": 143
        },
        "id": "xsbs-3FN-Su6",
        "outputId": "e90d0565-69a2-4812-a10e-1cbc087acfe1"
      },
      "execution_count": null,
      "outputs": [
        {
          "output_type": "execute_result",
          "data": {
            "text/plain": [
              "            total_bill       tip      size\n",
              "total_bill    1.000000  0.675734  0.598315\n",
              "tip           0.675734  1.000000  0.489299\n",
              "size          0.598315  0.489299  1.000000"
            ],
            "text/html": [
              "\n",
              "  <div id=\"df-fa44b69c-ef85-439f-befe-ee569f198e8e\" class=\"colab-df-container\">\n",
              "    <div>\n",
              "<style scoped>\n",
              "    .dataframe tbody tr th:only-of-type {\n",
              "        vertical-align: middle;\n",
              "    }\n",
              "\n",
              "    .dataframe tbody tr th {\n",
              "        vertical-align: top;\n",
              "    }\n",
              "\n",
              "    .dataframe thead th {\n",
              "        text-align: right;\n",
              "    }\n",
              "</style>\n",
              "<table border=\"1\" class=\"dataframe\">\n",
              "  <thead>\n",
              "    <tr style=\"text-align: right;\">\n",
              "      <th></th>\n",
              "      <th>total_bill</th>\n",
              "      <th>tip</th>\n",
              "      <th>size</th>\n",
              "    </tr>\n",
              "  </thead>\n",
              "  <tbody>\n",
              "    <tr>\n",
              "      <th>total_bill</th>\n",
              "      <td>1.000000</td>\n",
              "      <td>0.675734</td>\n",
              "      <td>0.598315</td>\n",
              "    </tr>\n",
              "    <tr>\n",
              "      <th>tip</th>\n",
              "      <td>0.675734</td>\n",
              "      <td>1.000000</td>\n",
              "      <td>0.489299</td>\n",
              "    </tr>\n",
              "    <tr>\n",
              "      <th>size</th>\n",
              "      <td>0.598315</td>\n",
              "      <td>0.489299</td>\n",
              "      <td>1.000000</td>\n",
              "    </tr>\n",
              "  </tbody>\n",
              "</table>\n",
              "</div>\n",
              "    <div class=\"colab-df-buttons\">\n",
              "\n",
              "  <div class=\"colab-df-container\">\n",
              "    <button class=\"colab-df-convert\" onclick=\"convertToInteractive('df-fa44b69c-ef85-439f-befe-ee569f198e8e')\"\n",
              "            title=\"Convert this dataframe to an interactive table.\"\n",
              "            style=\"display:none;\">\n",
              "\n",
              "  <svg xmlns=\"http://www.w3.org/2000/svg\" height=\"24px\" viewBox=\"0 -960 960 960\">\n",
              "    <path d=\"M120-120v-720h720v720H120Zm60-500h600v-160H180v160Zm220 220h160v-160H400v160Zm0 220h160v-160H400v160ZM180-400h160v-160H180v160Zm440 0h160v-160H620v160ZM180-180h160v-160H180v160Zm440 0h160v-160H620v160Z\"/>\n",
              "  </svg>\n",
              "    </button>\n",
              "\n",
              "  <style>\n",
              "    .colab-df-container {\n",
              "      display:flex;\n",
              "      gap: 12px;\n",
              "    }\n",
              "\n",
              "    .colab-df-convert {\n",
              "      background-color: #E8F0FE;\n",
              "      border: none;\n",
              "      border-radius: 50%;\n",
              "      cursor: pointer;\n",
              "      display: none;\n",
              "      fill: #1967D2;\n",
              "      height: 32px;\n",
              "      padding: 0 0 0 0;\n",
              "      width: 32px;\n",
              "    }\n",
              "\n",
              "    .colab-df-convert:hover {\n",
              "      background-color: #E2EBFA;\n",
              "      box-shadow: 0px 1px 2px rgba(60, 64, 67, 0.3), 0px 1px 3px 1px rgba(60, 64, 67, 0.15);\n",
              "      fill: #174EA6;\n",
              "    }\n",
              "\n",
              "    .colab-df-buttons div {\n",
              "      margin-bottom: 4px;\n",
              "    }\n",
              "\n",
              "    [theme=dark] .colab-df-convert {\n",
              "      background-color: #3B4455;\n",
              "      fill: #D2E3FC;\n",
              "    }\n",
              "\n",
              "    [theme=dark] .colab-df-convert:hover {\n",
              "      background-color: #434B5C;\n",
              "      box-shadow: 0px 1px 3px 1px rgba(0, 0, 0, 0.15);\n",
              "      filter: drop-shadow(0px 1px 2px rgba(0, 0, 0, 0.3));\n",
              "      fill: #FFFFFF;\n",
              "    }\n",
              "  </style>\n",
              "\n",
              "    <script>\n",
              "      const buttonEl =\n",
              "        document.querySelector('#df-fa44b69c-ef85-439f-befe-ee569f198e8e button.colab-df-convert');\n",
              "      buttonEl.style.display =\n",
              "        google.colab.kernel.accessAllowed ? 'block' : 'none';\n",
              "\n",
              "      async function convertToInteractive(key) {\n",
              "        const element = document.querySelector('#df-fa44b69c-ef85-439f-befe-ee569f198e8e');\n",
              "        const dataTable =\n",
              "          await google.colab.kernel.invokeFunction('convertToInteractive',\n",
              "                                                    [key], {});\n",
              "        if (!dataTable) return;\n",
              "\n",
              "        const docLinkHtml = 'Like what you see? Visit the ' +\n",
              "          '<a target=\"_blank\" href=https://colab.research.google.com/notebooks/data_table.ipynb>data table notebook</a>'\n",
              "          + ' to learn more about interactive tables.';\n",
              "        element.innerHTML = '';\n",
              "        dataTable['output_type'] = 'display_data';\n",
              "        await google.colab.output.renderOutput(dataTable, element);\n",
              "        const docLink = document.createElement('div');\n",
              "        docLink.innerHTML = docLinkHtml;\n",
              "        element.appendChild(docLink);\n",
              "      }\n",
              "    </script>\n",
              "  </div>\n",
              "\n",
              "\n",
              "<div id=\"df-1d4e2d5e-a5b9-4925-9485-2e14820fc1d0\">\n",
              "  <button class=\"colab-df-quickchart\" onclick=\"quickchart('df-1d4e2d5e-a5b9-4925-9485-2e14820fc1d0')\"\n",
              "            title=\"Suggest charts\"\n",
              "            style=\"display:none;\">\n",
              "\n",
              "<svg xmlns=\"http://www.w3.org/2000/svg\" height=\"24px\"viewBox=\"0 0 24 24\"\n",
              "     width=\"24px\">\n",
              "    <g>\n",
              "        <path d=\"M19 3H5c-1.1 0-2 .9-2 2v14c0 1.1.9 2 2 2h14c1.1 0 2-.9 2-2V5c0-1.1-.9-2-2-2zM9 17H7v-7h2v7zm4 0h-2V7h2v10zm4 0h-2v-4h2v4z\"/>\n",
              "    </g>\n",
              "</svg>\n",
              "  </button>\n",
              "\n",
              "<style>\n",
              "  .colab-df-quickchart {\n",
              "      --bg-color: #E8F0FE;\n",
              "      --fill-color: #1967D2;\n",
              "      --hover-bg-color: #E2EBFA;\n",
              "      --hover-fill-color: #174EA6;\n",
              "      --disabled-fill-color: #AAA;\n",
              "      --disabled-bg-color: #DDD;\n",
              "  }\n",
              "\n",
              "  [theme=dark] .colab-df-quickchart {\n",
              "      --bg-color: #3B4455;\n",
              "      --fill-color: #D2E3FC;\n",
              "      --hover-bg-color: #434B5C;\n",
              "      --hover-fill-color: #FFFFFF;\n",
              "      --disabled-bg-color: #3B4455;\n",
              "      --disabled-fill-color: #666;\n",
              "  }\n",
              "\n",
              "  .colab-df-quickchart {\n",
              "    background-color: var(--bg-color);\n",
              "    border: none;\n",
              "    border-radius: 50%;\n",
              "    cursor: pointer;\n",
              "    display: none;\n",
              "    fill: var(--fill-color);\n",
              "    height: 32px;\n",
              "    padding: 0;\n",
              "    width: 32px;\n",
              "  }\n",
              "\n",
              "  .colab-df-quickchart:hover {\n",
              "    background-color: var(--hover-bg-color);\n",
              "    box-shadow: 0 1px 2px rgba(60, 64, 67, 0.3), 0 1px 3px 1px rgba(60, 64, 67, 0.15);\n",
              "    fill: var(--button-hover-fill-color);\n",
              "  }\n",
              "\n",
              "  .colab-df-quickchart-complete:disabled,\n",
              "  .colab-df-quickchart-complete:disabled:hover {\n",
              "    background-color: var(--disabled-bg-color);\n",
              "    fill: var(--disabled-fill-color);\n",
              "    box-shadow: none;\n",
              "  }\n",
              "\n",
              "  .colab-df-spinner {\n",
              "    border: 2px solid var(--fill-color);\n",
              "    border-color: transparent;\n",
              "    border-bottom-color: var(--fill-color);\n",
              "    animation:\n",
              "      spin 1s steps(1) infinite;\n",
              "  }\n",
              "\n",
              "  @keyframes spin {\n",
              "    0% {\n",
              "      border-color: transparent;\n",
              "      border-bottom-color: var(--fill-color);\n",
              "      border-left-color: var(--fill-color);\n",
              "    }\n",
              "    20% {\n",
              "      border-color: transparent;\n",
              "      border-left-color: var(--fill-color);\n",
              "      border-top-color: var(--fill-color);\n",
              "    }\n",
              "    30% {\n",
              "      border-color: transparent;\n",
              "      border-left-color: var(--fill-color);\n",
              "      border-top-color: var(--fill-color);\n",
              "      border-right-color: var(--fill-color);\n",
              "    }\n",
              "    40% {\n",
              "      border-color: transparent;\n",
              "      border-right-color: var(--fill-color);\n",
              "      border-top-color: var(--fill-color);\n",
              "    }\n",
              "    60% {\n",
              "      border-color: transparent;\n",
              "      border-right-color: var(--fill-color);\n",
              "    }\n",
              "    80% {\n",
              "      border-color: transparent;\n",
              "      border-right-color: var(--fill-color);\n",
              "      border-bottom-color: var(--fill-color);\n",
              "    }\n",
              "    90% {\n",
              "      border-color: transparent;\n",
              "      border-bottom-color: var(--fill-color);\n",
              "    }\n",
              "  }\n",
              "</style>\n",
              "\n",
              "  <script>\n",
              "    async function quickchart(key) {\n",
              "      const quickchartButtonEl =\n",
              "        document.querySelector('#' + key + ' button');\n",
              "      quickchartButtonEl.disabled = true;  // To prevent multiple clicks.\n",
              "      quickchartButtonEl.classList.add('colab-df-spinner');\n",
              "      try {\n",
              "        const charts = await google.colab.kernel.invokeFunction(\n",
              "            'suggestCharts', [key], {});\n",
              "      } catch (error) {\n",
              "        console.error('Error during call to suggestCharts:', error);\n",
              "      }\n",
              "      quickchartButtonEl.classList.remove('colab-df-spinner');\n",
              "      quickchartButtonEl.classList.add('colab-df-quickchart-complete');\n",
              "    }\n",
              "    (() => {\n",
              "      let quickchartButtonEl =\n",
              "        document.querySelector('#df-1d4e2d5e-a5b9-4925-9485-2e14820fc1d0 button');\n",
              "      quickchartButtonEl.style.display =\n",
              "        google.colab.kernel.accessAllowed ? 'block' : 'none';\n",
              "    })();\n",
              "  </script>\n",
              "</div>\n",
              "\n",
              "    </div>\n",
              "  </div>\n"
            ],
            "application/vnd.google.colaboratory.intrinsic+json": {
              "type": "dataframe",
              "summary": "{\n  \"name\": \"df\",\n  \"rows\": 3,\n  \"fields\": [\n    {\n      \"column\": \"total_bill\",\n      \"properties\": {\n        \"dtype\": \"number\",\n        \"std\": 0.21310904884233575,\n        \"min\": 0.5983151309049014,\n        \"max\": 1.0,\n        \"num_unique_values\": 3,\n        \"samples\": [\n          1.0,\n          0.6757341092113648,\n          0.5983151309049014\n        ],\n        \"semantic_type\": \"\",\n        \"description\": \"\"\n      }\n    },\n    {\n      \"column\": \"tip\",\n      \"properties\": {\n        \"dtype\": \"number\",\n        \"std\": 0.25843188743740914,\n        \"min\": 0.48929877523035714,\n        \"max\": 1.0,\n        \"num_unique_values\": 3,\n        \"samples\": [\n          0.6757341092113648,\n          1.0,\n          0.48929877523035714\n        ],\n        \"semantic_type\": \"\",\n        \"description\": \"\"\n      }\n    },\n    {\n      \"column\": \"size\",\n      \"properties\": {\n        \"dtype\": \"number\",\n        \"std\": 0.2689643845213583,\n        \"min\": 0.48929877523035714,\n        \"max\": 1.0,\n        \"num_unique_values\": 3,\n        \"samples\": [\n          0.5983151309049014,\n          0.48929877523035714,\n          1.0\n        ],\n        \"semantic_type\": \"\",\n        \"description\": \"\"\n      }\n    }\n  ]\n}"
            }
          },
          "metadata": {},
          "execution_count": 4
        }
      ]
    },
    {
      "cell_type": "markdown",
      "source": [
        "interpretaion :    \n",
        "covariance and corelation only work with numeric values\n",
        "\n",
        "covarience\n",
        "\n",
        "- interpretaion about the data is that all the data\n",
        "  is positivly related .for example tip and total bill\n",
        "\n",
        "\n",
        "corelation\n",
        "\n",
        "- interpretaion about this data that if you see the correlation between\n",
        "  tips and total bill that they are positive related and they has 67% chance that if the total bill increase then\n",
        "  tip will also increase\n",
        "\n"
      ],
      "metadata": {
        "id": "SJmm-QZm8IS5"
      }
    }
  ]
}