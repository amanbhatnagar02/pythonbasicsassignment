{
  "cells": [
    {
      "cell_type": "markdown",
      "metadata": {
        "id": "rSobBylJNp7W"
      },
      "source": [
        "# 🌳 ML Assignment 6: Complete Decision Tree Practical Solutions"
      ]
    },
    {
      "cell_type": "markdown",
      "source": [
        "#Question 1:  What is a Decision Tree, and how does it work"
      ],
      "metadata": {
        "id": "Cbl8q0GUOc1o"
      }
    },
    {
      "cell_type": "markdown",
      "source": [
        "ans: A Decision Tree is a flowchart-like structure used for classification or regression. It splits the data into branches based on feature values until it reaches a decision (leaf)."
      ],
      "metadata": {
        "id": "YaoEH2PuvVrW"
      }
    },
    {
      "cell_type": "markdown",
      "source": [
        "#Question 2:  What are impurity measures in Decision Trees"
      ],
      "metadata": {
        "id": "ItmPjhQjOlOF"
      }
    },
    {
      "cell_type": "markdown",
      "source": [
        "ans: Impurity measures help evaluate the quality of splits. Common ones:\n",
        "\n",
        "Gini Impurity\n",
        "\n",
        "Entropy\n",
        "\n",
        "Classification Error\n",
        "\n"
      ],
      "metadata": {
        "id": "Ke1z2UhJvXbk"
      }
    },
    {
      "cell_type": "markdown",
      "source": [
        "#Question 3: What is the mathematical formula for Gini Impurity"
      ],
      "metadata": {
        "id": "d4Qqn_NiOlVS"
      }
    },
    {
      "cell_type": "markdown",
      "source": [
        "ans :  Gini=1−∑p\n",
        "i\n",
        "^2\n",
        "​\n",
        "\n",
        "Where\n",
        "𝑝\n",
        "𝑖\n",
        "p\n",
        "i\n",
        "​\n",
        "  is the probability of class i."
      ],
      "metadata": {
        "id": "f7qqqIJyvcPa"
      }
    },
    {
      "cell_type": "markdown",
      "source": [
        "#Question 4:  What is the mathematical formula for Entropy ?"
      ],
      "metadata": {
        "id": "1TAcnQveOlY2"
      }
    },
    {
      "cell_type": "markdown",
      "source": [
        "ans: Entropy=−∑p\n",
        "i\n",
        "​\n",
        " log\n",
        "2\n",
        "​\n",
        " (p\n",
        "i\n",
        "​\n",
        " )"
      ],
      "metadata": {
        "id": "80uOpT-TvpzE"
      }
    },
    {
      "cell_type": "markdown",
      "source": [
        "#Question 5: What is Information Gain, and how is it used in Decision Trees"
      ],
      "metadata": {
        "id": "47jSl9jxOlbH"
      }
    },
    {
      "cell_type": "markdown",
      "source": [
        "ans: Information Gain is the reduction in entropy after a dataset is split. It helps choose the best feature to split on"
      ],
      "metadata": {
        "id": "CYnr9E3Aw8VT"
      }
    },
    {
      "cell_type": "markdown",
      "source": [
        "#Question 6: What is the difference between Gini Impurity and Entropy"
      ],
      "metadata": {
        "id": "bJ2CHXhsOldd"
      }
    },
    {
      "cell_type": "markdown",
      "source": [
        "ans: Gini is simpler and faster.\n",
        "\n",
        "Entropy is more informative but computationally expensive.\n",
        "\n",
        "Both generally give similar results."
      ],
      "metadata": {
        "id": "lp-k-gxbxA_-"
      }
    },
    {
      "cell_type": "markdown",
      "source": [
        "#Question 7: What is the mathematical explanation behind Decision Trees"
      ],
      "metadata": {
        "id": "52h9wLixOlf6"
      }
    },
    {
      "cell_type": "markdown",
      "source": [
        "ans: Decision Trees use recursive binary splitting based on impurity (Gini or Entropy), forming a tree by selecting the best features that maximize Information Gain."
      ],
      "metadata": {
        "id": "NfUnOIrcxFhU"
      }
    },
    {
      "cell_type": "markdown",
      "source": [
        "#Question 8:  What is Pre-Pruning in Decision Trees"
      ],
      "metadata": {
        "id": "3qWtmb_EOlkx"
      }
    },
    {
      "cell_type": "markdown",
      "source": [
        "ans: Stopping tree growth early using constraints like:\n",
        "\n",
        "max_depth\n",
        "\n",
        "min_samples_split"
      ],
      "metadata": {
        "id": "fbjasAx2xJse"
      }
    },
    {
      "cell_type": "markdown",
      "source": [
        "#Question 9:  What is Post-Pruning in Decision Trees"
      ],
      "metadata": {
        "id": "Qy-96UOlOlnB"
      }
    },
    {
      "cell_type": "markdown",
      "source": [
        "ans: Stopping tree growth early using constraints like:\n",
        "\n",
        "max_depth\n",
        "\n",
        "min_samples_split"
      ],
      "metadata": {
        "id": "MfGfnm-bxNvj"
      }
    },
    {
      "cell_type": "markdown",
      "source": [
        "#Question 10: What is the difference between Pre-Pruning and Post-Pruning"
      ],
      "metadata": {
        "id": "osmuXGvsOlpQ"
      }
    },
    {
      "cell_type": "markdown",
      "source": [
        "ans: Allowing the tree to grow fully and then trimming branches that don’t improve performance (e.g., cost complexity pruning).\n",
        "\n"
      ],
      "metadata": {
        "id": "0ElNMf0xxiaZ"
      }
    },
    {
      "cell_type": "markdown",
      "source": [
        "#Question 11:  What is a Decision Tree Regressor"
      ],
      "metadata": {
        "id": "8wIQr1YLOlwg"
      }
    },
    {
      "cell_type": "markdown",
      "source": [
        "ans: A model that predicts continuous values using decision tree logic by minimizing MSE (Mean Squared Error).\n"
      ],
      "metadata": {
        "id": "jPS9QTxgxnqk"
      }
    },
    {
      "cell_type": "markdown",
      "source": [
        "#Question 12:  What are the advantages and disadvantages of Decision Trees"
      ],
      "metadata": {
        "id": "tz5xuNdSOly0"
      }
    },
    {
      "cell_type": "markdown",
      "source": [
        "ans: Easy to interpret\n",
        "\n",
        "Works with both numerical and categorical data\n",
        "Disadvantages\n",
        "\n",
        "Prone to overfitting\n",
        "\n",
        "Unstable (small changes in data = different tree)"
      ],
      "metadata": {
        "id": "_NylQ1TNyHp1"
      }
    },
    {
      "cell_type": "markdown",
      "source": [
        "#Question 13:  How does a Decision Tree handle missing values"
      ],
      "metadata": {
        "id": "8rXsCg2ZOl1T"
      }
    },
    {
      "cell_type": "markdown",
      "source": [
        "ans: it Can use surrogate splits or imputation before training."
      ],
      "metadata": {
        "id": "VwNoJe9cyVhj"
      }
    },
    {
      "cell_type": "markdown",
      "source": [
        "#Question 14:  How does a Decision Tree handle categorical features"
      ],
      "metadata": {
        "id": "9Ll5yVYAOl3t"
      }
    },
    {
      "cell_type": "markdown",
      "source": [
        "ans: Most libraries convert categorical to numeric (e.g., label encoding).\n",
        "\n",
        "Some tree algorithms (like LightGBM) handle them directly."
      ],
      "metadata": {
        "id": "StJBMtc9ylha"
      }
    },
    {
      "cell_type": "markdown",
      "source": [
        "#Question 15:  What are some real-world applications of Decision Trees"
      ],
      "metadata": {
        "id": "VDVtDNRjOl61"
      }
    },
    {
      "cell_type": "markdown",
      "source": [
        "ans: some real world application :\n",
        "\n",
        "Fraud detection\n",
        "\n",
        "Medical diagnosis\n",
        "\n",
        "Customer churn prediction\n",
        "\n",
        "Credit scoring\n",
        "\n"
      ],
      "metadata": {
        "id": "Pqy8PDscywYc"
      }
    },
    {
      "cell_type": "markdown",
      "source": [
        "# practicle questions:"
      ],
      "metadata": {
        "id": "MsGT3Ds4y3Cc"
      }
    },
    {
      "cell_type": "markdown",
      "source": [
        "#Required library"
      ],
      "metadata": {
        "id": "OwbyK7IQ0Nsv"
      }
    },
    {
      "cell_type": "code",
      "source": [
        "import numpy as np\n",
        "import pandas as pd\n",
        "import matplotlib.pyplot as plt\n",
        "import seaborn as sns\n",
        "from sklearn.datasets import load_iris, fetch_california_housing\n",
        "from sklearn.tree import DecisionTreeClassifier, DecisionTreeRegressor, export_graphviz\n",
        "from sklearn.model_selection import train_test_split, GridSearchCV\n",
        "from sklearn.preprocessing import StandardScaler\n",
        "from sklearn.metrics import accuracy_score, mean_squared_error, classification_report, confusion_matrix\n",
        "from sklearn.pipeline import Pipeline\n",
        "from sklearn.multiclass import OneVsRestClassifier\n",
        "import graphviz\n"
      ],
      "metadata": {
        "id": "gqpyipJB0Lhu"
      },
      "execution_count": 2,
      "outputs": []
    },
    {
      "cell_type": "markdown",
      "source": [
        "#Question 1 :  Write a Python program to train a Decision Tree Classifier on the Iris dataset and print the model accuracy"
      ],
      "metadata": {
        "id": "rSSvvJv8y7Cc"
      }
    },
    {
      "cell_type": "code",
      "source": [
        "iris = load_iris()\n",
        "X_train, X_test, y_train, y_test = train_test_split(iris.data, iris.target, test_size=0.2, random_state=42)\n",
        "\n",
        "clf = DecisionTreeClassifier()\n",
        "clf.fit(X_train, y_train)\n",
        "y_pred = clf.predict(X_test)\n",
        "print(\"Accuracy:\", accuracy_score(y_test, y_pred))\n"
      ],
      "metadata": {
        "colab": {
          "base_uri": "https://localhost:8080/"
        },
        "id": "DW_koKX60WHB",
        "outputId": "dd7a6071-7f8e-46a9-fb67-9fa514db2403"
      },
      "execution_count": 3,
      "outputs": [
        {
          "output_type": "stream",
          "name": "stdout",
          "text": [
            "Accuracy: 1.0\n"
          ]
        }
      ]
    },
    {
      "cell_type": "markdown",
      "source": [
        "#Question 2 : Write a Python program to train a Decision Tree Classifier using Gini Impurity as the criterion and print the feature importances"
      ],
      "metadata": {
        "id": "vGd-WWdLy9yn"
      }
    },
    {
      "cell_type": "code",
      "source": [
        "clf_gini = DecisionTreeClassifier(criterion='gini')\n",
        "clf_gini.fit(X_train, y_train)\n",
        "print(\"Feature Importances (Gini):\", clf_gini.feature_importances_)\n"
      ],
      "metadata": {
        "colab": {
          "base_uri": "https://localhost:8080/"
        },
        "id": "nOWrjFQl0oMv",
        "outputId": "7ba3e684-7e12-435c-be73-5cbbe8266793"
      },
      "execution_count": 4,
      "outputs": [
        {
          "output_type": "stream",
          "name": "stdout",
          "text": [
            "Feature Importances (Gini): [0.01667014 0.01667014 0.38926487 0.57739485]\n"
          ]
        }
      ]
    },
    {
      "cell_type": "markdown",
      "source": [
        "#Question 3 :  Write a Python program to train a Decision Tree Classifier using Entropy as the splitting criterion and print the model accuracy"
      ],
      "metadata": {
        "id": "cDbywCH-y911"
      }
    },
    {
      "cell_type": "code",
      "source": [
        "clf_entropy = DecisionTreeClassifier(criterion='entropy')\n",
        "clf_entropy.fit(X_train, y_train)\n",
        "y_pred_entropy = clf_entropy.predict(X_test)\n",
        "print(\"Accuracy (Entropy):\", accuracy_score(y_test, y_pred_entropy))\n"
      ],
      "metadata": {
        "colab": {
          "base_uri": "https://localhost:8080/"
        },
        "id": "OTj7iZfJ1-8f",
        "outputId": "552a61a8-2554-47f3-a145-0e5430d29d92"
      },
      "execution_count": 5,
      "outputs": [
        {
          "output_type": "stream",
          "name": "stdout",
          "text": [
            "Accuracy (Entropy): 1.0\n"
          ]
        }
      ]
    },
    {
      "cell_type": "markdown",
      "source": [
        "#Question 4  :   Write a Python program to train a Decision Tree Regressor on a housing dataset and evaluate using Mean Squared Error (MSE)"
      ],
      "metadata": {
        "id": "7eDOIwOKy94Z"
      }
    },
    {
      "cell_type": "code",
      "source": [
        "housing = fetch_california_housing()\n",
        "Xh_train, Xh_test, yh_train, yh_test = train_test_split(housing.data, housing.target, test_size=0.2, random_state=42)\n",
        "\n",
        "reg = DecisionTreeRegressor()\n",
        "reg.fit(Xh_train, yh_train)\n",
        "y_pred_reg = reg.predict(Xh_test)\n",
        "print(\"MSE:\", mean_squared_error(yh_test, y_pred_reg))\n"
      ],
      "metadata": {
        "colab": {
          "base_uri": "https://localhost:8080/"
        },
        "id": "zcAazddC2F00",
        "outputId": "cc434451-001d-42c8-d73d-9f1476432ef0"
      },
      "execution_count": 6,
      "outputs": [
        {
          "output_type": "stream",
          "name": "stdout",
          "text": [
            "MSE: 0.4931871917192345\n"
          ]
        }
      ]
    },
    {
      "cell_type": "markdown",
      "source": [
        "#Question 5 :  Write a Python program to train a Decision Tree Classifier and visualize the tree using graphviz"
      ],
      "metadata": {
        "id": "fONUn1ZUy99Y"
      }
    },
    {
      "cell_type": "code",
      "source": [
        "dot_data = export_graphviz(clf, out_file=None,\n",
        "                           feature_names=iris.feature_names,\n",
        "                           class_names=iris.target_names,\n",
        "                           filled=True, rounded=True)\n",
        "graph = graphviz.Source(dot_data)\n",
        "graph.render(\"iris_tree\", format=\"png\", cleanup=False)\n",
        "graph\n"
      ],
      "metadata": {
        "colab": {
          "base_uri": "https://localhost:8080/",
          "height": 1000
        },
        "id": "x_o7Kl6s2JSa",
        "outputId": "1de104c0-708d-4530-a590-e360a2709092"
      },
      "execution_count": 7,
      "outputs": [
        {
          "output_type": "execute_result",
          "data": {
            "image/svg+xml": "<?xml version=\"1.0\" encoding=\"UTF-8\" standalone=\"no\"?>\n<!DOCTYPE svg PUBLIC \"-//W3C//DTD SVG 1.1//EN\"\n \"http://www.w3.org/Graphics/SVG/1.1/DTD/svg11.dtd\">\n<!-- Generated by graphviz version 2.43.0 (0)\n -->\n<!-- Title: Tree Pages: 1 -->\n<svg width=\"772pt\" height=\"790pt\"\n viewBox=\"0.00 0.00 772.00 790.00\" xmlns=\"http://www.w3.org/2000/svg\" xmlns:xlink=\"http://www.w3.org/1999/xlink\">\n<g id=\"graph0\" class=\"graph\" transform=\"scale(1 1) rotate(0) translate(4 786)\">\n<title>Tree</title>\n<polygon fill=\"white\" stroke=\"transparent\" points=\"-4,4 -4,-786 768,-786 768,4 -4,4\"/>\n<!-- 0 -->\n<g id=\"node1\" class=\"node\">\n<title>0</title>\n<path fill=\"#fdfffd\" stroke=\"black\" d=\"M264,-782C264,-782 133,-782 133,-782 127,-782 121,-776 121,-770 121,-770 121,-711 121,-711 121,-705 127,-699 133,-699 133,-699 264,-699 264,-699 270,-699 276,-705 276,-711 276,-711 276,-770 276,-770 276,-776 270,-782 264,-782\"/>\n<text text-anchor=\"middle\" x=\"198.5\" y=\"-766.8\" font-family=\"Helvetica,sans-Serif\" font-size=\"14.00\">petal width (cm) &lt;= 0.8</text>\n<text text-anchor=\"middle\" x=\"198.5\" y=\"-751.8\" font-family=\"Helvetica,sans-Serif\" font-size=\"14.00\">gini = 0.667</text>\n<text text-anchor=\"middle\" x=\"198.5\" y=\"-736.8\" font-family=\"Helvetica,sans-Serif\" font-size=\"14.00\">samples = 120</text>\n<text text-anchor=\"middle\" x=\"198.5\" y=\"-721.8\" font-family=\"Helvetica,sans-Serif\" font-size=\"14.00\">value = [40, 41, 39]</text>\n<text text-anchor=\"middle\" x=\"198.5\" y=\"-706.8\" font-family=\"Helvetica,sans-Serif\" font-size=\"14.00\">class = versicolor</text>\n</g>\n<!-- 1 -->\n<g id=\"node2\" class=\"node\">\n<title>1</title>\n<path fill=\"#e58139\" stroke=\"black\" d=\"M165,-655.5C165,-655.5 72,-655.5 72,-655.5 66,-655.5 60,-649.5 60,-643.5 60,-643.5 60,-599.5 60,-599.5 60,-593.5 66,-587.5 72,-587.5 72,-587.5 165,-587.5 165,-587.5 171,-587.5 177,-593.5 177,-599.5 177,-599.5 177,-643.5 177,-643.5 177,-649.5 171,-655.5 165,-655.5\"/>\n<text text-anchor=\"middle\" x=\"118.5\" y=\"-640.3\" font-family=\"Helvetica,sans-Serif\" font-size=\"14.00\">gini = 0.0</text>\n<text text-anchor=\"middle\" x=\"118.5\" y=\"-625.3\" font-family=\"Helvetica,sans-Serif\" font-size=\"14.00\">samples = 40</text>\n<text text-anchor=\"middle\" x=\"118.5\" y=\"-610.3\" font-family=\"Helvetica,sans-Serif\" font-size=\"14.00\">value = [40, 0, 0]</text>\n<text text-anchor=\"middle\" x=\"118.5\" y=\"-595.3\" font-family=\"Helvetica,sans-Serif\" font-size=\"14.00\">class = setosa</text>\n</g>\n<!-- 0&#45;&gt;1 -->\n<g id=\"edge1\" class=\"edge\">\n<title>0&#45;&gt;1</title>\n<path fill=\"none\" stroke=\"black\" d=\"M170.74,-698.91C163.05,-687.65 154.68,-675.42 146.95,-664.11\"/>\n<polygon fill=\"black\" stroke=\"black\" points=\"149.71,-661.95 141.18,-655.67 143.93,-665.9 149.71,-661.95\"/>\n<text text-anchor=\"middle\" x=\"136.56\" y=\"-676.54\" font-family=\"Helvetica,sans-Serif\" font-size=\"14.00\">True</text>\n</g>\n<!-- 2 -->\n<g id=\"node3\" class=\"node\">\n<title>2</title>\n<path fill=\"#f5fef9\" stroke=\"black\" d=\"M351.5,-663C351.5,-663 207.5,-663 207.5,-663 201.5,-663 195.5,-657 195.5,-651 195.5,-651 195.5,-592 195.5,-592 195.5,-586 201.5,-580 207.5,-580 207.5,-580 351.5,-580 351.5,-580 357.5,-580 363.5,-586 363.5,-592 363.5,-592 363.5,-651 363.5,-651 363.5,-657 357.5,-663 351.5,-663\"/>\n<text text-anchor=\"middle\" x=\"279.5\" y=\"-647.8\" font-family=\"Helvetica,sans-Serif\" font-size=\"14.00\">petal length (cm) &lt;= 4.75</text>\n<text text-anchor=\"middle\" x=\"279.5\" y=\"-632.8\" font-family=\"Helvetica,sans-Serif\" font-size=\"14.00\">gini = 0.5</text>\n<text text-anchor=\"middle\" x=\"279.5\" y=\"-617.8\" font-family=\"Helvetica,sans-Serif\" font-size=\"14.00\">samples = 80</text>\n<text text-anchor=\"middle\" x=\"279.5\" y=\"-602.8\" font-family=\"Helvetica,sans-Serif\" font-size=\"14.00\">value = [0, 41, 39]</text>\n<text text-anchor=\"middle\" x=\"279.5\" y=\"-587.8\" font-family=\"Helvetica,sans-Serif\" font-size=\"14.00\">class = versicolor</text>\n</g>\n<!-- 0&#45;&gt;2 -->\n<g id=\"edge2\" class=\"edge\">\n<title>0&#45;&gt;2</title>\n<path fill=\"none\" stroke=\"black\" d=\"M226.6,-698.91C232.76,-690.01 239.34,-680.51 245.69,-671.33\"/>\n<polygon fill=\"black\" stroke=\"black\" points=\"248.63,-673.24 251.45,-663.02 242.88,-669.25 248.63,-673.24\"/>\n<text text-anchor=\"middle\" x=\"255.92\" y=\"-683.92\" font-family=\"Helvetica,sans-Serif\" font-size=\"14.00\">False</text>\n</g>\n<!-- 3 -->\n<g id=\"node4\" class=\"node\">\n<title>3</title>\n<path fill=\"#3ee684\" stroke=\"black\" d=\"M259,-544C259,-544 120,-544 120,-544 114,-544 108,-538 108,-532 108,-532 108,-473 108,-473 108,-467 114,-461 120,-461 120,-461 259,-461 259,-461 265,-461 271,-467 271,-473 271,-473 271,-532 271,-532 271,-538 265,-544 259,-544\"/>\n<text text-anchor=\"middle\" x=\"189.5\" y=\"-528.8\" font-family=\"Helvetica,sans-Serif\" font-size=\"14.00\">petal width (cm) &lt;= 1.65</text>\n<text text-anchor=\"middle\" x=\"189.5\" y=\"-513.8\" font-family=\"Helvetica,sans-Serif\" font-size=\"14.00\">gini = 0.053</text>\n<text text-anchor=\"middle\" x=\"189.5\" y=\"-498.8\" font-family=\"Helvetica,sans-Serif\" font-size=\"14.00\">samples = 37</text>\n<text text-anchor=\"middle\" x=\"189.5\" y=\"-483.8\" font-family=\"Helvetica,sans-Serif\" font-size=\"14.00\">value = [0, 36, 1]</text>\n<text text-anchor=\"middle\" x=\"189.5\" y=\"-468.8\" font-family=\"Helvetica,sans-Serif\" font-size=\"14.00\">class = versicolor</text>\n</g>\n<!-- 2&#45;&gt;3 -->\n<g id=\"edge3\" class=\"edge\">\n<title>2&#45;&gt;3</title>\n<path fill=\"none\" stroke=\"black\" d=\"M248.27,-579.91C241.36,-570.92 233.97,-561.32 226.85,-552.05\"/>\n<polygon fill=\"black\" stroke=\"black\" points=\"229.54,-549.81 220.67,-544.02 223.99,-554.08 229.54,-549.81\"/>\n</g>\n<!-- 6 -->\n<g id=\"node7\" class=\"node\">\n<title>6</title>\n<path fill=\"#9253e8\" stroke=\"black\" d=\"M440,-544C440,-544 301,-544 301,-544 295,-544 289,-538 289,-532 289,-532 289,-473 289,-473 289,-467 295,-461 301,-461 301,-461 440,-461 440,-461 446,-461 452,-467 452,-473 452,-473 452,-532 452,-532 452,-538 446,-544 440,-544\"/>\n<text text-anchor=\"middle\" x=\"370.5\" y=\"-528.8\" font-family=\"Helvetica,sans-Serif\" font-size=\"14.00\">petal width (cm) &lt;= 1.75</text>\n<text text-anchor=\"middle\" x=\"370.5\" y=\"-513.8\" font-family=\"Helvetica,sans-Serif\" font-size=\"14.00\">gini = 0.206</text>\n<text text-anchor=\"middle\" x=\"370.5\" y=\"-498.8\" font-family=\"Helvetica,sans-Serif\" font-size=\"14.00\">samples = 43</text>\n<text text-anchor=\"middle\" x=\"370.5\" y=\"-483.8\" font-family=\"Helvetica,sans-Serif\" font-size=\"14.00\">value = [0, 5, 38]</text>\n<text text-anchor=\"middle\" x=\"370.5\" y=\"-468.8\" font-family=\"Helvetica,sans-Serif\" font-size=\"14.00\">class = virginica</text>\n</g>\n<!-- 2&#45;&gt;6 -->\n<g id=\"edge6\" class=\"edge\">\n<title>2&#45;&gt;6</title>\n<path fill=\"none\" stroke=\"black\" d=\"M311.07,-579.91C318.06,-570.92 325.53,-561.32 332.74,-552.05\"/>\n<polygon fill=\"black\" stroke=\"black\" points=\"335.61,-554.06 338.98,-544.02 330.08,-549.77 335.61,-554.06\"/>\n</g>\n<!-- 4 -->\n<g id=\"node5\" class=\"node\">\n<title>4</title>\n<path fill=\"#39e581\" stroke=\"black\" d=\"M109,-417.5C109,-417.5 12,-417.5 12,-417.5 6,-417.5 0,-411.5 0,-405.5 0,-405.5 0,-361.5 0,-361.5 0,-355.5 6,-349.5 12,-349.5 12,-349.5 109,-349.5 109,-349.5 115,-349.5 121,-355.5 121,-361.5 121,-361.5 121,-405.5 121,-405.5 121,-411.5 115,-417.5 109,-417.5\"/>\n<text text-anchor=\"middle\" x=\"60.5\" y=\"-402.3\" font-family=\"Helvetica,sans-Serif\" font-size=\"14.00\">gini = 0.0</text>\n<text text-anchor=\"middle\" x=\"60.5\" y=\"-387.3\" font-family=\"Helvetica,sans-Serif\" font-size=\"14.00\">samples = 36</text>\n<text text-anchor=\"middle\" x=\"60.5\" y=\"-372.3\" font-family=\"Helvetica,sans-Serif\" font-size=\"14.00\">value = [0, 36, 0]</text>\n<text text-anchor=\"middle\" x=\"60.5\" y=\"-357.3\" font-family=\"Helvetica,sans-Serif\" font-size=\"14.00\">class = versicolor</text>\n</g>\n<!-- 3&#45;&gt;4 -->\n<g id=\"edge4\" class=\"edge\">\n<title>3&#45;&gt;4</title>\n<path fill=\"none\" stroke=\"black\" d=\"M144.74,-460.91C131.73,-449.1 117.52,-436.22 104.55,-424.45\"/>\n<polygon fill=\"black\" stroke=\"black\" points=\"106.83,-421.79 97.07,-417.67 102.12,-426.98 106.83,-421.79\"/>\n</g>\n<!-- 5 -->\n<g id=\"node6\" class=\"node\">\n<title>5</title>\n<path fill=\"#8139e5\" stroke=\"black\" d=\"M240,-417.5C240,-417.5 151,-417.5 151,-417.5 145,-417.5 139,-411.5 139,-405.5 139,-405.5 139,-361.5 139,-361.5 139,-355.5 145,-349.5 151,-349.5 151,-349.5 240,-349.5 240,-349.5 246,-349.5 252,-355.5 252,-361.5 252,-361.5 252,-405.5 252,-405.5 252,-411.5 246,-417.5 240,-417.5\"/>\n<text text-anchor=\"middle\" x=\"195.5\" y=\"-402.3\" font-family=\"Helvetica,sans-Serif\" font-size=\"14.00\">gini = 0.0</text>\n<text text-anchor=\"middle\" x=\"195.5\" y=\"-387.3\" font-family=\"Helvetica,sans-Serif\" font-size=\"14.00\">samples = 1</text>\n<text text-anchor=\"middle\" x=\"195.5\" y=\"-372.3\" font-family=\"Helvetica,sans-Serif\" font-size=\"14.00\">value = [0, 0, 1]</text>\n<text text-anchor=\"middle\" x=\"195.5\" y=\"-357.3\" font-family=\"Helvetica,sans-Serif\" font-size=\"14.00\">class = virginica</text>\n</g>\n<!-- 3&#45;&gt;5 -->\n<g id=\"edge5\" class=\"edge\">\n<title>3&#45;&gt;5</title>\n<path fill=\"none\" stroke=\"black\" d=\"M191.58,-460.91C192.13,-450.2 192.72,-438.62 193.28,-427.78\"/>\n<polygon fill=\"black\" stroke=\"black\" points=\"196.78,-427.83 193.8,-417.67 189.79,-427.47 196.78,-427.83\"/>\n</g>\n<!-- 7 -->\n<g id=\"node8\" class=\"node\">\n<title>7</title>\n<path fill=\"#ffffff\" stroke=\"black\" d=\"M437.5,-425C437.5,-425 293.5,-425 293.5,-425 287.5,-425 281.5,-419 281.5,-413 281.5,-413 281.5,-354 281.5,-354 281.5,-348 287.5,-342 293.5,-342 293.5,-342 437.5,-342 437.5,-342 443.5,-342 449.5,-348 449.5,-354 449.5,-354 449.5,-413 449.5,-413 449.5,-419 443.5,-425 437.5,-425\"/>\n<text text-anchor=\"middle\" x=\"365.5\" y=\"-409.8\" font-family=\"Helvetica,sans-Serif\" font-size=\"14.00\">petal length (cm) &lt;= 4.95</text>\n<text text-anchor=\"middle\" x=\"365.5\" y=\"-394.8\" font-family=\"Helvetica,sans-Serif\" font-size=\"14.00\">gini = 0.5</text>\n<text text-anchor=\"middle\" x=\"365.5\" y=\"-379.8\" font-family=\"Helvetica,sans-Serif\" font-size=\"14.00\">samples = 8</text>\n<text text-anchor=\"middle\" x=\"365.5\" y=\"-364.8\" font-family=\"Helvetica,sans-Serif\" font-size=\"14.00\">value = [0, 4, 4]</text>\n<text text-anchor=\"middle\" x=\"365.5\" y=\"-349.8\" font-family=\"Helvetica,sans-Serif\" font-size=\"14.00\">class = versicolor</text>\n</g>\n<!-- 6&#45;&gt;7 -->\n<g id=\"edge7\" class=\"edge\">\n<title>6&#45;&gt;7</title>\n<path fill=\"none\" stroke=\"black\" d=\"M368.77,-460.91C368.41,-452.56 368.03,-443.67 367.66,-435.02\"/>\n<polygon fill=\"black\" stroke=\"black\" points=\"371.16,-434.86 367.23,-425.02 364.16,-435.16 371.16,-434.86\"/>\n</g>\n<!-- 14 -->\n<g id=\"node15\" class=\"node\">\n<title>14</title>\n<path fill=\"#853fe6\" stroke=\"black\" d=\"M623.5,-425C623.5,-425 479.5,-425 479.5,-425 473.5,-425 467.5,-419 467.5,-413 467.5,-413 467.5,-354 467.5,-354 467.5,-348 473.5,-342 479.5,-342 479.5,-342 623.5,-342 623.5,-342 629.5,-342 635.5,-348 635.5,-354 635.5,-354 635.5,-413 635.5,-413 635.5,-419 629.5,-425 623.5,-425\"/>\n<text text-anchor=\"middle\" x=\"551.5\" y=\"-409.8\" font-family=\"Helvetica,sans-Serif\" font-size=\"14.00\">petal length (cm) &lt;= 4.85</text>\n<text text-anchor=\"middle\" x=\"551.5\" y=\"-394.8\" font-family=\"Helvetica,sans-Serif\" font-size=\"14.00\">gini = 0.056</text>\n<text text-anchor=\"middle\" x=\"551.5\" y=\"-379.8\" font-family=\"Helvetica,sans-Serif\" font-size=\"14.00\">samples = 35</text>\n<text text-anchor=\"middle\" x=\"551.5\" y=\"-364.8\" font-family=\"Helvetica,sans-Serif\" font-size=\"14.00\">value = [0, 1, 34]</text>\n<text text-anchor=\"middle\" x=\"551.5\" y=\"-349.8\" font-family=\"Helvetica,sans-Serif\" font-size=\"14.00\">class = virginica</text>\n</g>\n<!-- 6&#45;&gt;14 -->\n<g id=\"edge14\" class=\"edge\">\n<title>6&#45;&gt;14</title>\n<path fill=\"none\" stroke=\"black\" d=\"M433.3,-460.91C448.46,-451.11 464.77,-440.56 480.29,-430.53\"/>\n<polygon fill=\"black\" stroke=\"black\" points=\"482.32,-433.39 488.81,-425.02 478.52,-427.51 482.32,-433.39\"/>\n</g>\n<!-- 8 -->\n<g id=\"node9\" class=\"node\">\n<title>8</title>\n<path fill=\"#39e581\" stroke=\"black\" d=\"M257,-298.5C257,-298.5 160,-298.5 160,-298.5 154,-298.5 148,-292.5 148,-286.5 148,-286.5 148,-242.5 148,-242.5 148,-236.5 154,-230.5 160,-230.5 160,-230.5 257,-230.5 257,-230.5 263,-230.5 269,-236.5 269,-242.5 269,-242.5 269,-286.5 269,-286.5 269,-292.5 263,-298.5 257,-298.5\"/>\n<text text-anchor=\"middle\" x=\"208.5\" y=\"-283.3\" font-family=\"Helvetica,sans-Serif\" font-size=\"14.00\">gini = 0.0</text>\n<text text-anchor=\"middle\" x=\"208.5\" y=\"-268.3\" font-family=\"Helvetica,sans-Serif\" font-size=\"14.00\">samples = 2</text>\n<text text-anchor=\"middle\" x=\"208.5\" y=\"-253.3\" font-family=\"Helvetica,sans-Serif\" font-size=\"14.00\">value = [0, 2, 0]</text>\n<text text-anchor=\"middle\" x=\"208.5\" y=\"-238.3\" font-family=\"Helvetica,sans-Serif\" font-size=\"14.00\">class = versicolor</text>\n</g>\n<!-- 7&#45;&gt;8 -->\n<g id=\"edge8\" class=\"edge\">\n<title>7&#45;&gt;8</title>\n<path fill=\"none\" stroke=\"black\" d=\"M311.03,-341.91C294.89,-329.88 277.25,-316.73 261.22,-304.79\"/>\n<polygon fill=\"black\" stroke=\"black\" points=\"263.12,-301.84 253.01,-298.67 258.93,-307.45 263.12,-301.84\"/>\n</g>\n<!-- 9 -->\n<g id=\"node10\" class=\"node\">\n<title>9</title>\n<path fill=\"#c09cf2\" stroke=\"black\" d=\"M438,-306C438,-306 299,-306 299,-306 293,-306 287,-300 287,-294 287,-294 287,-235 287,-235 287,-229 293,-223 299,-223 299,-223 438,-223 438,-223 444,-223 450,-229 450,-235 450,-235 450,-294 450,-294 450,-300 444,-306 438,-306\"/>\n<text text-anchor=\"middle\" x=\"368.5\" y=\"-290.8\" font-family=\"Helvetica,sans-Serif\" font-size=\"14.00\">petal width (cm) &lt;= 1.55</text>\n<text text-anchor=\"middle\" x=\"368.5\" y=\"-275.8\" font-family=\"Helvetica,sans-Serif\" font-size=\"14.00\">gini = 0.444</text>\n<text text-anchor=\"middle\" x=\"368.5\" y=\"-260.8\" font-family=\"Helvetica,sans-Serif\" font-size=\"14.00\">samples = 6</text>\n<text text-anchor=\"middle\" x=\"368.5\" y=\"-245.8\" font-family=\"Helvetica,sans-Serif\" font-size=\"14.00\">value = [0, 2, 4]</text>\n<text text-anchor=\"middle\" x=\"368.5\" y=\"-230.8\" font-family=\"Helvetica,sans-Serif\" font-size=\"14.00\">class = virginica</text>\n</g>\n<!-- 7&#45;&gt;9 -->\n<g id=\"edge9\" class=\"edge\">\n<title>7&#45;&gt;9</title>\n<path fill=\"none\" stroke=\"black\" d=\"M366.54,-341.91C366.75,-333.56 366.98,-324.67 367.2,-316.02\"/>\n<polygon fill=\"black\" stroke=\"black\" points=\"370.7,-316.11 367.46,-306.02 363.71,-315.93 370.7,-316.11\"/>\n</g>\n<!-- 10 -->\n<g id=\"node11\" class=\"node\">\n<title>10</title>\n<path fill=\"#8139e5\" stroke=\"black\" d=\"M259,-179.5C259,-179.5 170,-179.5 170,-179.5 164,-179.5 158,-173.5 158,-167.5 158,-167.5 158,-123.5 158,-123.5 158,-117.5 164,-111.5 170,-111.5 170,-111.5 259,-111.5 259,-111.5 265,-111.5 271,-117.5 271,-123.5 271,-123.5 271,-167.5 271,-167.5 271,-173.5 265,-179.5 259,-179.5\"/>\n<text text-anchor=\"middle\" x=\"214.5\" y=\"-164.3\" font-family=\"Helvetica,sans-Serif\" font-size=\"14.00\">gini = 0.0</text>\n<text text-anchor=\"middle\" x=\"214.5\" y=\"-149.3\" font-family=\"Helvetica,sans-Serif\" font-size=\"14.00\">samples = 3</text>\n<text text-anchor=\"middle\" x=\"214.5\" y=\"-134.3\" font-family=\"Helvetica,sans-Serif\" font-size=\"14.00\">value = [0, 0, 3]</text>\n<text text-anchor=\"middle\" x=\"214.5\" y=\"-119.3\" font-family=\"Helvetica,sans-Serif\" font-size=\"14.00\">class = virginica</text>\n</g>\n<!-- 9&#45;&gt;10 -->\n<g id=\"edge10\" class=\"edge\">\n<title>9&#45;&gt;10</title>\n<path fill=\"none\" stroke=\"black\" d=\"M315.07,-222.91C299.24,-210.88 281.94,-197.73 266.22,-185.79\"/>\n<polygon fill=\"black\" stroke=\"black\" points=\"268.24,-182.93 258.16,-179.67 264,-188.5 268.24,-182.93\"/>\n</g>\n<!-- 11 -->\n<g id=\"node12\" class=\"node\">\n<title>11</title>\n<path fill=\"#9cf2c0\" stroke=\"black\" d=\"M445.5,-187C445.5,-187 301.5,-187 301.5,-187 295.5,-187 289.5,-181 289.5,-175 289.5,-175 289.5,-116 289.5,-116 289.5,-110 295.5,-104 301.5,-104 301.5,-104 445.5,-104 445.5,-104 451.5,-104 457.5,-110 457.5,-116 457.5,-116 457.5,-175 457.5,-175 457.5,-181 451.5,-187 445.5,-187\"/>\n<text text-anchor=\"middle\" x=\"373.5\" y=\"-171.8\" font-family=\"Helvetica,sans-Serif\" font-size=\"14.00\">petal length (cm) &lt;= 5.45</text>\n<text text-anchor=\"middle\" x=\"373.5\" y=\"-156.8\" font-family=\"Helvetica,sans-Serif\" font-size=\"14.00\">gini = 0.444</text>\n<text text-anchor=\"middle\" x=\"373.5\" y=\"-141.8\" font-family=\"Helvetica,sans-Serif\" font-size=\"14.00\">samples = 3</text>\n<text text-anchor=\"middle\" x=\"373.5\" y=\"-126.8\" font-family=\"Helvetica,sans-Serif\" font-size=\"14.00\">value = [0, 2, 1]</text>\n<text text-anchor=\"middle\" x=\"373.5\" y=\"-111.8\" font-family=\"Helvetica,sans-Serif\" font-size=\"14.00\">class = versicolor</text>\n</g>\n<!-- 9&#45;&gt;11 -->\n<g id=\"edge11\" class=\"edge\">\n<title>9&#45;&gt;11</title>\n<path fill=\"none\" stroke=\"black\" d=\"M370.23,-222.91C370.59,-214.56 370.97,-205.67 371.34,-197.02\"/>\n<polygon fill=\"black\" stroke=\"black\" points=\"374.84,-197.16 371.77,-187.02 367.84,-196.86 374.84,-197.16\"/>\n</g>\n<!-- 12 -->\n<g id=\"node13\" class=\"node\">\n<title>12</title>\n<path fill=\"#39e581\" stroke=\"black\" d=\"M355,-68C355,-68 258,-68 258,-68 252,-68 246,-62 246,-56 246,-56 246,-12 246,-12 246,-6 252,0 258,0 258,0 355,0 355,0 361,0 367,-6 367,-12 367,-12 367,-56 367,-56 367,-62 361,-68 355,-68\"/>\n<text text-anchor=\"middle\" x=\"306.5\" y=\"-52.8\" font-family=\"Helvetica,sans-Serif\" font-size=\"14.00\">gini = 0.0</text>\n<text text-anchor=\"middle\" x=\"306.5\" y=\"-37.8\" font-family=\"Helvetica,sans-Serif\" font-size=\"14.00\">samples = 2</text>\n<text text-anchor=\"middle\" x=\"306.5\" y=\"-22.8\" font-family=\"Helvetica,sans-Serif\" font-size=\"14.00\">value = [0, 2, 0]</text>\n<text text-anchor=\"middle\" x=\"306.5\" y=\"-7.8\" font-family=\"Helvetica,sans-Serif\" font-size=\"14.00\">class = versicolor</text>\n</g>\n<!-- 11&#45;&gt;12 -->\n<g id=\"edge12\" class=\"edge\">\n<title>11&#45;&gt;12</title>\n<path fill=\"none\" stroke=\"black\" d=\"M348.55,-103.73C343.19,-94.97 337.52,-85.7 332.14,-76.91\"/>\n<polygon fill=\"black\" stroke=\"black\" points=\"335.08,-75 326.88,-68.3 329.11,-78.66 335.08,-75\"/>\n</g>\n<!-- 13 -->\n<g id=\"node14\" class=\"node\">\n<title>13</title>\n<path fill=\"#8139e5\" stroke=\"black\" d=\"M486,-68C486,-68 397,-68 397,-68 391,-68 385,-62 385,-56 385,-56 385,-12 385,-12 385,-6 391,0 397,0 397,0 486,0 486,0 492,0 498,-6 498,-12 498,-12 498,-56 498,-56 498,-62 492,-68 486,-68\"/>\n<text text-anchor=\"middle\" x=\"441.5\" y=\"-52.8\" font-family=\"Helvetica,sans-Serif\" font-size=\"14.00\">gini = 0.0</text>\n<text text-anchor=\"middle\" x=\"441.5\" y=\"-37.8\" font-family=\"Helvetica,sans-Serif\" font-size=\"14.00\">samples = 1</text>\n<text text-anchor=\"middle\" x=\"441.5\" y=\"-22.8\" font-family=\"Helvetica,sans-Serif\" font-size=\"14.00\">value = [0, 0, 1]</text>\n<text text-anchor=\"middle\" x=\"441.5\" y=\"-7.8\" font-family=\"Helvetica,sans-Serif\" font-size=\"14.00\">class = virginica</text>\n</g>\n<!-- 11&#45;&gt;13 -->\n<g id=\"edge13\" class=\"edge\">\n<title>11&#45;&gt;13</title>\n<path fill=\"none\" stroke=\"black\" d=\"M398.82,-103.73C404.26,-94.97 410.01,-85.7 415.48,-76.91\"/>\n<polygon fill=\"black\" stroke=\"black\" points=\"418.52,-78.64 420.82,-68.3 412.57,-74.95 418.52,-78.64\"/>\n</g>\n<!-- 15 -->\n<g id=\"node16\" class=\"node\">\n<title>15</title>\n<path fill=\"#c09cf2\" stroke=\"black\" d=\"M616.5,-306C616.5,-306 482.5,-306 482.5,-306 476.5,-306 470.5,-300 470.5,-294 470.5,-294 470.5,-235 470.5,-235 470.5,-229 476.5,-223 482.5,-223 482.5,-223 616.5,-223 616.5,-223 622.5,-223 628.5,-229 628.5,-235 628.5,-235 628.5,-294 628.5,-294 628.5,-300 622.5,-306 616.5,-306\"/>\n<text text-anchor=\"middle\" x=\"549.5\" y=\"-290.8\" font-family=\"Helvetica,sans-Serif\" font-size=\"14.00\">sepal width (cm) &lt;= 3.1</text>\n<text text-anchor=\"middle\" x=\"549.5\" y=\"-275.8\" font-family=\"Helvetica,sans-Serif\" font-size=\"14.00\">gini = 0.444</text>\n<text text-anchor=\"middle\" x=\"549.5\" y=\"-260.8\" font-family=\"Helvetica,sans-Serif\" font-size=\"14.00\">samples = 3</text>\n<text text-anchor=\"middle\" x=\"549.5\" y=\"-245.8\" font-family=\"Helvetica,sans-Serif\" font-size=\"14.00\">value = [0, 1, 2]</text>\n<text text-anchor=\"middle\" x=\"549.5\" y=\"-230.8\" font-family=\"Helvetica,sans-Serif\" font-size=\"14.00\">class = virginica</text>\n</g>\n<!-- 14&#45;&gt;15 -->\n<g id=\"edge15\" class=\"edge\">\n<title>14&#45;&gt;15</title>\n<path fill=\"none\" stroke=\"black\" d=\"M550.81,-341.91C550.66,-333.56 550.51,-324.67 550.36,-316.02\"/>\n<polygon fill=\"black\" stroke=\"black\" points=\"553.86,-315.96 550.19,-306.02 546.86,-316.08 553.86,-315.96\"/>\n</g>\n<!-- 18 -->\n<g id=\"node19\" class=\"node\">\n<title>18</title>\n<path fill=\"#8139e5\" stroke=\"black\" d=\"M752,-298.5C752,-298.5 659,-298.5 659,-298.5 653,-298.5 647,-292.5 647,-286.5 647,-286.5 647,-242.5 647,-242.5 647,-236.5 653,-230.5 659,-230.5 659,-230.5 752,-230.5 752,-230.5 758,-230.5 764,-236.5 764,-242.5 764,-242.5 764,-286.5 764,-286.5 764,-292.5 758,-298.5 752,-298.5\"/>\n<text text-anchor=\"middle\" x=\"705.5\" y=\"-283.3\" font-family=\"Helvetica,sans-Serif\" font-size=\"14.00\">gini = 0.0</text>\n<text text-anchor=\"middle\" x=\"705.5\" y=\"-268.3\" font-family=\"Helvetica,sans-Serif\" font-size=\"14.00\">samples = 32</text>\n<text text-anchor=\"middle\" x=\"705.5\" y=\"-253.3\" font-family=\"Helvetica,sans-Serif\" font-size=\"14.00\">value = [0, 0, 32]</text>\n<text text-anchor=\"middle\" x=\"705.5\" y=\"-238.3\" font-family=\"Helvetica,sans-Serif\" font-size=\"14.00\">class = virginica</text>\n</g>\n<!-- 14&#45;&gt;18 -->\n<g id=\"edge18\" class=\"edge\">\n<title>14&#45;&gt;18</title>\n<path fill=\"none\" stroke=\"black\" d=\"M604.93,-341.91C620.76,-329.88 638.06,-316.73 653.78,-304.79\"/>\n<polygon fill=\"black\" stroke=\"black\" points=\"656,-307.5 661.84,-298.67 651.76,-301.93 656,-307.5\"/>\n</g>\n<!-- 16 -->\n<g id=\"node17\" class=\"node\">\n<title>16</title>\n<path fill=\"#8139e5\" stroke=\"black\" d=\"M590,-179.5C590,-179.5 501,-179.5 501,-179.5 495,-179.5 489,-173.5 489,-167.5 489,-167.5 489,-123.5 489,-123.5 489,-117.5 495,-111.5 501,-111.5 501,-111.5 590,-111.5 590,-111.5 596,-111.5 602,-117.5 602,-123.5 602,-123.5 602,-167.5 602,-167.5 602,-173.5 596,-179.5 590,-179.5\"/>\n<text text-anchor=\"middle\" x=\"545.5\" y=\"-164.3\" font-family=\"Helvetica,sans-Serif\" font-size=\"14.00\">gini = 0.0</text>\n<text text-anchor=\"middle\" x=\"545.5\" y=\"-149.3\" font-family=\"Helvetica,sans-Serif\" font-size=\"14.00\">samples = 2</text>\n<text text-anchor=\"middle\" x=\"545.5\" y=\"-134.3\" font-family=\"Helvetica,sans-Serif\" font-size=\"14.00\">value = [0, 0, 2]</text>\n<text text-anchor=\"middle\" x=\"545.5\" y=\"-119.3\" font-family=\"Helvetica,sans-Serif\" font-size=\"14.00\">class = virginica</text>\n</g>\n<!-- 15&#45;&gt;16 -->\n<g id=\"edge16\" class=\"edge\">\n<title>15&#45;&gt;16</title>\n<path fill=\"none\" stroke=\"black\" d=\"M548.11,-222.91C547.75,-212.2 547.35,-200.62 546.98,-189.78\"/>\n<polygon fill=\"black\" stroke=\"black\" points=\"550.47,-189.54 546.63,-179.67 543.48,-189.78 550.47,-189.54\"/>\n</g>\n<!-- 17 -->\n<g id=\"node18\" class=\"node\">\n<title>17</title>\n<path fill=\"#39e581\" stroke=\"black\" d=\"M729,-179.5C729,-179.5 632,-179.5 632,-179.5 626,-179.5 620,-173.5 620,-167.5 620,-167.5 620,-123.5 620,-123.5 620,-117.5 626,-111.5 632,-111.5 632,-111.5 729,-111.5 729,-111.5 735,-111.5 741,-117.5 741,-123.5 741,-123.5 741,-167.5 741,-167.5 741,-173.5 735,-179.5 729,-179.5\"/>\n<text text-anchor=\"middle\" x=\"680.5\" y=\"-164.3\" font-family=\"Helvetica,sans-Serif\" font-size=\"14.00\">gini = 0.0</text>\n<text text-anchor=\"middle\" x=\"680.5\" y=\"-149.3\" font-family=\"Helvetica,sans-Serif\" font-size=\"14.00\">samples = 1</text>\n<text text-anchor=\"middle\" x=\"680.5\" y=\"-134.3\" font-family=\"Helvetica,sans-Serif\" font-size=\"14.00\">value = [0, 1, 0]</text>\n<text text-anchor=\"middle\" x=\"680.5\" y=\"-119.3\" font-family=\"Helvetica,sans-Serif\" font-size=\"14.00\">class = versicolor</text>\n</g>\n<!-- 15&#45;&gt;17 -->\n<g id=\"edge17\" class=\"edge\">\n<title>15&#45;&gt;17</title>\n<path fill=\"none\" stroke=\"black\" d=\"M594.95,-222.91C608.17,-211.1 622.6,-198.22 635.77,-186.45\"/>\n<polygon fill=\"black\" stroke=\"black\" points=\"638.24,-188.94 643.36,-179.67 633.57,-183.72 638.24,-188.94\"/>\n</g>\n</g>\n</svg>\n",
            "text/plain": [
              "<graphviz.sources.Source at 0x78a0631e5650>"
            ]
          },
          "metadata": {},
          "execution_count": 7
        }
      ]
    },
    {
      "cell_type": "markdown",
      "source": [
        "#Question 6 :  Write a Python program to train a Decision Tree Classifier with a maximum depth of 3 and compare its accuracy with a fully grown tree"
      ],
      "metadata": {
        "id": "cAhCcJ4qy9_w"
      }
    },
    {
      "cell_type": "code",
      "source": [
        "clf_depth3 = DecisionTreeClassifier(max_depth=3)\n",
        "clf_depth3.fit(X_train, y_train)\n",
        "print(\"Accuracy (max_depth=3):\", accuracy_score(y_test, clf_depth3.predict(X_test)))\n",
        "print(\"Accuracy (full tree):\", accuracy_score(y_test, clf.predict(X_test)))\n"
      ],
      "metadata": {
        "colab": {
          "base_uri": "https://localhost:8080/"
        },
        "id": "rH39ypm72QlC",
        "outputId": "c2ccd419-b541-421e-cfe4-968bd664b829"
      },
      "execution_count": 8,
      "outputs": [
        {
          "output_type": "stream",
          "name": "stdout",
          "text": [
            "Accuracy (max_depth=3): 1.0\n",
            "Accuracy (full tree): 1.0\n"
          ]
        }
      ]
    },
    {
      "cell_type": "markdown",
      "source": [
        "#Question 7 :   Write a Python program to train a Decision Tree Classifier using min_samples_split=5 and compare its accuracy with a default tree"
      ],
      "metadata": {
        "id": "TsaU0KU4y-CH"
      }
    },
    {
      "cell_type": "code",
      "source": [
        "clf_split5 = DecisionTreeClassifier(min_samples_split=5)\n",
        "clf_split5.fit(X_train, y_train)\n",
        "print(\"Accuracy (min_samples_split=5):\", accuracy_score(y_test, clf_split5.predict(X_test)))\n",
        "print(\"Accuracy (default):\", accuracy_score(y_test, clf.predict(X_test)))\n"
      ],
      "metadata": {
        "colab": {
          "base_uri": "https://localhost:8080/"
        },
        "id": "6IW1BXGU2U2f",
        "outputId": "d00ffd61-7d7b-4204-a7e1-432c715a3871"
      },
      "execution_count": 9,
      "outputs": [
        {
          "output_type": "stream",
          "name": "stdout",
          "text": [
            "Accuracy (min_samples_split=5): 1.0\n",
            "Accuracy (default): 1.0\n"
          ]
        }
      ]
    },
    {
      "cell_type": "markdown",
      "source": [
        "#Question 8 : Write a Python program to apply feature scaling before training a Decision Tree Classifier and compare its accuracy with unscaled data"
      ],
      "metadata": {
        "id": "GUBEwnaqy-ET"
      }
    },
    {
      "cell_type": "code",
      "source": [
        "pipeline_scaled = Pipeline([\n",
        "    ('scaler', StandardScaler()),\n",
        "    ('clf', DecisionTreeClassifier())\n",
        "])\n",
        "pipeline_scaled.fit(X_train, y_train)\n",
        "print(\"Accuracy with Scaling:\", accuracy_score(y_test, pipeline_scaled.predict(X_test)))\n"
      ],
      "metadata": {
        "colab": {
          "base_uri": "https://localhost:8080/"
        },
        "id": "NX4t9tLD2ZN5",
        "outputId": "8907e0a9-a86c-42a6-a865-82fd38aa0b4d"
      },
      "execution_count": 10,
      "outputs": [
        {
          "output_type": "stream",
          "name": "stdout",
          "text": [
            "Accuracy with Scaling: 1.0\n"
          ]
        }
      ]
    },
    {
      "cell_type": "markdown",
      "source": [
        "#Question 9 : Write a Python program to train a Decision Tree Classifier using One-vs-Rest (OvR) strategy for multiclass classification"
      ],
      "metadata": {
        "id": "xQ7eOLxty-Gs"
      }
    },
    {
      "cell_type": "code",
      "source": [
        "ovr_clf = OneVsRestClassifier(DecisionTreeClassifier())\n",
        "ovr_clf.fit(X_train, y_train)\n",
        "print(\"Accuracy with OvR:\", accuracy_score(y_test, ovr_clf.predict(X_test)))\n"
      ],
      "metadata": {
        "colab": {
          "base_uri": "https://localhost:8080/"
        },
        "id": "UGPFKyyB2luX",
        "outputId": "69d22516-992c-4009-ce22-4d94117205ea"
      },
      "execution_count": 11,
      "outputs": [
        {
          "output_type": "stream",
          "name": "stdout",
          "text": [
            "Accuracy with OvR: 1.0\n"
          ]
        }
      ]
    },
    {
      "cell_type": "markdown",
      "source": [
        "#Question 10 :  Write a Python program to train a Decision Tree Classifier and display the feature importance scores"
      ],
      "metadata": {
        "id": "9GWdYCbWy-I-"
      }
    },
    {
      "cell_type": "code",
      "source": [
        "print(\"Feature Importances:\", clf.feature_importances_)\n"
      ],
      "metadata": {
        "colab": {
          "base_uri": "https://localhost:8080/"
        },
        "id": "y8g00j-n2nie",
        "outputId": "47cc9729-d5a7-4841-c4af-b359b32e852f"
      },
      "execution_count": 12,
      "outputs": [
        {
          "output_type": "stream",
          "name": "stdout",
          "text": [
            "Feature Importances: [0.         0.01667014 0.40593501 0.57739485]\n"
          ]
        }
      ]
    },
    {
      "cell_type": "markdown",
      "source": [
        "#Question 11 :  Write a Python program to train a Decision Tree Regressor with max_depth=5 and compare its performance with an unrestricted tree"
      ],
      "metadata": {
        "id": "4rAYREXDy-LU"
      }
    },
    {
      "cell_type": "code",
      "source": [
        "reg5 = DecisionTreeRegressor(max_depth=5)\n",
        "reg5.fit(Xh_train, yh_train)\n",
        "print(\"MSE (max_depth=5):\", mean_squared_error(yh_test, reg5.predict(Xh_test)))\n",
        "print(\"MSE (full tree):\", mean_squared_error(yh_test, reg.predict(Xh_test)))\n"
      ],
      "metadata": {
        "colab": {
          "base_uri": "https://localhost:8080/"
        },
        "id": "JK1luM7M2rpQ",
        "outputId": "41bb13f3-eda4-49db-8744-6252dd1e5ab3"
      },
      "execution_count": 13,
      "outputs": [
        {
          "output_type": "stream",
          "name": "stdout",
          "text": [
            "MSE (max_depth=5): 0.5245146178314736\n",
            "MSE (full tree): 0.4931871917192345\n"
          ]
        }
      ]
    },
    {
      "cell_type": "markdown",
      "source": [
        "#Question 12 : Write a Python program to train a Decision Tree Classifier, apply Cost Complexity Pruning (CCP), and visualize its effect on accuracy"
      ],
      "metadata": {
        "id": "wa7Pq1M6y-NX"
      }
    },
    {
      "cell_type": "code",
      "source": [
        "path = clf.cost_complexity_pruning_path(X_train, y_train)\n",
        "ccp_alphas = path.ccp_alphas\n",
        "acc_list = []\n",
        "\n",
        "for alpha in ccp_alphas:\n",
        "    clf_pruned = DecisionTreeClassifier(ccp_alpha=alpha)\n",
        "    clf_pruned.fit(X_train, y_train)\n",
        "    acc = accuracy_score(y_test, clf_pruned.predict(X_test))\n",
        "    acc_list.append((alpha, acc))\n",
        "\n",
        "print(\"Alpha and Accuracy:\")\n",
        "for alpha, acc in acc_list:\n",
        "    print(f\"Alpha: {alpha:.4f}, Accuracy: {acc:.4f}\")\n"
      ],
      "metadata": {
        "colab": {
          "base_uri": "https://localhost:8080/"
        },
        "id": "zxSgQtTt2u7I",
        "outputId": "1f0024c2-ecb5-465b-f18d-4a7df11b6015"
      },
      "execution_count": 14,
      "outputs": [
        {
          "output_type": "stream",
          "name": "stdout",
          "text": [
            "Alpha and Accuracy:\n",
            "Alpha: 0.0000, Accuracy: 1.0000\n",
            "Alpha: 0.0081, Accuracy: 1.0000\n",
            "Alpha: 0.0111, Accuracy: 1.0000\n",
            "Alpha: 0.0111, Accuracy: 1.0000\n",
            "Alpha: 0.0162, Accuracy: 1.0000\n",
            "Alpha: 0.0241, Accuracy: 0.9667\n",
            "Alpha: 0.2433, Accuracy: 0.6333\n",
            "Alpha: 0.3334, Accuracy: 0.3000\n"
          ]
        }
      ]
    },
    {
      "cell_type": "markdown",
      "source": [
        "#Question 13 : Write a Python program to train a Decision Tree Classifier and evaluate its performance using Precision, Recall, and F1-Score"
      ],
      "metadata": {
        "id": "Hn3qQFLDy-QB"
      }
    },
    {
      "cell_type": "code",
      "source": [
        "print(classification_report(y_test, y_pred))\n"
      ],
      "metadata": {
        "colab": {
          "base_uri": "https://localhost:8080/"
        },
        "id": "V3oX98l82ydJ",
        "outputId": "283eccfd-9dd6-4c13-bb05-99bac28c5fd9"
      },
      "execution_count": 15,
      "outputs": [
        {
          "output_type": "stream",
          "name": "stdout",
          "text": [
            "              precision    recall  f1-score   support\n",
            "\n",
            "           0       1.00      1.00      1.00        10\n",
            "           1       1.00      1.00      1.00         9\n",
            "           2       1.00      1.00      1.00        11\n",
            "\n",
            "    accuracy                           1.00        30\n",
            "   macro avg       1.00      1.00      1.00        30\n",
            "weighted avg       1.00      1.00      1.00        30\n",
            "\n"
          ]
        }
      ]
    },
    {
      "cell_type": "markdown",
      "source": [
        "#Question 14 : Write a Python program to train a Decision Tree Classifier and visualize the confusion matrix using seaborn"
      ],
      "metadata": {
        "id": "cUiBGOotzlX6"
      }
    },
    {
      "cell_type": "code",
      "source": [
        "cm = confusion_matrix(y_test, y_pred)\n",
        "sns.heatmap(cm, annot=True, cmap='Blues', fmt='d')\n",
        "plt.xlabel('Predicted')\n",
        "plt.ylabel('True')\n",
        "plt.title('Confusion Matrix')\n",
        "plt.show()\n"
      ],
      "metadata": {
        "colab": {
          "base_uri": "https://localhost:8080/",
          "height": 472
        },
        "id": "13Fnqga628TF",
        "outputId": "982ee2b5-d107-4dd2-cc3f-d2357a49de7b"
      },
      "execution_count": 16,
      "outputs": [
        {
          "output_type": "display_data",
          "data": {
            "text/plain": [
              "<Figure size 640x480 with 2 Axes>"
            ],
            "image/png": "[encoded data removed]"
          },
          "metadata": {}
        }
      ]
    },
    {
      "cell_type": "markdown",
      "source": [
        "#Question 15 : Write a Python program to train a Decision Tree Classifier and use GridSearchCV to find the optimal values for max_depth and min_samples_split"
      ],
      "metadata": {
        "id": "X_wVnzEmzonx"
      }
    },
    {
      "cell_type": "code",
      "source": [
        "param_grid = {\n",
        "    'max_depth': [2, 3, 5, None],\n",
        "    'min_samples_split': [2, 5, 10]\n",
        "}\n",
        "grid = GridSearchCV(DecisionTreeClassifier(), param_grid, cv=5)\n",
        "grid.fit(X_train, y_train)\n",
        "\n",
        "print(\"Best parameters:\", grid.best_params_)\n",
        "print(\"Best cross-validated accuracy:\", grid.best_score_)\n"
      ],
      "metadata": {
        "colab": {
          "base_uri": "https://localhost:8080/"
        },
        "id": "eH3JZkFV3CHL",
        "outputId": "14743cb4-298a-4628-eacb-da099a05b6d7"
      },
      "execution_count": 17,
      "outputs": [
        {
          "output_type": "stream",
          "name": "stdout",
          "text": [
            "Best parameters: {'max_depth': None, 'min_samples_split': 2}\n",
            "Best cross-validated accuracy: 0.9416666666666668\n"
          ]
        }
      ]
    }
  ],
  "metadata": {
    "colab": {
      "provenance": []
    },
    "language_info": {
      "name": "python"
    },
    "kernelspec": {
      "name": "python3",
      "display_name": "Python 3"
    }
  },
  "nbformat": 4,
  "nbformat_minor": 0
}