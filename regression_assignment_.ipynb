{
  "nbformat": 4,
  "nbformat_minor": 0,
  "metadata": {
    "colab": {
      "provenance": []
    },
    "kernelspec": {
      "name": "python3",
      "display_name": "Python 3"
    },
    "language_info": {
      "name": "python"
    }
  },
  "cells": [
    {
      "cell_type": "markdown",
      "source": [
        "#Regression"
      ],
      "metadata": {
        "id": "wyNnoNWXCnYs"
      }
    },
    {
      "cell_type": "markdown",
      "source": [
        "#Question1 : What is Simple Linear Regression?"
      ],
      "metadata": {
        "id": "rq4WdS9wCwtw"
      }
    },
    {
      "cell_type": "markdown",
      "source": [
        "ans : Simple Linear Regression is a statistical technique that models the relationship between a dependent variable (Y) and an independent variable (X) using a straight line :\n",
        "Y=mX+c\n"
      ],
      "metadata": {
        "id": "xrXoOw1ifupZ"
      }
    },
    {
      "cell_type": "markdown",
      "source": [
        "#Question 2 :  Key Assumptions of Simple Linear Regression"
      ],
      "metadata": {
        "id": "fwpDCb21C258"
      }
    },
    {
      "cell_type": "markdown",
      "source": [
        "ans : Linearity: The relationship between X and Y is linear.\n",
        "\n",
        "Independence: Observations are independent.\n",
        "\n",
        "Homoscedasticity: Constant variance of residuals.\n",
        "\n",
        "Normality: Residuals are normally distributed."
      ],
      "metadata": {
        "id": "SgJ0zjbjfwjx"
      }
    },
    {
      "cell_type": "markdown",
      "source": [
        "#Question 3:  What does m represent in Y = mX + c?"
      ],
      "metadata": {
        "id": "qP2r_UlaC3IA"
      }
    },
    {
      "cell_type": "markdown",
      "source": [
        "ans:m is the slope of the line — it represents the change in Y for a one-unit change in X."
      ],
      "metadata": {
        "id": "tKmJuAF4fx-4"
      }
    },
    {
      "cell_type": "markdown",
      "source": [
        "#Question 4 : What does c represent in Y = mX + c?"
      ],
      "metadata": {
        "id": "rHRTIafWC3SQ"
      }
    },
    {
      "cell_type": "markdown",
      "source": [
        "ans : c is the intercept — the value of Y when X = 0.\n"
      ],
      "metadata": {
        "id": "STgMpymLfzq9"
      }
    },
    {
      "cell_type": "markdown",
      "source": [
        "#Question 5 : How do we calculate the slope m ?"
      ],
      "metadata": {
        "id": "IiL1pVlPC3Wb"
      }
    },
    {
      "cell_type": "markdown",
      "source": [
        "ans : We calculate the slope by measuring how much the dependent variable (Y) changes for every one-unit increase in the independent variable (X), using the formula that minimizes the difference between predicted and actual values.\n"
      ],
      "metadata": {
        "id": "u7u_R15Df3Bw"
      }
    },
    {
      "cell_type": "markdown",
      "source": [
        "#Question6 :  Purpose of the Least Squares Method"
      ],
      "metadata": {
        "id": "KRlfqngPC3aK"
      }
    },
    {
      "cell_type": "markdown",
      "source": [
        "ans: To minimize the sum of squared differences between actual and predicted values (residuals)."
      ],
      "metadata": {
        "id": "_SF_aPfPf4cK"
      }
    },
    {
      "cell_type": "markdown",
      "source": [
        "#Question 7 : What is R² and its interpretation?"
      ],
      "metadata": {
        "id": "hQkSp4_YC3d8"
      }
    },
    {
      "cell_type": "markdown",
      "source": [
        "ans: R² (coefficient of determination) indicates how well the model explains the variance in the dependent variable.\n",
        "R² = 1 means perfect fit; R² = 0 means the model explains nothing.\n",
        "\n"
      ],
      "metadata": {
        "id": "r5y4KEy7f5sn"
      }
    },
    {
      "cell_type": "markdown",
      "source": [
        "#Question 8 : What is Multiple Linear Regression?"
      ],
      "metadata": {
        "id": "v0h5ZY0oC3hr"
      }
    },
    {
      "cell_type": "markdown",
      "source": [
        "ans: A regression technique that uses two or more independent variables to predict a dependent variable."
      ],
      "metadata": {
        "id": "uH3WpL91f7C5"
      }
    },
    {
      "cell_type": "markdown",
      "source": [
        "#Question 9: Difference between Simple and Multiple Linear Regression"
      ],
      "metadata": {
        "id": "WFQMS1d5gAmS"
      }
    },
    {
      "cell_type": "markdown",
      "source": [
        "ans: Simple: 1 independent variable\n",
        "\n",
        "Multiple: 2 or more independent variables\n",
        "\n"
      ],
      "metadata": {
        "id": "Fxs7aph6gGxF"
      }
    },
    {
      "cell_type": "markdown",
      "source": [
        "#Question 10 :  Key Assumptions of Multiple Linear Regression"
      ],
      "metadata": {
        "id": "_Ip4H6dQC3o6"
      }
    },
    {
      "cell_type": "markdown",
      "source": [
        "ans: Linearity\n",
        "\n",
        "Independence of errors\n",
        "\n",
        "Homoscedasticity\n",
        "\n",
        "Normality of residuals\n",
        "\n",
        "No multicollinearity\n",
        "\n"
      ],
      "metadata": {
        "id": "RlZmOuSXgILM"
      }
    },
    {
      "cell_type": "markdown",
      "source": [
        "#Question 11 :  What is Heteroscedasticity?  "
      ],
      "metadata": {
        "id": "kaiO_1OJC3sx"
      }
    },
    {
      "cell_type": "markdown",
      "source": [
        "ans: When the variance of residuals changes with levels of the independent variable, violating a regression assumption."
      ],
      "metadata": {
        "id": "3CqIuBm2gJRd"
      }
    },
    {
      "cell_type": "markdown",
      "source": [
        "#Question 12:  Fixing High Multicollinearity"
      ],
      "metadata": {
        "id": "h4laaWaEC3wk"
      }
    },
    {
      "cell_type": "markdown",
      "source": [
        "ans: Drop highly correlated variables\n",
        "\n",
        "Use Principal Component Analysis (PCA)\n",
        "\n",
        "Apply Ridge or Lasso Regression"
      ],
      "metadata": {
        "id": "PwkCdbXagL4W"
      }
    },
    {
      "cell_type": "markdown",
      "source": [
        "#Question 13:  Encoding Categorical Variables"
      ],
      "metadata": {
        "id": "5aCZg-CFC30M"
      }
    },
    {
      "cell_type": "markdown",
      "source": [
        "ans: Label Encoding\n",
        "\n",
        "One-Hot Encoding\n",
        "\n",
        "Ordinal Encoding"
      ],
      "metadata": {
        "id": "hGJLlxrfgN5w"
      }
    },
    {
      "cell_type": "markdown",
      "source": [
        "#Question 14 :  What is the role of interaction terms in Multiple Linear Regression"
      ],
      "metadata": {
        "id": "LJfZhRqQDgGn"
      }
    },
    {
      "cell_type": "markdown",
      "source": [
        "ans: To capture the combined effect of two features on the target, which is more than the sum of individual effects."
      ],
      "metadata": {
        "id": "-0bi07WQgPOs"
      }
    },
    {
      "cell_type": "markdown",
      "source": [
        "#Question 15 :  Intercept: Simple vs Multiple Regression"
      ],
      "metadata": {
        "id": "m17UC3KcDkw0"
      }
    },
    {
      "cell_type": "markdown",
      "source": [
        "ans: Simple: Y-value when X = 0\n",
        "\n",
        "Multiple: Y-value when all predictors = 0"
      ],
      "metadata": {
        "id": "eXvsLUAqgQTF"
      }
    },
    {
      "cell_type": "markdown",
      "source": [
        "#Question 16: Significance of the Slope"
      ],
      "metadata": {
        "id": "Hdf-zQ-PDsje"
      }
    },
    {
      "cell_type": "markdown",
      "source": [
        "ans: It indicates how much Y is expected to change when X increases by 1 unit."
      ],
      "metadata": {
        "id": "QfDKseT8gRa9"
      }
    },
    {
      "cell_type": "markdown",
      "source": [
        "#Question 17: Context of the Intercept"
      ],
      "metadata": {
        "id": "7B07dJbED4F9"
      }
    },
    {
      "cell_type": "markdown",
      "source": [
        "ans: The intercept gives the expected value of the target variable when all predictors are zero — its meaning depends on the data."
      ],
      "metadata": {
        "id": "QEIAx6SDgT7_"
      }
    },
    {
      "cell_type": "markdown",
      "source": [
        "#Question 18: Limitations of Using R² Alone"
      ],
      "metadata": {
        "id": "EIi_ftxgD-1t"
      }
    },
    {
      "cell_type": "markdown",
      "source": [
        "ans: Doesn't indicate model correctness\n",
        "\n",
        "Can be misleading in non-linear models\n",
        "\n",
        "Doesn’t penalize for overfitting (use Adjusted R²)\n",
        "\n"
      ],
      "metadata": {
        "id": "GG_alWKGgVPA"
      }
    },
    {
      "cell_type": "markdown",
      "source": [
        "#Question 19: Large Standard Error of Coefficient"
      ],
      "metadata": {
        "id": "xtkCHKUoECRQ"
      }
    },
    {
      "cell_type": "markdown",
      "source": [
        "ans: It indicates high variability and low reliability of the coefficient estimate.\n",
        "\n"
      ],
      "metadata": {
        "id": "mLEOdn7wgWw5"
      }
    },
    {
      "cell_type": "markdown",
      "source": [
        "#Question 20 : Detecting Heteroscedasticity"
      ],
      "metadata": {
        "id": "DvAUlOPuEFsY"
      }
    },
    {
      "cell_type": "markdown",
      "source": [
        "ans: Use residual plots. If the spread of residuals increases or decreases with X, it's heteroscedastic."
      ],
      "metadata": {
        "id": "A4FdG1T9gXyQ"
      }
    },
    {
      "cell_type": "markdown",
      "source": [
        "#Question 21 :   High R² but Low Adjusted R²"
      ],
      "metadata": {
        "id": "7YSjoFn-EJBt"
      }
    },
    {
      "cell_type": "markdown",
      "source": [
        "ans: This implies irrelevant features are present. Adjusted R² accounts for feature count."
      ],
      "metadata": {
        "id": "pQhJAs_Igave"
      }
    },
    {
      "cell_type": "markdown",
      "source": [
        "#Question 22 :  Why Scale Variables in Multiple Regression?"
      ],
      "metadata": {
        "id": "1jJoa6VsEJIR"
      }
    },
    {
      "cell_type": "markdown",
      "source": [
        "ans: To ensure features contribute equally\n",
        "\n",
        "Helps in convergence and model stability\n",
        "\n",
        "Essential for models with regularization\n",
        "\n"
      ],
      "metadata": {
        "id": "JwHbGTEKgc5G"
      }
    },
    {
      "cell_type": "markdown",
      "source": [
        "#Question 23 : What is Polynomial Regression?"
      ],
      "metadata": {
        "id": "NJhDy-1UEJN0"
      }
    },
    {
      "cell_type": "markdown",
      "source": [
        "ans: A regression that models non-linear relationships using polynomial terms of the independent variable(s)."
      ],
      "metadata": {
        "id": "NCnrDjhKgeo3"
      }
    },
    {
      "cell_type": "markdown",
      "source": [
        "#Question 24 :  Difference Between Polynomial and Linear Regression"
      ],
      "metadata": {
        "id": "jA4SmLtVEJRG"
      }
    },
    {
      "cell_type": "markdown",
      "source": [
        "ans:Linear: straight-line relationship\n",
        "\n",
        "Polynomial: fits curves using higher-degree terms"
      ],
      "metadata": {
        "id": "rQvYdHLNghyW"
      }
    },
    {
      "cell_type": "markdown",
      "source": [
        "#Question 25 :   When is Polynomial Regression Used?"
      ],
      "metadata": {
        "id": "aTO31Y_AEJk_"
      }
    },
    {
      "cell_type": "markdown",
      "source": [
        "ans: When the data shows a non-linear trend that can't be captured by a straight line."
      ],
      "metadata": {
        "id": "Y5eJVIqogj7G"
      }
    },
    {
      "cell_type": "markdown",
      "source": [
        "#Question 26 :  General Equation of Polynomial Regression"
      ],
      "metadata": {
        "id": "oyiCLsx8EJoR"
      }
    },
    {
      "cell_type": "markdown",
      "source": [
        "ans : Y=b\n",
        "0\n",
        "​\n",
        " +b\n",
        "1\n",
        "​\n",
        " X+b\n",
        "2\n",
        "​\n",
        " X\n",
        "2\n",
        " +⋯+b\n",
        "n\n",
        "​\n",
        " X\n",
        "n"
      ],
      "metadata": {
        "id": "l8tkccK-glB4"
      }
    },
    {
      "cell_type": "markdown",
      "source": [
        "#Question 27 : Can Polynomial Regression Use Multiple Variables?"
      ],
      "metadata": {
        "id": "4r4tER-KEbGq"
      }
    },
    {
      "cell_type": "markdown",
      "source": [
        "ans: Yes. We can use polynomial features for each variable or interaction terms."
      ],
      "metadata": {
        "id": "IDmqv4FAgmvP"
      }
    },
    {
      "cell_type": "markdown",
      "source": [
        "#Question 28: Limitations of Polynomial Regression"
      ],
      "metadata": {
        "id": "0iTLkgP_EbNH"
      }
    },
    {
      "cell_type": "markdown",
      "source": [
        "ans: Overfitting with high degree\n",
        "\n",
        "Sensitive to outliers\n",
        "\n",
        "Bad for extrapolation\n",
        "\n"
      ],
      "metadata": {
        "id": "yNxvaUI3goYx"
      }
    },
    {
      "cell_type": "markdown",
      "source": [
        "#Question 29 :  Evaluating Degree of Polynomial"
      ],
      "metadata": {
        "id": "OFy9LDLpEbST"
      }
    },
    {
      "cell_type": "markdown",
      "source": [
        "ans: R² and Adjusted R²\n",
        "\n",
        "Cross-Validation\n",
        "\n",
        "RMSE (Root Mean Squared Error)"
      ],
      "metadata": {
        "id": "Zr-S5m4agpsD"
      }
    },
    {
      "cell_type": "markdown",
      "source": [
        "#Question 30 :   Importance of Visualization"
      ],
      "metadata": {
        "id": "y3dR6U0tEbZ-"
      }
    },
    {
      "cell_type": "markdown",
      "source": [
        "ans: Helps understand whether the model is underfitting, fitting well, or overfitting the data"
      ],
      "metadata": {
        "id": "ckRO4QxhgqsV"
      }
    },
    {
      "cell_type": "markdown",
      "source": [
        "#Question 31 :   Polynomial Regression in Python"
      ],
      "metadata": {
        "id": "hESAg0xOEqE0"
      }
    },
    {
      "cell_type": "code",
      "source": [
        "from sklearn.preprocessing import PolynomialFeatures\n",
        "from sklearn.linear_model import LinearRegression\n",
        "from sklearn.pipeline import make_pipeline\n",
        "\n",
        "# degree=2 for quadratic regression\n",
        "model = make_pipeline(PolynomialFeatures(degree=2), LinearRegression())\n",
        "model.fit(X_train, y_train)\n",
        "y_pred = model.predict(X_test)\n",
        "\n"
      ],
      "metadata": {
        "id": "klmgBhuOmJ4B"
      },
      "execution_count": 1,
      "outputs": []
    }
  ]
}