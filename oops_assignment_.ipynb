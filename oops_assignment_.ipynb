{
  "nbformat": 4,
  "nbformat_minor": 0,
  "metadata": {
    "colab": {
      "provenance": []
    },
    "kernelspec": {
      "name": "python3",
      "display_name": "Python 3"
    },
    "language_info": {
      "name": "python"
    }
  },
  "cells": [
    {
      "cell_type": "markdown",
      "source": [
        "Question 1 : What is Object-Oriented Programming (OOP)\n",
        "\n",
        "Answer 1 : OOP is a way to organize a code in a right and managable manner with the functions like inheritence , polymorphosis , abstraction and encapsulation."
      ],
      "metadata": {
        "id": "iEaxuFYM_RgR"
      }
    },
    {
      "cell_type": "markdown",
      "source": [
        "Question 2: What is a class in OOP\n",
        "\n",
        "Answer 2 : class is a template inside a oop which is used to create a object . class contain attribute and behaviour inside it ."
      ],
      "metadata": {
        "id": "nsrL4eapNGtK"
      }
    },
    {
      "cell_type": "markdown",
      "source": [
        "Question 3 : What is an object in OOP\n",
        "\n",
        "Answer 3 : object is like an entity or  a real worl d object create with the attribute and behaviour inside the class of which it is created."
      ],
      "metadata": {
        "id": "nzwsfnVhNq2i"
      }
    },
    {
      "cell_type": "markdown",
      "source": [
        "Question 4 :What is the difference between abstraction and encapsulation\n",
        "\n",
        "Answer 4 : Abstraction means hiding the data and making the abstract method and abstract class to use them in subclasses to define the function , which basically means to hide the uncessary code . encapsulation is done to protect some data from public access by making them private."
      ],
      "metadata": {
        "id": "zRYrRqAjNqyg"
      }
    },
    {
      "cell_type": "markdown",
      "source": [
        "Question 5 :What are dunder methods in Python\n",
        "\n",
        "Answer 5 :  Dunder basically means Double underscore , this are some special method which are built in inside python class and used to create custom object ."
      ],
      "metadata": {
        "id": "TiaCQD1INqdk"
      }
    },
    {
      "cell_type": "markdown",
      "source": [
        "Question 6 : Explain the concept of inheritance in OOP\n",
        "\n",
        "Answer 6 : Inheritence is simple words is when child class can access or modify the variable of its parent class ."
      ],
      "metadata": {
        "id": "l2tNseeLNqaI"
      }
    },
    {
      "cell_type": "markdown",
      "source": [
        "Question 7 : What is polymorphism in OOP\n",
        "\n",
        "Answer 7 : polymorphism  is same function name but with diffrent type of argument and different number of argument .  polymorphism work with two method method overridding and method overloading"
      ],
      "metadata": {
        "id": "M6bUZcF8NqW0"
      }
    },
    {
      "cell_type": "markdown",
      "source": [
        "Question 8 :How is encapsulation achieved in Python\n",
        "\n",
        "Answer 8 : encapsulation means enclosing or hiding something it can be achieved with dot underscore(classname)underscore,underscore(element)"
      ],
      "metadata": {
        "id": "asUqMW-4NqJB"
      }
    },
    {
      "cell_type": "markdown",
      "source": [
        "Question 9 :  What is a constructor in Python\n",
        "\n",
        "Answer 9 : In Python, a constructor is a special method used to initialize a newly created object. It is automatically called when an object of a class is instantiated. Constructors are used to set up the initial state of an object by initializing its attributes with default or provided values."
      ],
      "metadata": {
        "id": "AJVBnZOxO23a"
      }
    },
    {
      "cell_type": "markdown",
      "source": [
        "Question 10 : What are class and static methods in Python\n",
        "\n",
        "Answer 10   : class method are used with @ classmethod decorator and they are bound to class they are mainely used when we use class variable . static method are also decorated with @ staticmethod decorator and are not bound to class they work like a simple method inside a class."
      ],
      "metadata": {
        "id": "gv6V2bnYPASl"
      }
    },
    {
      "cell_type": "markdown",
      "source": [
        "Question 11 : What is method overloading in Python\n",
        "\n",
        "Answer 11 :method overloading is when we pass different type or different number of parameter in method with same name but we cant do this is python so we use default value and loop method to achieve it in pyhton."
      ],
      "metadata": {
        "id": "9Vuyo6toPHmN"
      }
    },
    {
      "cell_type": "markdown",
      "source": [
        "Question 12 : What is method overriding in OOP\n",
        "\n",
        "Answer 12 :It is used inside the inhereitence where parent class and child class has function with same name but in child class that function will be overriding or perform according to the way it is defined inside the parent class ."
      ],
      "metadata": {
        "id": "ORFVyW4ZPMR7"
      }
    },
    {
      "cell_type": "markdown",
      "source": [
        "Question 13 : What is a property decorator in Python\n",
        "\n",
        "Answer 13 : it is used to call a method/function as an attribute without parenthesis, it can be used to get value and also to modify or set value by using setter ."
      ],
      "metadata": {
        "id": "vopax3UMPVOb"
      }
    },
    {
      "cell_type": "markdown",
      "source": [
        "Question 14 : Why is polymorphism important in OOP\n",
        "\n",
        "Answer 14 : polymorphism means many form . it is important to write re-useable code and to single function with different type of data and different number of data. it can bw done by method overloading , method overridding and operator overloading ."
      ],
      "metadata": {
        "id": "WF-oDwbVPfHw"
      }
    },
    {
      "cell_type": "markdown",
      "source": [
        "Question 15 : What is an abstract class in Python\n",
        "\n",
        "Answer  15 : abstract class is class which contain abstact method which are undefined but declared with the use of import abc module and @abstractmethod"
      ],
      "metadata": {
        "id": "n37vV1wRPkBW"
      }
    },
    {
      "cell_type": "markdown",
      "source": [
        "Question 16 : What are the advantages of OOP\n",
        "\n",
        "Answer 16 : Advantages of oops are to manage the code in organized way while working with frontend , backend or database"
      ],
      "metadata": {
        "id": "5jHgL4_eQFzg"
      }
    },
    {
      "cell_type": "markdown",
      "source": [
        "Question 17 :  What is the difference between a class variable and an instance variables\n",
        "\n",
        "Answer 17 :  A class variable is a variable that is shared by all instances of the class. It is defined inside the class, but outside of any instance methods (i.e., outside the __init__ method). An instance variable is a variable that is specific to each instance of a class. It is defined inside the __init__ method (or any other method that uses self)."
      ],
      "metadata": {
        "id": "ZxV17CSRQLc2"
      }
    },
    {
      "cell_type": "markdown",
      "source": [
        "Question 18 :  What is multiple inheritance in Python\n",
        "\n",
        "Answer 18 : one child class can have multiple inheritence of multiple parent class"
      ],
      "metadata": {
        "id": "Vyy_WqSJQY_f"
      }
    },
    {
      "cell_type": "markdown",
      "source": [
        "Question 19 : Explain the purpose of ‘’__str__’ and ‘__repr__’ ‘ methods in Python\n",
        "\n",
        "Answer 19 : str is used to represent the object as string as user friendly string , more readable format. repr used to represent object in string method more developer undrestanding format"
      ],
      "metadata": {
        "id": "UIRqcdJwQjXt"
      }
    },
    {
      "cell_type": "markdown",
      "source": [
        "Question 20 : What is the significance of the ‘super()’ function in Python\n",
        "\n",
        "Answer 20 :  super() is used to call method from a parent class"
      ],
      "metadata": {
        "id": "wJwZks77QxyA"
      }
    },
    {
      "cell_type": "markdown",
      "source": [
        "Question 21 : What is the significance of the __del__ method in Python\n",
        "\n",
        "Answer 21 : del is used to delete any object/ instance created of a class"
      ],
      "metadata": {
        "id": "F8hsjogjQ3hB"
      }
    },
    {
      "cell_type": "markdown",
      "source": [
        "Question 22 :What is the difference between @staticmethod and @classmethod in Python\n",
        "\n",
        "Answer 22 : class method are bound to class and can modify and access class variavle whereas static method is simple method inside a class and it cant access or modify the class variable"
      ],
      "metadata": {
        "id": "qKSDrYKdQ-Mb"
      }
    },
    {
      "cell_type": "markdown",
      "source": [
        "Question 23 :How does polymorphism work in Python with inheritance\n",
        "\n",
        "Answer 23 : polymorphisis means same function with different number of  values and different type of data . with inherita=ence it is done with two methods 1) method overridding 2)method overloading"
      ],
      "metadata": {
        "id": "2C-es1a1RD0L"
      }
    },
    {
      "cell_type": "markdown",
      "source": [
        "Question 24 : What is method chaining in Python OOP\n",
        "\n",
        "Answer 24 : Method chaining is a technique where methods are called on the same object in a single line of code, which is possible because each method returns the object (self) after performing its action."
      ],
      "metadata": {
        "id": "utk4K3pKRM6A"
      }
    },
    {
      "cell_type": "markdown",
      "source": [
        " Question 25 : What is the purpose of the __call__ method in Python?\n",
        "\n",
        " Answer 25: call method is used to call the code inside it and it is used to organise the code."
      ],
      "metadata": {
        "id": "4G9DfBSgRQbw"
      }
    },
    {
      "cell_type": "markdown",
      "source": [
        "------------------------CODING PRACTICLE QUESTIONS---------------------"
      ],
      "metadata": {
        "id": "8N9etqciRbH0"
      }
    },
    {
      "cell_type": "markdown",
      "source": [
        " question 1 :Create a parent class Animal with a method speak() that prints a generic message. Create a child class Dog\n",
        "that overrides the speak() method to print \"Bark!\"."
      ],
      "metadata": {
        "id": "kTcCWLwVT-TI"
      }
    },
    {
      "cell_type": "code",
      "source": [
        "class Animal:\n",
        "  def speak (self):\n",
        "    print ( \"every animal barkes\")\n",
        "class dogs(Animal) :\n",
        "  def speak(self):\n",
        "    print(\" barks\")\n",
        "\n",
        "dog1 = dogs()\n",
        "dog1.speak()"
      ],
      "metadata": {
        "colab": {
          "base_uri": "https://localhost:8080/"
        },
        "id": "F59b3PuJRklS",
        "outputId": "667a7b22-6361-4d1b-cf17-51d7703acb1e"
      },
      "execution_count": null,
      "outputs": [
        {
          "output_type": "stream",
          "name": "stdout",
          "text": [
            " barks\n"
          ]
        }
      ]
    },
    {
      "cell_type": "markdown",
      "source": [
        "Question 2 :  Write a program to create an abstract class Shape with a method area(). Derive classes Circle and Rectangle\n",
        "from it and implement the area() method in both.\n",
        "\n",
        "\n"
      ],
      "metadata": {
        "id": "P0MFDUxhBTxf"
      }
    },
    {
      "cell_type": "code",
      "source": [
        "from abc import ABC , abstractmethod\n",
        "import math\n",
        "class Shape(ABC):\n",
        "  @abstractmethod\n",
        "  def area(self):\n",
        "    pass\n",
        "\n",
        "class Circle(Shape):\n",
        "  def __init__(self,radius):\n",
        "    self.radius = radius\n",
        "  def area(self):\n",
        "    return math.pi*self.radius**2\n",
        "\n",
        "\n",
        "class Rectangle(Shape):\n",
        "  def __init__(self,length,width):\n",
        "    self.length = length\n",
        "    self.width = width\n",
        "  def area(self):\n",
        "    return self.length*self.width"
      ],
      "metadata": {
        "id": "31SMhJgPBXqu"
      },
      "execution_count": null,
      "outputs": []
    },
    {
      "cell_type": "markdown",
      "source": [
        " Question 3 :Implement a multi-level inheritance scenario where a class Vehicle has an attribute type. Derive a class Car\n",
        "and further derive a class ElectricCar that adds a battery attribute."
      ],
      "metadata": {
        "id": "gInMIQu3CzVT"
      }
    },
    {
      "cell_type": "code",
      "source": [
        "class Vehicle :\n",
        "  def __init__ ( self, type ):\n",
        "    self.type = type\n",
        "\n",
        "  def display_info (self):\n",
        "    print (f\"Vehicle type : {self.type}\")\n",
        "\n",
        "class Car ( Vehicle ):\n",
        "  def __init__( self,type,colour ):\n",
        "    super().__init__(type)\n",
        "    self.colour = colour\n",
        "\n",
        "  def display_info (self):\n",
        "    super().display_info()\n",
        "    print (f\"Car colour : {self.colour}\")\n",
        "\n",
        "class ElectricCar( Car  ):\n",
        "  def __init__(self,type,colour,battery):\n",
        "    super().__init__(type,colour)\n",
        "    self.battery = battery\n",
        "\n",
        "  def display_info (self):\n",
        "    super().display_info()\n",
        "    print (f\"Car battery : {self.battery}\")\n",
        "\n",
        "\n",
        "electric_car = ElectricCar(\"Electric\", \"Tesla\", 75)\n",
        "electric_car.display_info()"
      ],
      "metadata": {
        "colab": {
          "base_uri": "https://localhost:8080/"
        },
        "id": "FmOh_PJbC5YQ",
        "outputId": "bea1ad5b-ba05-4e18-f022-6eb8570adac3"
      },
      "execution_count": 12,
      "outputs": [
        {
          "output_type": "stream",
          "name": "stdout",
          "text": [
            "Vehicle type : Electric\n",
            "Car colour : Tesla\n",
            "Car battery : 75\n"
          ]
        }
      ]
    },
    {
      "cell_type": "markdown",
      "source": [
        " Question 4 : Write a program to demonstrate encapsulation by creating a class BankAccount with private attributes\n",
        "balance and methods to deposit, withdraw, and check balance.\n"
      ],
      "metadata": {
        "id": "oJPxlWS1HJVi"
      }
    },
    {
      "cell_type": "code",
      "source": [
        "class BankAccount :\n",
        "  def __init__(self,balance):\n",
        "    self.__balance = balance\n",
        "\n",
        "\n",
        "\n",
        "  def deposit(self,amount):\n",
        "    self.__balance += amount\n",
        "    print(f\"Deposited: ${amount}\")\n",
        "\n",
        "  def withdraw(self,amount):\n",
        "    if amount <= self.__balance:\n",
        "      self.__balance -= amount\n",
        "      print(f\"Withdrew: ${amount}\")\n",
        "    else:\n",
        "      print(\"Insufficient balance\")\n",
        "\n",
        "  def check_balance(self):\n",
        "    print(f\"Current balance: ${self.__balance}\")\n",
        "\n",
        "account = BankAccount(1000)\n",
        "account.deposit(500)\n",
        "account.withdraw(200)\n",
        "account.check_balance()\n",
        "\n",
        "\n",
        "\n",
        ""
      ],
      "metadata": {
        "colab": {
          "base_uri": "https://localhost:8080/"
        },
        "id": "uIJnQ6HwHW2O",
        "outputId": "5ad36b8c-4106-4596-a32a-937e601072b2"
      },
      "execution_count": 13,
      "outputs": [
        {
          "output_type": "stream",
          "name": "stdout",
          "text": [
            "Deposited: $500\n",
            "Withdrew: $200\n",
            "Current balance: $1300\n"
          ]
        }
      ]
    },
    {
      "cell_type": "markdown",
      "source": [
        "Question 6 :Demonstrate runtime polymorphism using a method play() in a base class Instrument. Derive classes Guitar\n",
        "and Piano that implement their own version of play()."
      ],
      "metadata": {
        "id": "0k1Us0avLu70"
      }
    },
    {
      "cell_type": "code",
      "source": [],
      "metadata": {
        "id": "gT8nX7b-L0N9"
      },
      "execution_count": null,
      "outputs": []
    },
    {
      "cell_type": "markdown",
      "source": [
        "Question 8 :implement a class Person with a class method to count the total number of persons created"
      ],
      "metadata": {
        "id": "kG85z1R5VBW9"
      }
    },
    {
      "cell_type": "code",
      "source": [
        "class Person:\n",
        "  total_person = 0\n",
        "  def __init__(self,name):\n",
        "    self.name = name\n",
        "\n",
        "    Person.total_person = Person.total_person+ 1\n",
        "\n",
        "person_name1 = Person(\"ram\")\n",
        "person_name2 = Person(\"ajay\")\n",
        "print(Person.total_person)"
      ],
      "metadata": {
        "colab": {
          "base_uri": "https://localhost:8080/"
        },
        "id": "HT0OrX-3TJc6",
        "outputId": "7901d6ef-4b2d-47c1-9f56-1bb778190d69"
      },
      "execution_count": null,
      "outputs": [
        {
          "output_type": "stream",
          "name": "stdout",
          "text": [
            "2\n"
          ]
        }
      ]
    },
    {
      "cell_type": "markdown",
      "source": [
        " Write a class Fraction with attributes numerator and denominator. Override the str method to display the\n",
        "fraction as \"numerator/denominator\""
      ],
      "metadata": {
        "id": "w7Rkfp97P3Sm"
      }
    },
    {
      "cell_type": "code",
      "source": [
        "class Fraction :\n",
        "    def __init__(self,numerator,denominator):\n",
        "      self.numerator = numerator\n",
        "      self.denominator = denominator\n",
        "\n",
        "    def __str__(self):\n",
        "       return f\"{self.numerator}/{self.denominator}\"\n",
        "\n",
        "fraction = Fraction(4,7)\n",
        "print(fraction)"
      ],
      "metadata": {
        "colab": {
          "base_uri": "https://localhost:8080/"
        },
        "id": "SBb0J2xRP6K5",
        "outputId": "55ea0c76-78ba-451c-a110-acbab50f21e3"
      },
      "execution_count": null,
      "outputs": [
        {
          "output_type": "stream",
          "name": "stdout",
          "text": [
            "4/7\n"
          ]
        }
      ]
    },
    {
      "cell_type": "markdown",
      "source": [
        "Question :  Create a class MathOperations with a class method add_numbers() to add two numbers and a static\n",
        "method subtract_numbers() to subtract two numbers."
      ],
      "metadata": {
        "id": "qkpe8cQoBnIQ"
      }
    },
    {
      "cell_type": "code",
      "source": [
        "class MathOpertaion :\n",
        "  @classmethod\n",
        "  def add_numbers(cls,a,b):\n",
        "    return a+b\n",
        "\n",
        "  @staticmethod\n",
        "  def subtract_numbers(a,b):\n",
        "    return a-b\n",
        "\n",
        "print(MathOpertaion.add_numbers(4,5))\n",
        "print(MathOpertaion.subtract_numbers(5,1))"
      ],
      "metadata": {
        "colab": {
          "base_uri": "https://localhost:8080/"
        },
        "id": "nUZeg6ITBrr_",
        "outputId": "934265ef-6c02-466d-ea7b-36087d1ffd33"
      },
      "execution_count": 3,
      "outputs": [
        {
          "output_type": "stream",
          "name": "stdout",
          "text": [
            "9\n",
            "4\n"
          ]
        }
      ]
    },
    {
      "cell_type": "markdown",
      "source": [
        " Question Demonstrate operator overloading by creating a class Vector and overriding the add method to add two\n",
        "vectors.\n",
        "\n",
        "\n"
      ],
      "metadata": {
        "id": "u_LROyauDPNX"
      }
    },
    {
      "cell_type": "code",
      "source": [
        "class Vector:\n",
        "    def __init__(self, x, y):\n",
        "        self.x = x\n",
        "        self.y = y\n",
        "\n",
        "    # Overloading the '+' operator to add two vectors\n",
        "    def __add__(self, other):\n",
        "        if isinstance(other, Vector):\n",
        "            return Vector(self.x + other.x, self.y + other.y)\n",
        "        else:\n",
        "            raise ValueError(\"Operands must be of type 'Vector'\")\n",
        "\n",
        "    def __repr__(self):\n",
        "        return f\"Vector({self.x}, {self.y})\"\n",
        "\n",
        "\n",
        "vector1 = Vector(2, 3)\n",
        "vector2 = Vector(4, 1)\n",
        "\n",
        "\n",
        "result = vector1 + vector2\n",
        "\n",
        "print(f\"Result of adding vectors: {result}\")\n"
      ],
      "metadata": {
        "colab": {
          "base_uri": "https://localhost:8080/"
        },
        "id": "ycFne6kBDYKe",
        "outputId": "dd587afb-9558-41a7-8f62-d887cf8db47a"
      },
      "execution_count": 4,
      "outputs": [
        {
          "output_type": "stream",
          "name": "stdout",
          "text": [
            "Result of adding vectors: Vector(6, 4)\n"
          ]
        }
      ]
    },
    {
      "cell_type": "markdown",
      "source": [
        " Create a class Person with attributes name and age. Add a method greet() that prints \"Hello, my name is\n",
        "{name} and I am {age} years old."
      ],
      "metadata": {
        "id": "dSXLMnetLbDn"
      }
    },
    {
      "cell_type": "code",
      "source": [
        "class Person :\n",
        "  def __init__(self, name ,age ):\n",
        "    self.name = name\n",
        "    self.age= age\n",
        "  def greet (self):\n",
        "    print(f\"Hello, my name is {self.name} and I am {self.age} years old.\")\n",
        "\n",
        "person1 = Person(\"ram\",20)\n",
        "person1.greet()"
      ],
      "metadata": {
        "colab": {
          "base_uri": "https://localhost:8080/"
        },
        "id": "r3W1nJFuLd3R",
        "outputId": "aaaab2a9-0d4f-48c3-98c0-23c6e0974cb9"
      },
      "execution_count": 6,
      "outputs": [
        {
          "output_type": "stream",
          "name": "stdout",
          "text": [
            "Hello, my name is ram and I am 20 years old.\n"
          ]
        }
      ]
    },
    {
      "cell_type": "markdown",
      "source": [
        " Implement a class Student with attributes name and grades. Create a method average_grade() to compute\n",
        "the average of the grades"
      ],
      "metadata": {
        "id": "VnUthoLgMGSY"
      }
    },
    {
      "cell_type": "code",
      "source": [
        "class Student :\n",
        "  def __init__(self,name,grades):\n",
        "    self.name = name\n",
        "    self.grades = grades\n",
        "\n",
        "  def average_grade(self):\n",
        "    total = sum(self.grades)\n",
        "    average = total/len(self.grades)\n",
        "    return average\n",
        "\n",
        "obj = Student(\"ram\",[4,5,6,7])\n",
        "obj.average_grade()"
      ],
      "metadata": {
        "colab": {
          "base_uri": "https://localhost:8080/"
        },
        "id": "SoQH9wF8MJbV",
        "outputId": "87f3e8a9-a844-48c0-b7ce-ba49fe10b162"
      },
      "execution_count": 7,
      "outputs": [
        {
          "output_type": "execute_result",
          "data": {
            "text/plain": [
              "5.5"
            ]
          },
          "metadata": {},
          "execution_count": 7
        }
      ]
    },
    {
      "cell_type": "markdown",
      "source": [
        "Create a class Rectangle with methods set_dimensions() to set the dimensions and area() to calculate the\n",
        "area."
      ],
      "metadata": {
        "id": "TaTfX_M1MeCJ"
      }
    },
    {
      "cell_type": "code",
      "source": [
        "class Rectangle :\n",
        "  def __init__(self,length,width):\n",
        "    self.length = length\n",
        "    self.width = width\n",
        "\n",
        "  def set_dimensions(self,length,width):\n",
        "    self.length = length\n",
        "    self.width = width\n",
        "\n",
        "  def area(self):\n",
        "    return self.length * self.width\n",
        "\n",
        "rectangle = Rectangle(5,8)\n",
        "rectangle.area()\n",
        "rectangle.set_dimensions(6,5)\n",
        "rectangle.area()\n"
      ],
      "metadata": {
        "colab": {
          "base_uri": "https://localhost:8080/"
        },
        "id": "ucWqCEpxMigQ",
        "outputId": "30bc90de-fc03-4d9f-81cc-cac6921d2f32"
      },
      "execution_count": 11,
      "outputs": [
        {
          "output_type": "execute_result",
          "data": {
            "text/plain": [
              "30"
            ]
          },
          "metadata": {},
          "execution_count": 11
        }
      ]
    },
    {
      "cell_type": "markdown",
      "source": [
        " Create a class Employee with a method calculate_salary() that computes the salary based on hours worked\n",
        "and hourly rate. Create a derived class Manager that adds a bonus to the salary."
      ],
      "metadata": {
        "id": "1WyDefqaNjL8"
      }
    },
    {
      "cell_type": "code",
      "source": [
        "class Employee :\n",
        "  def __init__(self,name,hours_worked,hourly_rate):\n",
        "    self.name = name\n",
        "    self.hours_worked = hours_worked\n",
        "    self.hourly_rate = hourly_rate\n",
        "\n",
        "  def calculate_salary(self):\n",
        "    return  (self.name ,self.hours_worked * self.hourly_rate)\n",
        "\n",
        "emp1 = Employee(\"ram\",4,5)\n",
        "emp1.calculate_salary()"
      ],
      "metadata": {
        "colab": {
          "base_uri": "https://localhost:8080/"
        },
        "id": "zkWCfy35Nkfy",
        "outputId": "eb010bcf-5447-4102-eb9a-448090fd81f8"
      },
      "execution_count": 22,
      "outputs": [
        {
          "output_type": "execute_result",
          "data": {
            "text/plain": [
              "('ram', 20)"
            ]
          },
          "metadata": {},
          "execution_count": 22
        }
      ]
    },
    {
      "cell_type": "markdown",
      "source": [
        " Create a class Product with attributes name, price, and quantity. Implement a method total_price() that\n",
        "calculates the total price of the product."
      ],
      "metadata": {
        "id": "Lp-LAyc9OiBY"
      }
    },
    {
      "cell_type": "code",
      "source": [
        "class Product :\n",
        "  def __init__(self,name,price,quantity):\n",
        "    self.name=name\n",
        "    self.price=price\n",
        "    self.quantity=quantity\n",
        "\n",
        "  def total_price(self):\n",
        "    return self.price *self.quantity\n",
        "\n",
        "product1 = Product(\"iphone\",20000 ,3)\n",
        "product1.total_price()"
      ],
      "metadata": {
        "colab": {
          "base_uri": "https://localhost:8080/"
        },
        "id": "WW_sOVWfOjWS",
        "outputId": "00527a9e-5e3f-4517-c6cb-eabf0582a476"
      },
      "execution_count": 27,
      "outputs": [
        {
          "output_type": "execute_result",
          "data": {
            "text/plain": [
              "60000"
            ]
          },
          "metadata": {},
          "execution_count": 27
        }
      ]
    },
    {
      "cell_type": "markdown",
      "source": [
        " Create a class Animal with an abstract method sound(). Create two derived classes Cow and Sheep that\n",
        "implement the sound() method."
      ],
      "metadata": {
        "id": "pQmiWu0ZPX_M"
      }
    },
    {
      "cell_type": "code",
      "source": [
        "from abc import ABC , abstractmethod\n",
        "class Animal :\n",
        "  @abstractmethod\n",
        "  def sound(self):\n",
        "    pass\n",
        "\n",
        "class Cow(Animal):\n",
        "  def sound(self):\n",
        "    print(\"moo\")\n",
        "\n",
        "class Sheep(Animal):\n",
        "  def sound(self):\n",
        "    print(\"baa\")\n",
        "\n",
        "cow1 = Cow()\n",
        "cow1.sound()\n",
        "\n",
        "sheep1 = Sheep()\n",
        "sheep1.sound()\n"
      ],
      "metadata": {
        "colab": {
          "base_uri": "https://localhost:8080/"
        },
        "id": "vL4-fPexPY6B",
        "outputId": "b2e8fd33-a08b-437d-a9e7-8ce8f2943d22"
      },
      "execution_count": 29,
      "outputs": [
        {
          "output_type": "stream",
          "name": "stdout",
          "text": [
            "moo\n",
            "baa\n"
          ]
        }
      ]
    },
    {
      "cell_type": "markdown",
      "source": [
        "Create a class Book with attributes title, author, and year_published. Add a method get_book_info() that\n",
        "returns a formatted string with the book's details."
      ],
      "metadata": {
        "id": "Xyi5ZKPVP1za"
      }
    },
    {
      "cell_type": "code",
      "source": [
        "class Book:\n",
        "    def __init__(self, title, author, year_published):\n",
        "        self.title = title\n",
        "        self.author = author\n",
        "        self.year_published = year_published\n",
        "\n",
        "    def get_book_info(self):\n",
        "        return f\"Title: {self.title}\\nAuthor: {self.author}\\nYear Published: {self.year_published}\"\n",
        "\n",
        "book1 = Book(\"The Alchemist\", \"Paulo Coelho\", 1988)\n",
        "print(book1.get_book_info())"
      ],
      "metadata": {
        "colab": {
          "base_uri": "https://localhost:8080/"
        },
        "id": "aga3gf4dP6Ol",
        "outputId": "645e7d89-2b73-43c4-ac56-1ff642e3a607"
      },
      "execution_count": 33,
      "outputs": [
        {
          "output_type": "stream",
          "name": "stdout",
          "text": [
            "Title: The Alchemist\n",
            "Author: Paulo Coelho\n",
            "Year Published: 1988\n"
          ]
        }
      ]
    },
    {
      "cell_type": "markdown",
      "source": [
        " Create a class House with attributes address and price. Create a derived class Mansion that adds an\n",
        "attribute number_of_rooms."
      ],
      "metadata": {
        "id": "04Dossc7Qh8O"
      }
    },
    {
      "cell_type": "code",
      "source": [
        "class House:\n",
        "    def __init__(self, address, price):\n",
        "        self.address = address\n",
        "        self.price = price\n",
        "\n",
        "class Mansion(House):\n",
        "    def __init__(self, address, price, number_of_rooms=None):\n",
        "        super().__init__(address, price)\n",
        "        self.number_of_rooms = number_of_rooms\n",
        "\n",
        "mansion1 = Mansion(\"123 Main St\", 250000, 8)\n",
        "print(mansion1.address)\n",
        "print(mansion1.price)\n",
        "print(mansion1.number_of_rooms)"
      ],
      "metadata": {
        "colab": {
          "base_uri": "https://localhost:8080/"
        },
        "id": "oZPXsQxIQj1W",
        "outputId": "3e7f8903-1d5b-4fbe-a105-a8c01158c9d8"
      },
      "execution_count": 34,
      "outputs": [
        {
          "output_type": "stream",
          "name": "stdout",
          "text": [
            "123 Main St\n",
            "250000\n",
            "8\n"
          ]
        }
      ]
    }
  ]
}