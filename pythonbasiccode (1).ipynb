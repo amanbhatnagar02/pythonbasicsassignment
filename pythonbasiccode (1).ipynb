{
  "cells": [
    {
      "cell_type": "code",
      "execution_count": null,
      "metadata": {
        "colab": {
          "base_uri": "https://localhost:8080/"
        },
        "id": "dAFkASe1I9gw",
        "outputId": "ced4ee1c-99fa-4a6b-b189-072652e18f72"
      },
      "outputs": [
        {
          "output_type": "stream",
          "name": "stdout",
          "text": [
            "hello world\n",
            "hii aman\n",
            "your age is  21\n",
            "Python Keywords: ['False', 'None', 'True', 'and', 'as', 'assert', 'async', 'await', 'break', 'class', 'continue', 'def', 'del', 'elif', 'else', 'except', 'finally', 'for', 'from', 'global', 'if', 'import', 'in', 'is', 'lambda', 'nonlocal', 'not', 'or', 'pass', 'raise', 'return', 'try', 'while', 'with', 'yield']\n",
            "Original List: [1, 2, 3, 4]\n",
            "List after modification: [100, 2, 3, 4]\n",
            "\n",
            "Original Tuple: (10, 20, 30, 40)\n",
            "Error: 'tuple' object does not support item assignment\n"
          ]
        }
      ],
      "source": [
        "# Write a Python program to print \"Hello, World!_\n",
        "\n",
        "print(\"hello world\")\n",
        "\n",
        "#  Write a Python program that displays your name and age\n",
        "\n",
        "name = \"aman\"\n",
        "age=21\n",
        "print(\"hii\",name)\n",
        "print(\"your age is \",age)\n",
        "\n",
        "#Write code to print all the pre-defined keywords in Python using the keyword library\n",
        "\n",
        "\n",
        "# Print all pre-defined keywords in Python\n",
        "import keyword\n",
        "print(\"Python Keywords:\", keyword.kwlist)\n",
        "\n",
        "# Create a list and tuple in Python, and demonstrate how attempting to change an element works differently\n",
        "# for each\n",
        "\n",
        "\n",
        "# Creating a list and a tuple\n",
        "my_list = [1, 2, 3, 4]\n",
        "my_tuple = (10, 20, 30, 40)\n",
        "\n",
        "# Attempting to change an element in the list\n",
        "print(\"Original List:\", my_list)\n",
        "my_list[0] = 100  # Changing the first element of the list\n",
        "print(\"List after modification:\", my_list)\n",
        "\n",
        "# Attempting to change an element in the tuple\n",
        "print(\"\\nOriginal Tuple:\", my_tuple)\n",
        "try:\n",
        "    my_tuple[0] = 100  # Attempting to change the first element of the tuple\n",
        "except TypeError as e:\n",
        "    print(\"Error:\", e)\n",
        "\n",
        "# Write a program to demonstrate the use of logical operators\n",
        "\n",
        "# Input two numbers\n",
        "num1 = int(input(\"Enter the first number: \"))\n",
        "num2 = int(input(\"Enter the second number: \"))\n",
        "\n",
        "# Logical AND: True if both conditions are True\n",
        "if num1 > 0 and num2 > 0:\n",
        "    print(\"Both numbers are positive.\")\n",
        "else:\n",
        "    print(\"At least one number is not positive.\")\n",
        "\n",
        "# Logical OR: True if at least one condition is True\n",
        "if num1 > 0 or num2 > 0:\n",
        "    print(\"At least one of the numbers is positive.\")\n",
        "else:\n",
        "    print(\"Neither of the numbers is positive.\")\n",
        "\n",
        "# Logical NOT: Reverses the result of the condition\n",
        "if not (num1 > 0):\n",
        "    print(f\"The first number {num1} is not positive.\")\n",
        "else:\n",
        "    print(f\"The first number {num1} is positive.\")\n",
        "\n",
        "\n",
        "\n",
        "# Write a Python program to convert user input from string to integer, float, and boolean types\n",
        "\n",
        "name= input(\"enter your name :\")\n",
        " #by default this value is in string\n",
        "\n",
        "name = int(input(\"enter your name :\"))\n",
        "# now the the input value will be store as integer\n",
        "\n",
        "\n",
        "name = bool(input(\"enter your name :\"))\n",
        "# now the the input value will be store as boolean\n",
        "\n",
        "\n",
        "# Write code to demonstrate type casting with list elements\n",
        "list=[1,True,\"aman\",3+5j]\n",
        "list[0]=45\n",
        "print(list)\n",
        "\n",
        "\n",
        "\n",
        "# Write a for loop to print numbers from 1 to 100\n",
        "\n",
        "for i in range (1,11):\n",
        "  print(i)\n",
        "\n",
        "\n",
        "\n"
      ]
    },
    {
      "cell_type": "code",
      "source": [],
      "metadata": {
        "id": "er8IFbQaR8ai"
      },
      "execution_count": null,
      "outputs": []
    }
  ],
  "metadata": {
    "colab": {
      "provenance": []
    },
    "kernelspec": {
      "display_name": "Python 3",
      "name": "python3"
    },
    "language_info": {
      "name": "python"
    }
  },
  "nbformat": 4,
  "nbformat_minor": 0
}