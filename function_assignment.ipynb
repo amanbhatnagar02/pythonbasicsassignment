{
  "nbformat": 4,
  "nbformat_minor": 0,
  "metadata": {
    "colab": {
      "provenance": []
    },
    "kernelspec": {
      "name": "python3",
      "display_name": "Python 3"
    },
    "language_info": {
      "name": "python"
    }
  },
  "cells": [
    {
      "cell_type": "markdown",
      "source": [
        "What is the difference between a function and a method in Python?\n",
        "\n",
        "Answer : function in python are independent and can be called independent whereas method in python are  inside a class and dependent on class or object they can be called by object or a class itself ."
      ],
      "metadata": {
        "id": "lgfcwbA1Wweg"
      }
    },
    {
      "cell_type": "markdown",
      "source": [
        "question :Explain the concept of function arguments and parameters in Python.\n",
        "\n",
        "Answer : parameter are like empty  containers while defining a function . argument are value to fill those container which we provide when we call the functions ."
      ],
      "metadata": {
        "id": "aYANshtDXQGD"
      }
    },
    {
      "cell_type": "markdown",
      "source": [
        "Question : What are the different ways to define and call a function in Python?\n",
        "\n",
        "Answer : There are diffrent ways to define and call a function 1) basic defining a function 2) with default value 3) using *args and **kwargs 4) lamba 5)map"
      ],
      "metadata": {
        "id": "gHRv9nodXddg"
      }
    },
    {
      "cell_type": "markdown",
      "source": [
        "Question : What is the purpose of the `return` statement in a Python function?\n",
        "\n",
        "Answer :  return value purpose is to return a value of the function and exit the function"
      ],
      "metadata": {
        "id": "Me8wBjeiXkpr"
      }
    },
    {
      "cell_type": "markdown",
      "source": [
        "Question :  What are iterators in Python and how do they differ from iterables?\n",
        "\n",
        "Answer :  iterator is a stage where a data is ready to be iterated . the iterable is created by using iter() ."
      ],
      "metadata": {
        "id": "_CBPFzV6Xviq"
      }
    },
    {
      "cell_type": "markdown",
      "source": [
        "Question : Explain the concept of generators in Python and how they are defined.\n",
        "\n",
        "Answer :  generator are use  to get value one by one and not in one go . we use yield keyword instead of return . it takes less time and use  less memeory storage. it iterate the value ."
      ],
      "metadata": {
        "id": "rZfDMeLKYBBt"
      }
    },
    {
      "cell_type": "markdown",
      "source": [
        "Question :  What are the advantages of using generators over regular functions?\n",
        "\n",
        "Answer : it takes less time and use less memory storage because it return  value in one by one manner."
      ],
      "metadata": {
        "id": "6jt3sInBYJW5"
      }
    },
    {
      "cell_type": "markdown",
      "source": [
        "Question : What is a lambda function in Python and when is it typically used?\n",
        "\n",
        "Answer : lambda function is way to write a function , it is a shorthand type of function writing in which long code can be written in conscise way  "
      ],
      "metadata": {
        "id": "j9A0bSUPYSnz"
      }
    },
    {
      "cell_type": "markdown",
      "source": [
        "Question : Explain the purpose and usage of the `map()` function in Python.\n",
        "\n",
        "Answer: The `map()` function executes a specified function for each item in an `iterable`. The item is sent to the\n",
        "function as a parameter ."
      ],
      "metadata": {
        "id": "7TGI-8Y5YbFt"
      }
    },
    {
      "cell_type": "markdown",
      "source": [
        "Question : What is the difference between `map()`, `reduce()`, and `filter()` functions in Python?\n",
        "\n",
        "Answer : map () : it apply the function to every element of the iterable.\n",
        "reduce () : reduces the iterable by taking two parameters (x,y ) into one cumulative result\n",
        "filter(): filters the iterable according to the condition and return only the element which satisfy the condition."
      ],
      "metadata": {
        "id": "0rXgOnxCYxAG"
      }
    },
    {
      "cell_type": "markdown",
      "source": [
        "Question :  Using pen & Paper write the internal mechanism for sum operation using  reduce function on this given\n",
        "list:[47,11,42,13];\n",
        "\n",
        "Answer :"
      ],
      "metadata": {
        "id": "FB5zt3rvY3E2"
      }
    },
    {
      "cell_type": "markdown",
      "source": [
        "CODING QUESTION"
      ],
      "metadata": {
        "id": "-QxWgvCgr6s_"
      }
    },
    {
      "cell_type": "markdown",
      "source": [
        " Write a Python function that takes a list of numbers as input and returns the sum of all even numbers in\n",
        "the list.\n",
        "\n"
      ],
      "metadata": {
        "id": "0SMhP2oAsBt2"
      }
    },
    {
      "cell_type": "code",
      "source": [
        "def sum_even_numbers(numbers):\n",
        "    sum = 0\n",
        "    for num in numbers:\n",
        "        if num%2 == 0 :\n",
        "          sum+=num\n",
        "\n",
        "    return sum\n",
        "\n",
        "sum_even_numbers([1,34,23,45,22])"
      ],
      "metadata": {
        "colab": {
          "base_uri": "https://localhost:8080/"
        },
        "id": "j6AAyy5Nr-I-",
        "outputId": "d602fd93-8339-4f5f-a2c9-2eeb5f38b842"
      },
      "execution_count": 3,
      "outputs": [
        {
          "output_type": "execute_result",
          "data": {
            "text/plain": [
              "56"
            ]
          },
          "metadata": {},
          "execution_count": 3
        }
      ]
    },
    {
      "cell_type": "markdown",
      "source": [
        "Question 2 : Create a Python function that accepts a string and returns the reverse of that string."
      ],
      "metadata": {
        "id": "Q95ZaQyG7rzK"
      }
    },
    {
      "cell_type": "code",
      "source": [
        "def reverse_string(string):\n",
        "  return string[::-1]\n",
        "\n",
        "reverse_string(\"helloworld\")"
      ],
      "metadata": {
        "colab": {
          "base_uri": "https://localhost:8080/",
          "height": 35
        },
        "id": "-Z8PcIwP77bW",
        "outputId": "5369c97e-a261-43b8-df2b-f267cb5a7d26"
      },
      "execution_count": 4,
      "outputs": [
        {
          "output_type": "execute_result",
          "data": {
            "text/plain": [
              "'dlrowolleh'"
            ],
            "application/vnd.google.colaboratory.intrinsic+json": {
              "type": "string"
            }
          },
          "metadata": {},
          "execution_count": 4
        }
      ]
    },
    {
      "cell_type": "markdown",
      "source": [
        "Question 3 : . Implement a Python function that takes a list of integers and returns a new list containing the squares of\n",
        "each number"
      ],
      "metadata": {
        "id": "b9hMk1CS8Nhk"
      }
    },
    {
      "cell_type": "code",
      "source": [
        "def square_list (interger ):\n",
        "  new_list = []\n",
        "  for i in interger :\n",
        "    new_list.append(i**2)\n",
        "  return new_list\n",
        "\n",
        "square_list([1,2,3,4,5])"
      ],
      "metadata": {
        "colab": {
          "base_uri": "https://localhost:8080/"
        },
        "id": "JmED2IMU8Tz7",
        "outputId": "13e6f237-2fe5-410b-9569-a9988127f322"
      },
      "execution_count": 6,
      "outputs": [
        {
          "output_type": "execute_result",
          "data": {
            "text/plain": [
              "[1, 4, 9, 16, 25]"
            ]
          },
          "metadata": {},
          "execution_count": 6
        }
      ]
    },
    {
      "cell_type": "markdown",
      "source": [
        "Question 4 : . Write a Python function that checks if a given number is prime or not from 1 to 200"
      ],
      "metadata": {
        "id": "GEf1JBKz80WX"
      }
    },
    {
      "cell_type": "code",
      "source": [
        "def is_prime(n):\n",
        "    if n <= 1:\n",
        "        return False\n",
        "    for i in range(2, int(n**0.5) + 1):\n",
        "        if n % i == 0:\n",
        "            return False\n",
        "    return True\n",
        "\n",
        "\n",
        "for num in range(1, 201):\n",
        "    if is_prime(num):\n",
        "        print(f\"{num} is prime\")\n",
        "    else:\n",
        "        print(f\"{num} is not prime\")\n"
      ],
      "metadata": {
        "colab": {
          "base_uri": "https://localhost:8080/"
        },
        "id": "vJ0aoNYt86BM",
        "outputId": "2d80e23c-fc2c-4105-e87e-8dac06f92d38"
      },
      "execution_count": 7,
      "outputs": [
        {
          "output_type": "stream",
          "name": "stdout",
          "text": [
            "1 is not prime\n",
            "2 is prime\n",
            "3 is prime\n",
            "4 is not prime\n",
            "5 is prime\n",
            "6 is not prime\n",
            "7 is prime\n",
            "8 is not prime\n",
            "9 is not prime\n",
            "10 is not prime\n",
            "11 is prime\n",
            "12 is not prime\n",
            "13 is prime\n",
            "14 is not prime\n",
            "15 is not prime\n",
            "16 is not prime\n",
            "17 is prime\n",
            "18 is not prime\n",
            "19 is prime\n",
            "20 is not prime\n",
            "21 is not prime\n",
            "22 is not prime\n",
            "23 is prime\n",
            "24 is not prime\n",
            "25 is not prime\n",
            "26 is not prime\n",
            "27 is not prime\n",
            "28 is not prime\n",
            "29 is prime\n",
            "30 is not prime\n",
            "31 is prime\n",
            "32 is not prime\n",
            "33 is not prime\n",
            "34 is not prime\n",
            "35 is not prime\n",
            "36 is not prime\n",
            "37 is prime\n",
            "38 is not prime\n",
            "39 is not prime\n",
            "40 is not prime\n",
            "41 is prime\n",
            "42 is not prime\n",
            "43 is prime\n",
            "44 is not prime\n",
            "45 is not prime\n",
            "46 is not prime\n",
            "47 is prime\n",
            "48 is not prime\n",
            "49 is not prime\n",
            "50 is not prime\n",
            "51 is not prime\n",
            "52 is not prime\n",
            "53 is prime\n",
            "54 is not prime\n",
            "55 is not prime\n",
            "56 is not prime\n",
            "57 is not prime\n",
            "58 is not prime\n",
            "59 is prime\n",
            "60 is not prime\n",
            "61 is prime\n",
            "62 is not prime\n",
            "63 is not prime\n",
            "64 is not prime\n",
            "65 is not prime\n",
            "66 is not prime\n",
            "67 is prime\n",
            "68 is not prime\n",
            "69 is not prime\n",
            "70 is not prime\n",
            "71 is prime\n",
            "72 is not prime\n",
            "73 is prime\n",
            "74 is not prime\n",
            "75 is not prime\n",
            "76 is not prime\n",
            "77 is not prime\n",
            "78 is not prime\n",
            "79 is prime\n",
            "80 is not prime\n",
            "81 is not prime\n",
            "82 is not prime\n",
            "83 is prime\n",
            "84 is not prime\n",
            "85 is not prime\n",
            "86 is not prime\n",
            "87 is not prime\n",
            "88 is not prime\n",
            "89 is prime\n",
            "90 is not prime\n",
            "91 is not prime\n",
            "92 is not prime\n",
            "93 is not prime\n",
            "94 is not prime\n",
            "95 is not prime\n",
            "96 is not prime\n",
            "97 is prime\n",
            "98 is not prime\n",
            "99 is not prime\n",
            "100 is not prime\n",
            "101 is prime\n",
            "102 is not prime\n",
            "103 is prime\n",
            "104 is not prime\n",
            "105 is not prime\n",
            "106 is not prime\n",
            "107 is prime\n",
            "108 is not prime\n",
            "109 is prime\n",
            "110 is not prime\n",
            "111 is not prime\n",
            "112 is not prime\n",
            "113 is prime\n",
            "114 is not prime\n",
            "115 is not prime\n",
            "116 is not prime\n",
            "117 is not prime\n",
            "118 is not prime\n",
            "119 is not prime\n",
            "120 is not prime\n",
            "121 is not prime\n",
            "122 is not prime\n",
            "123 is not prime\n",
            "124 is not prime\n",
            "125 is not prime\n",
            "126 is not prime\n",
            "127 is prime\n",
            "128 is not prime\n",
            "129 is not prime\n",
            "130 is not prime\n",
            "131 is prime\n",
            "132 is not prime\n",
            "133 is not prime\n",
            "134 is not prime\n",
            "135 is not prime\n",
            "136 is not prime\n",
            "137 is prime\n",
            "138 is not prime\n",
            "139 is prime\n",
            "140 is not prime\n",
            "141 is not prime\n",
            "142 is not prime\n",
            "143 is not prime\n",
            "144 is not prime\n",
            "145 is not prime\n",
            "146 is not prime\n",
            "147 is not prime\n",
            "148 is not prime\n",
            "149 is prime\n",
            "150 is not prime\n",
            "151 is prime\n",
            "152 is not prime\n",
            "153 is not prime\n",
            "154 is not prime\n",
            "155 is not prime\n",
            "156 is not prime\n",
            "157 is prime\n",
            "158 is not prime\n",
            "159 is not prime\n",
            "160 is not prime\n",
            "161 is not prime\n",
            "162 is not prime\n",
            "163 is prime\n",
            "164 is not prime\n",
            "165 is not prime\n",
            "166 is not prime\n",
            "167 is prime\n",
            "168 is not prime\n",
            "169 is not prime\n",
            "170 is not prime\n",
            "171 is not prime\n",
            "172 is not prime\n",
            "173 is prime\n",
            "174 is not prime\n",
            "175 is not prime\n",
            "176 is not prime\n",
            "177 is not prime\n",
            "178 is not prime\n",
            "179 is prime\n",
            "180 is not prime\n",
            "181 is prime\n",
            "182 is not prime\n",
            "183 is not prime\n",
            "184 is not prime\n",
            "185 is not prime\n",
            "186 is not prime\n",
            "187 is not prime\n",
            "188 is not prime\n",
            "189 is not prime\n",
            "190 is not prime\n",
            "191 is prime\n",
            "192 is not prime\n",
            "193 is prime\n",
            "194 is not prime\n",
            "195 is not prime\n",
            "196 is not prime\n",
            "197 is prime\n",
            "198 is not prime\n",
            "199 is prime\n",
            "200 is not prime\n"
          ]
        }
      ]
    },
    {
      "cell_type": "markdown",
      "source": [
        "Question 5 :Create an iterator class in Python that generates the Fibonacci sequence up to a specified number of\n",
        "terms."
      ],
      "metadata": {
        "id": "HwiyHbIu-3Nx"
      }
    },
    {
      "cell_type": "code",
      "source": [
        "class FibonacciIterator:\n",
        "    def __init__(self, terms):\n",
        "        self.terms = terms\n",
        "        self.current = 0\n",
        "        self.prev, self.curr = 0, 1\n",
        "\n",
        "    def __iter__(self):\n",
        "        return self\n",
        "\n",
        "    def __next__(self):\n",
        "        if self.current >= self.terms:\n",
        "            raise StopIteration\n",
        "\n",
        "        if self.current == 0:\n",
        "            self.current += 1\n",
        "            return self.prev\n",
        "        elif self.current == 1:\n",
        "            self.current += 1\n",
        "            return self.curr\n",
        "\n",
        "\n",
        "        next_fib = self.prev + self.curr\n",
        "        self.prev, self.curr = self.curr, next_fib\n",
        "        self.current += 1\n",
        "        return next_fib\n",
        "\n",
        "\n",
        "fib_sequence = FibonacciIterator(10)\n",
        "\n",
        "for number in fib_sequence:\n",
        "    print(number)\n"
      ],
      "metadata": {
        "colab": {
          "base_uri": "https://localhost:8080/"
        },
        "id": "hPChpteT_WDU",
        "outputId": "35b6cd62-bcf0-4902-e2b7-77a1deedbcf0"
      },
      "execution_count": 8,
      "outputs": [
        {
          "output_type": "stream",
          "name": "stdout",
          "text": [
            "0\n",
            "1\n",
            "1\n",
            "2\n",
            "3\n",
            "5\n",
            "8\n",
            "13\n",
            "21\n",
            "34\n"
          ]
        }
      ]
    },
    {
      "cell_type": "markdown",
      "source": [
        "Question 6 :  Write a generator function in Python that yields the powers of 2 up to a given exponent"
      ],
      "metadata": {
        "id": "nLDDcdOZ_oLq"
      }
    },
    {
      "cell_type": "code",
      "source": [
        "def powers_of_2(exponent):\n",
        "    for i in range(exponent + 1):\n",
        "        yield 2 ** i\n",
        "\n",
        "\n",
        "for power in powers_of_2(5):\n",
        "    print(power)\n"
      ],
      "metadata": {
        "colab": {
          "base_uri": "https://localhost:8080/"
        },
        "id": "_wNO34OE_w93",
        "outputId": "cea62d17-2a19-4be2-e6d1-83d3a086a171"
      },
      "execution_count": 10,
      "outputs": [
        {
          "output_type": "stream",
          "name": "stdout",
          "text": [
            "1\n",
            "2\n",
            "4\n",
            "8\n",
            "16\n",
            "32\n"
          ]
        }
      ]
    },
    {
      "cell_type": "markdown",
      "source": [
        "Question 7 :Use a lambda function in Python to sort a list of tuples based on the second element of each tuple.\n",
        "\n"
      ],
      "metadata": {
        "id": "jmJtXEA9BrKA"
      }
    },
    {
      "cell_type": "code",
      "source": [
        "\n",
        "tuples_list = [(1, 3), (4, 1), (2, 2), (5, 0)]\n",
        "\n",
        "\n",
        "sorted_list = sorted(tuples_list, key=lambda x: x[1])\n",
        "\n",
        "print(sorted_list)\n"
      ],
      "metadata": {
        "colab": {
          "base_uri": "https://localhost:8080/"
        },
        "id": "uV8P8kUiBuuF",
        "outputId": "2cd3cf5f-2ca6-4525-bb27-ce1e78bebd49"
      },
      "execution_count": 12,
      "outputs": [
        {
          "output_type": "stream",
          "name": "stdout",
          "text": [
            "[(5, 0), (4, 1), (2, 2), (1, 3)]\n"
          ]
        }
      ]
    },
    {
      "cell_type": "markdown",
      "source": [
        "Question 8:  Write a Python program that uses `map()` to convert a list of temperatures from Celsius to Fahrenheit."
      ],
      "metadata": {
        "id": "0iBrY3fDCp54"
      }
    },
    {
      "cell_type": "code",
      "source": [
        "\n",
        "celsius_temperatures = [0, 20, 37, 100, -10]\n",
        "\n",
        "\n",
        "def celsius_to_fahrenheit(celsius):\n",
        "    return (celsius * 9/5) + 32\n",
        "\n",
        "\n",
        "fahrenheit_temperatures = list(map(celsius_to_fahrenheit, celsius_temperatures))\n",
        "\n",
        "\n",
        "print(fahrenheit_temperatures)\n"
      ],
      "metadata": {
        "colab": {
          "base_uri": "https://localhost:8080/"
        },
        "id": "SXkDvk6kC1NN",
        "outputId": "07aa6aa5-0966-4311-9bb5-f76ce22d1cc7"
      },
      "execution_count": 13,
      "outputs": [
        {
          "output_type": "stream",
          "name": "stdout",
          "text": [
            "[32.0, 68.0, 98.6, 212.0, 14.0]\n"
          ]
        }
      ]
    },
    {
      "cell_type": "markdown",
      "source": [
        "Question 9 :. Create a Python program that uses `filter()` to remove all the vowels from a given string."
      ],
      "metadata": {
        "id": "xI5NjfC7DPYL"
      }
    },
    {
      "cell_type": "code",
      "source": [
        "\n",
        "def is_not_vowel(char):\n",
        "    return char.lower() not in 'aeiou'\n",
        "\n",
        "\n",
        "input_string = \"Hello, World!\"\n",
        "\n",
        "filtered_string = ''.join(filter(is_not_vowel, input_string))\n",
        "\n",
        "print(filtered_string)\n"
      ],
      "metadata": {
        "colab": {
          "base_uri": "https://localhost:8080/"
        },
        "id": "P3UY8ckpDYKn",
        "outputId": "76e0a00b-f583-404c-db21-a964f91e17b5"
      },
      "execution_count": 14,
      "outputs": [
        {
          "output_type": "stream",
          "name": "stdout",
          "text": [
            "Hll, Wrld!\n"
          ]
        }
      ]
    }
  ]
}