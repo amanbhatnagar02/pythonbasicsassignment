{
  "nbformat": 4,
  "nbformat_minor": 0,
  "metadata": {
    "colab": {
      "provenance": []
    },
    "kernelspec": {
      "name": "python3",
      "display_name": "Python 3"
    },
    "language_info": {
      "name": "python"
    }
  },
  "cells": [
    {
      "cell_type": "code",
      "execution_count": null,
      "metadata": {
        "id": "r-tJohEf__uh"
      },
      "outputs": [],
      "source": []
    },
    {
      "cell_type": "markdown",
      "source": [
        "Question 1 : What are data structures, and why are they important ?\n",
        "\n",
        "Answer   1 : data structure is a way in which we store a data to access and manipulate it.\n",
        "\n",
        "\n",
        "Question 2:   Explain the difference between mutable and immutable data types with examples?\n",
        "\n",
        "\n",
        "\n",
        "Answer   2: mutability means when one datatype can be change or update .for example list . immutability means when datatype cannot be change or update .for example tuple .\n",
        "\n",
        "\n",
        "\n",
        "Question 3:What are the main differences between lists and tuples in Python?\n",
        "\n",
        "\n",
        "\n",
        "Answer   3: the main difference between list and tuples in python is mutablity.once a list is created it can be change or updated but tuple once created it's element cannot be changed or updated.\n",
        "\n",
        "\n",
        "\n",
        "\n",
        "Question 4:Describe how dictionaries store data ?\n",
        "\n",
        "\n",
        "\n",
        "Answer   4: dictionary is a data structure which stores a value in key and value format.syntax {key : value }.\n",
        "\n",
        "\n",
        "\n",
        "Question 5:Why might you use a set instead of a list in Python?\n",
        "\n",
        "\n",
        "\n",
        "Answer   5: set is unordered structure . set also automatically remove the duplicate values. we can use set when order doesnt matter and do not want duplicate element.\n",
        "\n",
        "\n",
        "Question 6:What is a string in Python, and how is it different from a list?\n",
        "\n",
        "Answer   6: string in python is sequence of characters enclosed in single quote and double quote . mostly used for text based output.\n",
        "\n",
        "Question 7:How do tuples ensure data integrity in Python?\n",
        "\n",
        "\n",
        "Answer   7: Tuples in Python help ensure data integrity primarily because they are immutable. Once a tuple is created, its values cannot be changed, modified, or deleted.for examples Aadhar number where data should not be change.\n",
        "\n",
        "\n",
        "Question 8: What is a hash table, and how does it relate to dictionaries in Python?\n",
        "\n",
        "Answer  8: hash value is a unique address given to the key of dictionary to store key:value . hashable keys are for example string , integer and tuple\n",
        "\n",
        "Question 9:Can lists contain different data types in Python?\n",
        "\n",
        "\n",
        "Answer   9: Yes, a list can contain different data types in python as list is a heterogenous data structure.\n",
        "\n",
        "\n",
        "Question 10: Explain why strings are immutable in Python?\n",
        "\n",
        "\n",
        "Answer   10: string in python is immutable because once its created it cannot be changed or update.\n",
        "\n",
        "\n",
        "Question 11:?What advantages do dictionaries offer over lists for certain tasks\n",
        "\n",
        "Answer   11:\n",
        "\n",
        "\n",
        "Question 12:describe a scenario where using a tuple would be preferable over a list?\n",
        "\n",
        "Answer   12: A right scenario would be where a value which is confidential or permanent like Aadhar card number , registration id or employee id\n",
        "\n",
        "\n",
        "Question 13: How do sets handle duplicate values in Python?\n",
        "\n",
        "Answer   13: In Python, sets are a collection data type that automatically handle duplicates by only allowing unique values. When you add an item to a set, Python checks whether the item already exists in the set. If the item is already present, it does not add it again. This ensures that all the elements in a set are unique.\n",
        "\n",
        "\n",
        "Question 14: How does the “in” keyword work differently for lists and dictionaries?\n",
        "\n",
        "Answer    14: For lists, the in operator checks if the value exists.For dictionaries , the in operator checks if the key exists .\n",
        "\n",
        "\n",
        "Question 15:Can you modify the elements of a tuple? Explain why or why not?\n",
        "\n",
        "\n",
        "Answer   15: No, you cannot modify the element in tuple. we can create a new tuple with modified element but cannot change or modify it .\n",
        "\n",
        "\n",
        "Question 16:What is a nested dictionary, and give an example of its use case?\n",
        "\n",
        "\n",
        "Answer   16:Nested dictionaty id dictionary inside a dictionary . use case can be to get specific data we can use multiple keys.\n",
        "\n",
        "\n",
        "Question 17:Describe the time complexity of accessing elements in a dictionary\n",
        "\n",
        "Answer  17 : we havent covered this in video lecture .\n",
        "\n",
        "\n",
        "\n",
        "Question 18:In what situations are lists preferred over dictionaries?\n",
        "\n",
        "\n",
        "Answer   18: when you want to work with ordered data and sequencial data . list is also easy to iterate over a homogenous data.\n",
        "\n",
        "\n",
        "Question 19:Why are dictionaries considered unordered, and how does that affect data retrieval?\n",
        "\n",
        "Answer   19:This meant that when you iterated over a dictionary, the order in which the key-value pairs were returned was not guaranteed and could vary from one run of the program to another.Because dictionaries were unordered, you could not rely on the order of items in a dictionary when iterating over them or retrieving elements.\n",
        "\n",
        "\n",
        "Question 20:Explain the difference between a list and a dictionary in terms of data retrieval.\n",
        "\n",
        "Answer  20: List : Data Retrieval: When retrieving an element from a list, you do so using an index (e.g., my_list[0]), which refers to the position of an item in the list. The time complexity for this operation is O(1) (constant time) for direct access by index.\n",
        "Dictionary :Data Retrieval: When retrieving a value from a dictionary, you do so using its key (e.g., my_dict['apple']). The time complexity for key-based retrieval is O(1) (constant time) on average, as dictionaries use a hash table for fast lookups.\n",
        "\n"
      ],
      "metadata": {
        "id": "mUtp3_bTA4Ye"
      }
    },
    {
      "cell_type": "code",
      "source": [
        "my_name = \"aman\"\n",
        "print(\"my name is : \",my_name)"
      ],
      "metadata": {
        "colab": {
          "base_uri": "https://localhost:8080/"
        },
        "id": "npYb0o9C1dXC",
        "outputId": "dc4f93fb-ab96-4cee-f6b0-15901f08651e"
      },
      "execution_count": 4,
      "outputs": [
        {
          "output_type": "stream",
          "name": "stdout",
          "text": [
            "my name is :  aman\n"
          ]
        }
      ]
    },
    {
      "cell_type": "code",
      "source": [
        "word = \"hello world\"\n",
        "new_word = len(word)\n",
        "print(new_word)"
      ],
      "metadata": {
        "colab": {
          "base_uri": "https://localhost:8080/"
        },
        "id": "owaR4-2Q6uR5",
        "outputId": "c6f6a3bb-a28f-41cd-c079-ddb813e8b4ac"
      },
      "execution_count": 6,
      "outputs": [
        {
          "output_type": "stream",
          "name": "stdout",
          "text": [
            "11\n"
          ]
        }
      ]
    },
    {
      "cell_type": "code",
      "source": [
        "\n",
        "text = \"Python Programming\"\n",
        "\n",
        "\n",
        "sliced_text = text[:3]\n",
        "\n",
        "print(sliced_text)"
      ],
      "metadata": {
        "colab": {
          "base_uri": "https://localhost:8080/"
        },
        "id": "27PcD1CJ7WbA",
        "outputId": "0ad73335-1ee3-4e68-f4f3-5701cda89a22"
      },
      "execution_count": 8,
      "outputs": [
        {
          "output_type": "stream",
          "name": "stdout",
          "text": [
            "Pyt\n"
          ]
        }
      ]
    },
    {
      "cell_type": "code",
      "source": [
        "word = \"hello\"\n",
        "new_word = word.upper()\n",
        "print(new_word)\n"
      ],
      "metadata": {
        "colab": {
          "base_uri": "https://localhost:8080/"
        },
        "id": "Qwmcl25a7hE0",
        "outputId": "a3076caf-fa84-494a-8116-202cdcc24ea3"
      },
      "execution_count": 10,
      "outputs": [
        {
          "output_type": "stream",
          "name": "stdout",
          "text": [
            "HELLO\n"
          ]
        }
      ]
    },
    {
      "cell_type": "code",
      "source": [
        "text = \"i like apple \"\n",
        "\n",
        "new_text = text.replace(\"apple\",\"orange\")\n",
        "\n",
        "print(new_text )"
      ],
      "metadata": {
        "colab": {
          "base_uri": "https://localhost:8080/"
        },
        "id": "0HisKKd67-R3",
        "outputId": "635c1446-f514-4d5b-ab86-4c69d15e324d"
      },
      "execution_count": 11,
      "outputs": [
        {
          "output_type": "stream",
          "name": "stdout",
          "text": [
            "i like orange \n"
          ]
        }
      ]
    },
    {
      "cell_type": "code",
      "source": [
        "lis = [ 1,2,3,4,5]\n",
        "print(type(lis))\n",
        "print(lis)"
      ],
      "metadata": {
        "colab": {
          "base_uri": "https://localhost:8080/"
        },
        "id": "ZtdcS6Y48oBp",
        "outputId": "4d1adc67-e594-4f13-cbba-4ba54dc4e007"
      },
      "execution_count": 13,
      "outputs": [
        {
          "output_type": "stream",
          "name": "stdout",
          "text": [
            "<class 'list'>\n",
            "[1, 2, 3, 4, 5]\n"
          ]
        }
      ]
    },
    {
      "cell_type": "code",
      "source": [
        "lis = [1,2,3,4]\n",
        "lis.append(10)\n",
        "print(lis)\n"
      ],
      "metadata": {
        "colab": {
          "base_uri": "https://localhost:8080/"
        },
        "id": "kh1Rm9om865g",
        "outputId": "1c8ae5c1-470a-4148-8115-f89c39f922c3"
      },
      "execution_count": 15,
      "outputs": [
        {
          "output_type": "stream",
          "name": "stdout",
          "text": [
            "[1, 2, 3, 4, 10]\n"
          ]
        }
      ]
    },
    {
      "cell_type": "code",
      "source": [
        "lis = [1,2,3,4,5]\n",
        "lis.remove(3)\n",
        "print ( lis)"
      ],
      "metadata": {
        "colab": {
          "base_uri": "https://localhost:8080/"
        },
        "id": "jwzTD7zb9Ukj",
        "outputId": "5c81fd1b-83af-4089-b331-94454dd04a82"
      },
      "execution_count": 16,
      "outputs": [
        {
          "output_type": "stream",
          "name": "stdout",
          "text": [
            "[1, 2, 4, 5]\n"
          ]
        }
      ]
    },
    {
      "cell_type": "code",
      "source": [
        "lis = [ \"a\",\"b\",\"c\",\"d\"]\n",
        "lis[1]"
      ],
      "metadata": {
        "colab": {
          "base_uri": "https://localhost:8080/",
          "height": 35
        },
        "id": "5AvLJKiL9epQ",
        "outputId": "74a60798-3d99-4bef-cdea-9e5a7d8fa87f"
      },
      "execution_count": 17,
      "outputs": [
        {
          "output_type": "execute_result",
          "data": {
            "text/plain": [
              "'b'"
            ],
            "application/vnd.google.colaboratory.intrinsic+json": {
              "type": "string"
            }
          },
          "metadata": {},
          "execution_count": 17
        }
      ]
    },
    {
      "cell_type": "code",
      "source": [
        "lis= [10 ,20,30 ,40,50]\n",
        "lis [::-1]"
      ],
      "metadata": {
        "colab": {
          "base_uri": "https://localhost:8080/"
        },
        "id": "f4xvQ2fO9uMY",
        "outputId": "5e0ff948-968d-47da-f660-4b836f476b9f"
      },
      "execution_count": 19,
      "outputs": [
        {
          "output_type": "execute_result",
          "data": {
            "text/plain": [
              "[50, 40, 30, 20, 10]"
            ]
          },
          "metadata": {},
          "execution_count": 19
        }
      ]
    },
    {
      "cell_type": "code",
      "source": [
        "tup = (10,20,30)\n",
        "print((tup))"
      ],
      "metadata": {
        "colab": {
          "base_uri": "https://localhost:8080/"
        },
        "id": "YdvPVD4r-QeG",
        "outputId": "aba3be22-c26b-4e29-9037-3dc73eb87632"
      },
      "execution_count": 20,
      "outputs": [
        {
          "output_type": "stream",
          "name": "stdout",
          "text": [
            "(10, 20, 30)\n"
          ]
        }
      ]
    },
    {
      "cell_type": "code",
      "source": [
        "tup = (\"apple\",\"banana\",\"cherry\")\n",
        "tup[0]"
      ],
      "metadata": {
        "colab": {
          "base_uri": "https://localhost:8080/",
          "height": 35
        },
        "id": "dX5jgUxm-dO3",
        "outputId": "752d51fb-d7af-47f6-c729-c49a92412d7d"
      },
      "execution_count": 21,
      "outputs": [
        {
          "output_type": "execute_result",
          "data": {
            "text/plain": [
              "'apple'"
            ],
            "application/vnd.google.colaboratory.intrinsic+json": {
              "type": "string"
            }
          },
          "metadata": {},
          "execution_count": 21
        }
      ]
    },
    {
      "cell_type": "code",
      "source": [
        "tup = (1,2,3,2,4,2)\n",
        "tup.count(2)"
      ],
      "metadata": {
        "colab": {
          "base_uri": "https://localhost:8080/"
        },
        "id": "hle8yrop-qnQ",
        "outputId": "15da19e2-b049-4d09-8d23-43a499df023a"
      },
      "execution_count": 22,
      "outputs": [
        {
          "output_type": "execute_result",
          "data": {
            "text/plain": [
              "3"
            ]
          },
          "metadata": {},
          "execution_count": 22
        }
      ]
    },
    {
      "cell_type": "code",
      "source": [
        "tup = (\"dog\",\"cat\",\"rabbit\")\n",
        "tup.index(\"cat\")"
      ],
      "metadata": {
        "colab": {
          "base_uri": "https://localhost:8080/"
        },
        "id": "eF_kMA4s-5_S",
        "outputId": "a6ce9e0a-e241-4bd2-96ef-f3299bb66e02"
      },
      "execution_count": 23,
      "outputs": [
        {
          "output_type": "execute_result",
          "data": {
            "text/plain": [
              "1"
            ]
          },
          "metadata": {},
          "execution_count": 23
        }
      ]
    },
    {
      "cell_type": "code",
      "source": [
        "tup = ( \"apple\",\"orange\",\"banana\")\n",
        "\"banana\" in tup"
      ],
      "metadata": {
        "colab": {
          "base_uri": "https://localhost:8080/"
        },
        "id": "2g2Wtlf5_HeZ",
        "outputId": "f8055542-802d-4cfa-c754-75d75a50e8ec"
      },
      "execution_count": 24,
      "outputs": [
        {
          "output_type": "execute_result",
          "data": {
            "text/plain": [
              "True"
            ]
          },
          "metadata": {},
          "execution_count": 24
        }
      ]
    },
    {
      "cell_type": "code",
      "source": [
        "i_set ={1,2,3,4,5}\n",
        "print(i_set)"
      ],
      "metadata": {
        "colab": {
          "base_uri": "https://localhost:8080/"
        },
        "id": "KcEX29PlAguM",
        "outputId": "83ee5fb4-efb9-4478-ab9c-a00b0218d1a1"
      },
      "execution_count": 31,
      "outputs": [
        {
          "output_type": "stream",
          "name": "stdout",
          "text": [
            "{1, 2, 3, 4, 5}\n"
          ]
        }
      ]
    },
    {
      "cell_type": "code",
      "source": [
        "i_set ={1,2,3,4}\n",
        "i_set.add(6)\n",
        "print(i_set)"
      ],
      "metadata": {
        "colab": {
          "base_uri": "https://localhost:8080/"
        },
        "id": "FT3uzOhiBEtp",
        "outputId": "b6687f00-c5d6-4af3-ba55-49e4d599f36a"
      },
      "execution_count": 32,
      "outputs": [
        {
          "output_type": "stream",
          "name": "stdout",
          "text": [
            "{1, 2, 3, 4, 6}\n"
          ]
        }
      ]
    }
  ]
}