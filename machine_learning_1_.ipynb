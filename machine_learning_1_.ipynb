{
  "nbformat": 4,
  "nbformat_minor": 0,
  "metadata": {
    "colab": {
      "provenance": []
    },
    "kernelspec": {
      "name": "python3",
      "display_name": "Python 3"
    },
    "language_info": {
      "name": "python"
    }
  },
  "cells": [
    {
      "cell_type": "markdown",
      "source": [
        "#Question  1: What is a parameter?"
      ],
      "metadata": {
        "id": "9G6JbgOQ1TG7"
      }
    },
    {
      "cell_type": "markdown",
      "source": [
        "Ans:A parameter is a variable in a machine learning model that the algorithm learns from training data (e.g., weights in linear regression)."
      ],
      "metadata": {
        "id": "z-qwKJvm1-Rb"
      }
    },
    {
      "cell_type": "markdown",
      "source": [
        "#Question 2: What is correlation?What does negative correlation mean?"
      ],
      "metadata": {
        "id": "aGym0Tc82PJF"
      }
    },
    {
      "cell_type": "markdown",
      "source": [
        "ans: Correlation measures the strength and direction of a relationship between two variables.A negative correlation means that as one variable increases, the other decreases."
      ],
      "metadata": {
        "id": "tnBmJH-R2Zdt"
      }
    },
    {
      "cell_type": "markdown",
      "source": [
        "#Question 3: Define Machine Learning. What are the main components in Machine Learning?"
      ],
      "metadata": {
        "id": "briayhPU2h8j"
      }
    },
    {
      "cell_type": "markdown",
      "source": [
        "ans: Machine Learning is the study of algorithms that learn patterns from data and make decisions or predictions.\n",
        "\n",
        "Main components:\n",
        "\n",
        "Data\n",
        "\n",
        "Model\n",
        "\n",
        "Loss function\n",
        "\n",
        "Optimization algorithm\n",
        "\n",
        "Evaluation metrics"
      ],
      "metadata": {
        "id": "PoKauKdF2n2h"
      }
    },
    {
      "cell_type": "markdown",
      "source": [
        "#Question 4:  How does loss value help in determining whether the model is good or not?"
      ],
      "metadata": {
        "id": "AkIUtMyE2vTT"
      }
    },
    {
      "cell_type": "markdown",
      "source": [
        "ans: A low loss value means the model predictions are close to actual values (better model), while a high loss means poor predictions."
      ],
      "metadata": {
        "id": "u9tfB1QQ24qo"
      }
    },
    {
      "cell_type": "markdown",
      "source": [
        "#Question 5 :  What are continuous and categorical variables?"
      ],
      "metadata": {
        "id": "bFQgZBwy28yQ"
      }
    },
    {
      "cell_type": "markdown",
      "source": [
        "ans:Continuous: Numeric variables (e.g., height, age).\n",
        "\n",
        "Categorical: Non-numeric, label-based variables (e.g., gender, color)."
      ],
      "metadata": {
        "id": "akbbm7Ts3CGF"
      }
    },
    {
      "cell_type": "markdown",
      "source": [
        "#Question 6:  How do we handle categorical variables in ML? Techniques?"
      ],
      "metadata": {
        "id": "_jU5-A163FJW"
      }
    },
    {
      "cell_type": "markdown",
      "source": [
        "ans: Label Encoding\n",
        "\n",
        "One-Hot Encoding\n",
        "\n",
        "Ordinal Encoding\n",
        "\n"
      ],
      "metadata": {
        "id": "KcA0zlb_3KTC"
      }
    },
    {
      "cell_type": "markdown",
      "source": [
        "#Question 7:  What do you mean by training and testing a dataset?"
      ],
      "metadata": {
        "id": "xWOsh3YN3NNH"
      }
    },
    {
      "cell_type": "markdown",
      "source": [
        "ans: Training set: Used to teach the model.\n",
        "\n",
        "Test set: Used to evaluate model performance on unseen data.\n",
        "\n"
      ],
      "metadata": {
        "id": "hMPntpCA3Z3E"
      }
    },
    {
      "cell_type": "markdown",
      "source": [
        "#Question 8:  What is sklearn.preprocessing?"
      ],
      "metadata": {
        "id": "Q_mhjpNC3dMh"
      }
    },
    {
      "cell_type": "markdown",
      "source": [
        "ans: A module in scikit-learn that provides functions for:\n",
        "\n",
        "Scaling\n",
        "\n",
        "Encoding\n",
        "\n",
        "Normalization\n",
        "\n",
        "Imputation"
      ],
      "metadata": {
        "id": "lansZfVJ3iFO"
      }
    },
    {
      "cell_type": "markdown",
      "source": [
        "#Question 9:  What is a Test set?"
      ],
      "metadata": {
        "id": "txq_dcyH3nCb"
      }
    },
    {
      "cell_type": "markdown",
      "source": [
        "ans:"
      ],
      "metadata": {
        "id": "oPg0ay0e3soT"
      }
    },
    {
      "cell_type": "markdown",
      "source": [
        "#Question 10 :How do we split data for training and testing in Python?"
      ],
      "metadata": {
        "id": "Cat-1xnW316i"
      }
    },
    {
      "cell_type": "markdown",
      "source": [
        "ans: Using train_test_split() from sklearn.model_selection:"
      ],
      "metadata": {
        "id": "8cHzFSOy4LCk"
      }
    },
    {
      "cell_type": "markdown",
      "source": [
        "#Question 11: Why perform EDA before model fitting?"
      ],
      "metadata": {
        "id": "2_4OlLH24MWK"
      }
    },
    {
      "cell_type": "markdown",
      "source": [
        "ans: EDA (Exploratory Data Analysis) helps:\n",
        "\n",
        "Understand patterns\n",
        "\n",
        "Detect missing values/outliers\n",
        "\n",
        "Choose right model and preprocessing steps\n",
        "\n"
      ],
      "metadata": {
        "id": "3iadtwj_4S1x"
      }
    },
    {
      "cell_type": "markdown",
      "source": [
        "#Question 12:  What is correlation?"
      ],
      "metadata": {
        "id": "Uh7YnI1I4b1O"
      }
    },
    {
      "cell_type": "markdown",
      "source": [
        "ans: Correlation measures the strength and direction of a relationship between two variables."
      ],
      "metadata": {
        "id": "kCW8e2G84vXK"
      }
    },
    {
      "cell_type": "markdown",
      "source": [
        "#Question 13:What does negative correlation mean?"
      ],
      "metadata": {
        "id": "QHoy1D7f49sx"
      }
    },
    {
      "cell_type": "markdown",
      "source": [
        "ans: A negative correlation means that as one variable increases, the other decreases."
      ],
      "metadata": {
        "id": "Zhsid7Vu5iXB"
      }
    },
    {
      "cell_type": "markdown",
      "source": [
        "#Question 14 :How can you find correlation between variables in Python?"
      ],
      "metadata": {
        "id": "QUAHc4Eu5oT8"
      }
    },
    {
      "cell_type": "markdown",
      "source": [
        "ans: using .corr()"
      ],
      "metadata": {
        "id": "kRsOenm25vKu"
      }
    },
    {
      "cell_type": "markdown",
      "source": [
        "#Question 15:  What is causation? Difference from correlation with example."
      ],
      "metadata": {
        "id": "nYMR9LTI51St"
      }
    },
    {
      "cell_type": "markdown",
      "source": [
        "ans: Causation: X causes Y (e.g., smoking → cancer).\n",
        "\n",
        "Correlation: X and Y move together but one doesn’t cause the other (e.g., ice cream sales & drowning)."
      ],
      "metadata": {
        "id": "cgLV_QRS56GL"
      }
    },
    {
      "cell_type": "markdown",
      "source": [
        "#Question 16:  What is an Optimizer? Types with examples."
      ],
      "metadata": {
        "id": "qJ8TrFdE6BfV"
      }
    },
    {
      "cell_type": "markdown",
      "source": [
        "ans: Optimizers minimize the loss function by updating model weights:\n",
        "\n",
        "SGD\n",
        "\n",
        "Adam\n",
        "\n",
        "RMSprop"
      ],
      "metadata": {
        "id": "AuzRcbM36GEm"
      }
    },
    {
      "cell_type": "code",
      "source": [
        "from tensorflow.keras.optimizers import Adam\n",
        "model.compile(optimizer=Adam(), loss='mse')\n"
      ],
      "metadata": {
        "id": "xa6_3HuH6Lep"
      },
      "execution_count": 2,
      "outputs": []
    },
    {
      "cell_type": "markdown",
      "source": [
        "#Question 17: What is sklearn.linear_model?"
      ],
      "metadata": {
        "id": "IT63-Ues6d58"
      }
    },
    {
      "cell_type": "markdown",
      "source": [
        "ans: A module in scikit-learn that provides linear models like:\n",
        "\n",
        "LinearRegression\n",
        "\n",
        "LogisticRegression\n",
        "\n",
        "Ridge, Lasso, etc."
      ],
      "metadata": {
        "id": "PuKfGBpw6i4x"
      }
    },
    {
      "cell_type": "markdown",
      "source": [
        "#Question 18:  What does model.fit() do? Arguments?"
      ],
      "metadata": {
        "id": "TgbKZt6O6m_b"
      }
    },
    {
      "cell_type": "markdown",
      "source": [
        "ans : model.fit trains your model"
      ],
      "metadata": {
        "id": "usb3QQiW6zKn"
      }
    },
    {
      "cell_type": "markdown",
      "source": [
        "#Question 19: What does model.predict() do? Arguments?"
      ],
      "metadata": {
        "id": "ysRbIqyf63pD"
      }
    },
    {
      "cell_type": "markdown",
      "source": [
        "ans: Predicts output for new data."
      ],
      "metadata": {
        "id": "CMvgxqeF7BcX"
      }
    },
    {
      "cell_type": "markdown",
      "source": [
        "#Question 20 :  What are continuous and categorical variables?"
      ],
      "metadata": {
        "id": "9LzcPDVw7DLO"
      }
    },
    {
      "cell_type": "markdown",
      "source": [
        "ans:Continuous: Numeric variables (e.g., height, age).\n",
        "\n",
        "Categorical: Non-numeric, label-based variables (e.g., gender, color)."
      ],
      "metadata": {
        "id": "n2AzycJl7M4D"
      }
    },
    {
      "cell_type": "markdown",
      "source": [
        "#Question 21 : What is feature scaling? How does it help in ML?"
      ],
      "metadata": {
        "id": "CUXFO7tT7Wiz"
      }
    },
    {
      "cell_type": "markdown",
      "source": [
        "ans: Feature scaling standardizes input features to similar ranges. Helps:\n",
        "\n",
        "Faster convergence\n",
        "\n",
        "Avoids dominance of large-valued features"
      ],
      "metadata": {
        "id": "--sct6M67mEP"
      }
    },
    {
      "cell_type": "markdown",
      "source": [
        "#Question 22 : How do we perform scaling in Python?"
      ],
      "metadata": {
        "id": "He_wMzdq7o7k"
      }
    },
    {
      "cell_type": "markdown",
      "source": [
        "ans: Using StandardScaler or MinMaxScaler"
      ],
      "metadata": {
        "id": "PzI7G3Ql7ttz"
      }
    },
    {
      "cell_type": "markdown",
      "source": [
        "#Question 23: What is sklearn.preprocessing?"
      ],
      "metadata": {
        "id": "XC57FoGX7zYx"
      }
    },
    {
      "cell_type": "markdown",
      "source": [
        "ans: A module in scikit-learn that provides functions for:\n",
        "\n",
        "Scaling\n",
        "\n",
        "Encoding\n",
        "\n",
        "Normalization\n",
        "\n",
        "Imputation\n",
        "\n"
      ],
      "metadata": {
        "id": "r2ZbYRKh73Ni"
      }
    },
    {
      "cell_type": "markdown",
      "source": [
        "#Question 24 :. How do we split data for model fitting (training/testing) in Python?"
      ],
      "metadata": {
        "id": "FAEJTnsJ7-Gp"
      }
    },
    {
      "cell_type": "markdown",
      "source": [
        "ans: Using train_test_split() from sklearn.model_selection:"
      ],
      "metadata": {
        "id": "2E8BxCpf8E9N"
      }
    },
    {
      "cell_type": "markdown",
      "source": [
        "#Question 25 :  Explain data encoding?"
      ],
      "metadata": {
        "id": "-qth2Ka28NSL"
      }
    },
    {
      "cell_type": "markdown",
      "source": [
        "ans : Data encoding converts categorical variables into numerical format for ML algorithms.\n",
        "\n",
        "Label Encoding: Converts labels to 0,1,2...\n",
        "\n",
        "One-Hot Encoding: Creates binary columns"
      ],
      "metadata": {
        "id": "0SNbq01m8TO_"
      }
    }
  ]
}