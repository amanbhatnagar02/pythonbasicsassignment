{
  "nbformat": 4,
  "nbformat_minor": 0,
  "metadata": {
    "colab": {
      "provenance": []
    },
    "kernelspec": {
      "name": "python3",
      "display_name": "Python 3"
    },
    "language_info": {
      "name": "python"
    }
  },
  "cells": [
    {
      "cell_type": "markdown",
      "source": [
        "#Question 1:  What is a Support Vector Machine (SVM)"
      ],
      "metadata": {
        "id": "3T4NDQi-V84x"
      }
    },
    {
      "cell_type": "markdown",
      "source": [
        "ans: An SVM is a supervised learning algorithm that finds the optimal hyperplane to separate classes with the maximum margin. It works well for both linear and non-linear classification."
      ],
      "metadata": {
        "id": "fuYGvhPCZi3A"
      }
    },
    {
      "cell_type": "markdown",
      "source": [
        "#Question 2: What is the difference between Hard Margin and Soft Margin SVM"
      ],
      "metadata": {
        "id": "InXa_le4V_5X"
      }
    },
    {
      "cell_type": "markdown",
      "source": [
        "ans: Hard Margin: No misclassification allowed; data must be perfectly separable.\n",
        "\n",
        "Soft Margin: Allows some misclassification for better generalization on noisy data."
      ],
      "metadata": {
        "id": "1PHTB-ASZp1E"
      }
    },
    {
      "cell_type": "markdown",
      "source": [
        "#Question 3:  What is the mathematical intuition behind SVM"
      ],
      "metadata": {
        "id": "TaigFT1ZV_86"
      }
    },
    {
      "cell_type": "markdown",
      "source": [
        "ans: SVM maximizes the margin\n",
        "2\n",
        "∣\n",
        "∣\n",
        "𝑤\n",
        "∣\n",
        "∣\n",
        "∣∣w∣∣\n",
        "2\n",
        "​\n",
        "  between two classes, subject to classification constraints. It's an optimization problem that finds the best w and b in\n",
        "𝑤\n",
        "𝑇\n",
        "𝑥\n",
        "+\n",
        "𝑏\n",
        "=\n",
        "0\n",
        "w\n",
        "T\n",
        " x+b=0"
      ],
      "metadata": {
        "id": "qf6hwajIZrLV"
      }
    },
    {
      "cell_type": "markdown",
      "source": [
        "#Question 4: What is the role of Lagrange Multipliers in SVM"
      ],
      "metadata": {
        "id": "irXxXsiLWAE1"
      }
    },
    {
      "cell_type": "markdown",
      "source": [
        "ans: They transform the constrained optimization problem into an easier dual form, enabling efficient computation and kernel application."
      ],
      "metadata": {
        "id": "L_YsndFfZ0Qf"
      }
    },
    {
      "cell_type": "markdown",
      "source": [
        "#Question 5: What are Support Vectors in SVM"
      ],
      "metadata": {
        "id": "f52n525IWAFr"
      }
    },
    {
      "cell_type": "markdown",
      "source": [
        "ans:Support vectors are the data points closest to the decision boundary. They are critical in defining the hyperplane.\n",
        "\n"
      ],
      "metadata": {
        "id": "0WKB-zvWaCgy"
      }
    },
    {
      "cell_type": "markdown",
      "source": [
        "#Question 6:  What is a Support Vector Classifier"
      ],
      "metadata": {
        "id": "a8i5lxj9WAGm"
      }
    },
    {
      "cell_type": "markdown",
      "source": [
        "ans: An SVC is an SVM specifically used for classification tasks"
      ],
      "metadata": {
        "id": "nWF8hv1TaLGb"
      }
    },
    {
      "cell_type": "markdown",
      "source": [
        "#Question 7:  What is a Support Vector regressor"
      ],
      "metadata": {
        "id": "Vn_hwKmUWAHg"
      }
    },
    {
      "cell_type": "markdown",
      "source": [
        "ans: SVR applies SVM principles to regression, aiming to fit the best line within a threshold margin of error."
      ],
      "metadata": {
        "id": "YPtqUwdZaan3"
      }
    },
    {
      "cell_type": "markdown",
      "source": [
        "#Question 8: What is the Kernel Trick in SVM"
      ],
      "metadata": {
        "id": "C7Q1oRObWAI5"
      }
    },
    {
      "cell_type": "markdown",
      "source": [
        "ans: The kernel trick allows SVMs to operate in high-dimensional space without explicitly transforming the data, enabling non-linear classification."
      ],
      "metadata": {
        "id": "2tkZSuhdad72"
      }
    },
    {
      "cell_type": "markdown",
      "source": [
        "#Question 9:  Compare Linear Kernel, Polynomial Kernel, and RBF Kernel"
      ],
      "metadata": {
        "id": "g3U_gr6SWAJy"
      }
    },
    {
      "cell_type": "markdown",
      "source": [
        "ans: Linear: For linearly separable data.\n",
        "\n",
        "Polynomial: Handles more complex patterns; degree controls flexibility.\n",
        "\n",
        "RBF: Most used; captures complex, non-linear relationships."
      ],
      "metadata": {
        "id": "HIuYfTMIaiEq"
      }
    },
    {
      "cell_type": "markdown",
      "source": [
        "#Question 10:  What is the effect of the C parameter in SVM"
      ],
      "metadata": {
        "id": "bWKWhQJaWAK9"
      }
    },
    {
      "cell_type": "markdown",
      "source": [
        "ans: C controls the trade-off between margin width and misclassification.\n",
        "\n",
        "High C = less tolerance for errors\n",
        "\n",
        "Low C = wider margin, more tolerance for errors"
      ],
      "metadata": {
        "id": "MiV0k-2Gao4p"
      }
    },
    {
      "cell_type": "markdown",
      "source": [
        "#Question 11: What is the role of the Gamma parameter in RBF Kernel SVM"
      ],
      "metadata": {
        "id": "OXw4JkfXWAMA"
      }
    },
    {
      "cell_type": "markdown",
      "source": [
        "ans: Gamma defines how far a single training example influences the decision boundary.\n",
        "\n",
        "High gamma = close influence (overfit)\n",
        "\n",
        "Low gamma = far-reaching influence (underfit)\n",
        "\n"
      ],
      "metadata": {
        "id": "9I-lMOC3atUV"
      }
    },
    {
      "cell_type": "markdown",
      "source": [
        "#Question 12:  What is the Naïve Bayes classifier, and why is it called \"Naïve\""
      ],
      "metadata": {
        "id": "Kf6WvbxXWANC"
      }
    },
    {
      "cell_type": "markdown",
      "source": [
        "ans: Naïve Bayes is a probabilistic classifier based on Bayes’ Theorem, assuming that features are independent of each other — hence \"naïve\"."
      ],
      "metadata": {
        "id": "WoHrM2Qoaxlk"
      }
    },
    {
      "cell_type": "markdown",
      "source": [
        "#Question 13: What is Bayes’ Theorem"
      ],
      "metadata": {
        "id": "rfmv2GLMWAOO"
      }
    },
    {
      "cell_type": "markdown",
      "source": [
        "It calculates the probability of event A given B, using prior knowledge of B given A."
      ],
      "metadata": {
        "id": "k73ZZJy6a_JL"
      }
    },
    {
      "cell_type": "markdown",
      "source": [
        "#Question 14:  Explain the differences between Gaussian Naïve Bayes, Multinomial Naïve Bayes, and Bernoulli Naïve Bayes"
      ],
      "metadata": {
        "id": "t4fGyIz7WAQW"
      }
    },
    {
      "cell_type": "markdown",
      "source": [
        "ans:\n",
        "Gaussian\tContinuous data (e.g., height)\tReal-valued\n",
        "\n",
        "Multinomial\tText classification\tCount-based\n",
        "\n",
        "Bernoulli\tBinary features (0 or 1)\tBinary (presence)"
      ],
      "metadata": {
        "id": "o7kPB3DWbEue"
      }
    },
    {
      "cell_type": "markdown",
      "source": [
        "#Question 15:  When should you use Gaussian Naïve Bayes over other variants"
      ],
      "metadata": {
        "id": "z_EHDi_QWARk"
      }
    },
    {
      "cell_type": "markdown",
      "source": [
        "ans: When features are continuous and normally distributed — like in medical or sensor data."
      ],
      "metadata": {
        "id": "3K2t8a49bTdD"
      }
    },
    {
      "cell_type": "markdown",
      "source": [
        "#Question 16:  What are the key assumptions made by Naïve Bayes"
      ],
      "metadata": {
        "id": "eXQFOjCZWAUj"
      }
    },
    {
      "cell_type": "markdown",
      "source": [
        "ans: All features are independent\n",
        "\n",
        "Features contribute equally to the outcome"
      ],
      "metadata": {
        "id": "O45O3H7dbWhi"
      }
    },
    {
      "cell_type": "markdown",
      "source": [
        "#Question 17:  What are the advantages and disadvantages of Naïve Bayes"
      ],
      "metadata": {
        "id": "NxLKU3JGWAVb"
      }
    },
    {
      "cell_type": "markdown",
      "source": [
        "ans: Advantages:\n",
        "\n",
        "Fast and simple\n",
        "\n",
        "Works well with high-dimensional data\n",
        "\n",
        "Disadvantages:\n",
        "\n",
        "Strong (unrealistic) independence assumption\n",
        "\n",
        "Can perform poorly with correlated features"
      ],
      "metadata": {
        "id": "oPGjsybkba0a"
      }
    },
    {
      "cell_type": "markdown",
      "source": [
        "#Question 18: Why is Naïve Bayes a good choice for text classification"
      ],
      "metadata": {
        "id": "h8Uh4CCFWAWW"
      }
    },
    {
      "cell_type": "markdown",
      "source": [
        "ans: Because:\n",
        "\n",
        "Text features (words) are high-dimensional and sparse\n",
        "\n",
        "Naïve Bayes handles frequency-based data efficiently\n",
        "\n",
        "Assumes word independence, which often works well in practice"
      ],
      "metadata": {
        "id": "qUkL1Z0FbexQ"
      }
    },
    {
      "cell_type": "markdown",
      "source": [
        "#Question 19:  Compare SVM and Naïve Bayes for classification tasks"
      ],
      "metadata": {
        "id": "M-iRqPpsWAXR"
      }
    },
    {
      "cell_type": "markdown",
      "source": [
        "ans: SVM:\n",
        "\n",
        "High accuracy\n",
        "\n",
        "Slower training\n",
        "\n",
        "Needs feature scaling\n",
        "\n",
        "Good for complex boundaries\n",
        "\n",
        "Less interpretable\n",
        "\n",
        "Naïve Bayes:\n",
        "\n",
        "Very fast\n",
        "\n",
        "Works well with text/high dimensions\n",
        "\n",
        "Assumes feature independence\n",
        "\n",
        "Robust with small data\n",
        "\n",
        "Easy to interpret"
      ],
      "metadata": {
        "id": "y4iXJMLlblNB"
      }
    },
    {
      "cell_type": "markdown",
      "source": [
        "#Question 20: How does Laplace Smoothing help in Naïve Bayes"
      ],
      "metadata": {
        "id": "9e1oqdLCWAYO"
      }
    },
    {
      "cell_type": "markdown",
      "source": [
        "Laplace Smoothing avoids zero probabilities by adding a small constant (usually 1) to each count, ensuring all feature values have non-zero probability.\n",
        "\n"
      ],
      "metadata": {
        "id": "yJf6jB2kbs46"
      }
    },
    {
      "cell_type": "markdown",
      "source": [
        "#practicle question"
      ],
      "metadata": {
        "id": "1WY2VlPAb8Or"
      }
    },
    {
      "cell_type": "markdown",
      "source": [
        "#Question 21:  Write a Python program to train an SVM Classifier on the Iris dataset and evaluate accuracy"
      ],
      "metadata": {
        "id": "sdbNDbureJfu"
      }
    },
    {
      "cell_type": "code",
      "source": [
        "from sklearn.datasets import load_iris\n",
        "from sklearn.model_selection import train_test_split\n",
        "from sklearn.svm import SVC\n",
        "from sklearn.metrics import accuracy_score\n",
        "\n",
        "# Load Iris dataset\n",
        "iris = load_iris()\n",
        "X = iris.data\n",
        "y = iris.target\n",
        "\n",
        "# Split into train and test sets\n",
        "X_train, X_test, y_train, y_test = train_test_split(X, y, test_size=0.3, random_state=42)\n",
        "\n",
        "# Train SVM classifier\n",
        "model = SVC(kernel='linear')\n",
        "model.fit(X_train, y_train)\n",
        "\n",
        "# Predict and evaluate\n",
        "y_pred = model.predict(X_test)\n",
        "accuracy = accuracy_score(y_test, y_pred)\n",
        "\n",
        "print(\"Accuracy of SVM on Iris dataset:\", accuracy)"
      ],
      "metadata": {
        "colab": {
          "base_uri": "https://localhost:8080/"
        },
        "id": "Bc_bA_T9eMFz",
        "outputId": "6b0fbc36-e553-4ece-cae8-1d3afb49580d"
      },
      "execution_count": null,
      "outputs": [
        {
          "output_type": "stream",
          "name": "stdout",
          "text": [
            "Accuracy of SVM on Iris dataset: 1.0\n"
          ]
        }
      ]
    },
    {
      "cell_type": "markdown",
      "source": [
        "#Question 22:  Write a Python program to train two SVM classifiers with Linear and RBF kernels on the Wine dataset, then compare their accuracies"
      ],
      "metadata": {
        "id": "sIr4T3qOcJLi"
      }
    },
    {
      "cell_type": "code",
      "source": [
        "from sklearn import datasets\n",
        "from sklearn.model_selection import train_test_split\n",
        "from sklearn.svm import SVC\n",
        "from sklearn.metrics import accuracy_score\n",
        "\n",
        "# Load Wine dataset\n",
        "wine = datasets.load_wine()\n",
        "X = wine.data\n",
        "y = wine.target\n",
        "\n",
        "# Split into train and test sets\n",
        "X_train, X_test, y_train, y_test = train_test_split(X, y, test_size=0.3, random_state=42)\n",
        "\n",
        "# Train SVM with Linear kernel\n",
        "svm_linear = SVC(kernel='linear', random_state=42)\n",
        "svm_linear.fit(X_train, y_train)\n",
        "y_pred_linear = svm_linear.predict(X_test)\n",
        "accuracy_linear = accuracy_score(y_test, y_pred_linear)\n",
        "\n",
        "# Train SVM with RBF kernel\n",
        "svm_rbf = SVC(kernel='rbf', random_state=42)\n",
        "svm_rbf.fit(X_train, y_train)\n",
        "y_pred_rbf = svm_rbf.predict(X_test)\n",
        "accuracy_rbf = accuracy_score(y_test, y_pred_rbf)\n",
        "\n",
        "# Print accuracies\n",
        "print(f\"Accuracy of SVM with Linear kernel: {accuracy_linear:.4f}\")\n",
        "print(f\"Accuracy of SVM with RBF kernel: {accuracy_rbf:.4f}\")"
      ],
      "metadata": {
        "colab": {
          "base_uri": "https://localhost:8080/"
        },
        "id": "eGZS3QGGefGP",
        "outputId": "e1ae5369-70cb-45d0-93ff-c43a078cb89e"
      },
      "execution_count": null,
      "outputs": [
        {
          "output_type": "stream",
          "name": "stdout",
          "text": [
            "Accuracy of SVM with Linear kernel: 0.9815\n",
            "Accuracy of SVM with RBF kernel: 0.7593\n"
          ]
        }
      ]
    },
    {
      "cell_type": "markdown",
      "source": [
        "#Question 23:  Write a Python program to train an SVM Regressor (SVR) on a housing dataset and evaluate it using Mean Squared Error (MSE)"
      ],
      "metadata": {
        "id": "E1E6NQ23cJT9"
      }
    },
    {
      "cell_type": "code",
      "source": [
        "from sklearn import datasets\n",
        "from sklearn.model_selection import train_test_split\n",
        "from sklearn.svm import SVC\n",
        "from sklearn.metrics import accuracy_score\n",
        "\n",
        "# Load Wine dataset\n",
        "wine = datasets.load_wine()\n",
        "X = wine.data\n",
        "y = wine.target\n",
        "\n",
        "# Split into train and test sets\n",
        "X_train, X_test, y_train, y_test = train_test_split(X, y, test_size=0.3, random_state=42)\n",
        "\n",
        "# Train SVM with Linear kernel\n",
        "svm_linear = SVC(kernel='linear', random_state=42)\n",
        "svm_linear.fit(X_train, y_train)\n",
        "y_pred_linear = svm_linear.predict(X_test)\n",
        "accuracy_linear = accuracy_score(y_test, y_pred_linear)\n",
        "\n",
        "# Train SVM with RBF kernel\n",
        "svm_rbf = SVC(kernel='rbf', random_state=42)\n",
        "svm_rbf.fit(X_train, y_train)\n",
        "y_pred_rbf = svm_rbf.predict(X_test)\n",
        "accuracy_rbf = accuracy_score(y_test, y_pred_rbf)\n",
        "\n",
        "# Print accuracies\n",
        "print(f\"Accuracy of SVM with Linear kernel: {accuracy_linear:.4f}\")\n",
        "print(f\"Accuracy of SVM with RBF kernel: {accuracy_rbf:.4f}\")"
      ],
      "metadata": {
        "colab": {
          "base_uri": "https://localhost:8080/"
        },
        "id": "p4OufEwDeyao",
        "outputId": "ee71bda7-e885-4172-e943-d23331c641a9"
      },
      "execution_count": null,
      "outputs": [
        {
          "output_type": "stream",
          "name": "stdout",
          "text": [
            "Accuracy of SVM with Linear kernel: 0.9815\n",
            "Accuracy of SVM with RBF kernel: 0.7593\n"
          ]
        }
      ]
    },
    {
      "cell_type": "markdown",
      "source": [
        "#Question 24:  Write a Python program to train an SVM Classifier with a Polynomial Kernel and visualize the decision boundary"
      ],
      "metadata": {
        "id": "c5tAxbcfcJmd"
      }
    },
    {
      "cell_type": "code",
      "source": [
        "import numpy as np\n",
        "import matplotlib.pyplot as plt\n",
        "from sklearn import datasets\n",
        "from sklearn.svm import SVC\n",
        "\n",
        "# Generate a simple 2D dataset (for easy visualization)\n",
        "X, y = datasets.make_moons(n_samples=200, noise=0.2, random_state=42)\n",
        "\n",
        "# Train SVM with Polynomial kernel\n",
        "svm_poly = SVC(kernel='poly', degree=3, coef0=1, C=1)\n",
        "svm_poly.fit(X, y)\n",
        "\n",
        "# Create a grid to plot decision boundary\n",
        "x_min, x_max = X[:, 0].min() - 1, X[:, 0].max() + 1\n",
        "y_min, y_max = X[:, 1].min() - 1, X[:, 1].max() + 1\n",
        "xx, yy = np.meshgrid(np.linspace(x_min, x_max, 500),\n",
        "                     np.linspace(y_min, y_max, 500))\n",
        "\n",
        "# Predict on grid points\n",
        "Z = svm_poly.predict(np.c_[xx.ravel(), yy.ravel()])\n",
        "Z = Z.reshape(xx.shape)\n",
        "\n",
        "# Plot decision boundary and data points\n",
        "plt.contourf(xx, yy, Z, alpha=0.3, cmap=plt.cm.coolwarm)\n",
        "plt.scatter(X[:, 0], X[:, 1], c=y, s=30, cmap=plt.cm.coolwarm, edgecolors='k')\n",
        "plt.title(\"SVM with Polynomial Kernel (degree=3)\")\n",
        "plt.xlabel(\"Feature 1\")\n",
        "plt.ylabel(\"Feature 2\")\n",
        "plt.show()"
      ],
      "metadata": {
        "colab": {
          "base_uri": "https://localhost:8080/",
          "height": 472
        },
        "id": "TMYcoQuBjnWi",
        "outputId": "31335736-78f9-46e9-eed8-fe13c78e898d"
      },
      "execution_count": null,
      "outputs": [
        {
          "output_type": "display_data",
          "data": {
            "text/plain": [
              "<Figure size 640x480 with 1 Axes>"
            ],
            "image/png": "[encoded data removed]"
          },
          "metadata": {}
        }
      ]
    },
    {
      "cell_type": "markdown",
      "source": [
        "#Question 25: Write a Python program to train a Gaussian Naïve Bayes classifier on the Breast Cancer dataset and evaluate accuracy"
      ],
      "metadata": {
        "id": "lOP1CWFVcJqD"
      }
    },
    {
      "cell_type": "code",
      "source": [
        "from sklearn import datasets\n",
        "from sklearn.model_selection import train_test_split\n",
        "from sklearn.naive_bayes import GaussianNB\n",
        "from sklearn.metrics import accuracy_score\n",
        "\n",
        "# Load Breast Cancer dataset\n",
        "cancer = datasets.load_breast_cancer()\n",
        "X = cancer.data\n",
        "y = cancer.target\n",
        "\n",
        "# Split data into train and test sets\n",
        "X_train, X_test, y_train, y_test = train_test_split(X, y, test_size=0.3, random_state=42)\n",
        "\n",
        "# Initialize Gaussian Naive Bayes classifier\n",
        "gnb = GaussianNB()\n",
        "\n",
        "# Train the model\n",
        "gnb.fit(X_train, y_train)\n",
        "\n",
        "# Predict on test set\n",
        "y_pred = gnb.predict(X_test)\n",
        "\n",
        "# Calculate accuracy\n",
        "accuracy = accuracy_score(y_test, y_pred)\n",
        "\n",
        "print(f\"Accuracy of Gaussian Naive Bayes classifier: {accuracy:.4f}\")"
      ],
      "metadata": {
        "colab": {
          "base_uri": "https://localhost:8080/"
        },
        "id": "v3OvcNBXkDdm",
        "outputId": "81eb66fd-77e7-4b49-db2e-8d8ec7e8158d"
      },
      "execution_count": null,
      "outputs": [
        {
          "output_type": "stream",
          "name": "stdout",
          "text": [
            "Accuracy of Gaussian Naive Bayes classifier: 0.9415\n"
          ]
        }
      ]
    },
    {
      "cell_type": "markdown",
      "source": [
        "#Question 26:  Write a Python program to train a Multinomial Naïve Bayes classifier for text classification using the 20 Newsgroups dataset."
      ],
      "metadata": {
        "id": "pKTF_c7BcJs3"
      }
    },
    {
      "cell_type": "code",
      "source": [
        "from sklearn.datasets import fetch_20newsgroups\n",
        "from sklearn.feature_extraction.text import CountVectorizer, TfidfTransformer\n",
        "from sklearn.naive_bayes import MultinomialNB\n",
        "from sklearn.pipeline import Pipeline\n",
        "from sklearn.model_selection import train_test_split\n",
        "from sklearn.metrics import accuracy_score, classification_report\n",
        "\n",
        "# Load 20 Newsgroups dataset (subset='all' for full dataset)\n",
        "newsgroups = fetch_20newsgroups(subset='all')\n",
        "\n",
        "X = newsgroups.data      # Text data\n",
        "y = newsgroups.target    # Labels\n",
        "\n",
        "# Split into train and test sets\n",
        "X_train, X_test, y_train, y_test = train_test_split(X, y, test_size=0.3, random_state=42)\n",
        "\n",
        "# Create a pipeline that vectorizes, transforms with TF-IDF, then applies MultinomialNB\n",
        "model = Pipeline([\n",
        "    ('vect', CountVectorizer()),          # Convert text to token counts\n",
        "    ('tfidf', TfidfTransformer()),        # Apply TF-IDF weighting\n",
        "    ('clf', MultinomialNB()),             # Multinomial Naive Bayes classifier\n",
        "])\n",
        "\n",
        "# Train the model\n",
        "model.fit(X_train, y_train)\n",
        "\n",
        "# Predict on test data\n",
        "y_pred = model.predict(X_test)\n",
        "\n",
        "# Evaluate accuracy\n",
        "accuracy = accuracy_score(y_test, y_pred)\n",
        "print(f\"Accuracy of Multinomial Naive Bayes classifier: {accuracy:.4f}\")\n",
        "\n",
        "# Optional: Print detailed classification report\n",
        "print(\"\\nClassification Report:\\n\", classification_report(y_test, y_pred, target_names=newsgroups.target_names))"
      ],
      "metadata": {
        "colab": {
          "base_uri": "https://localhost:8080/"
        },
        "id": "_i4Jv6zqkRqI",
        "outputId": "ce79b9ff-5873-4f8f-cbf8-3c17434c9645"
      },
      "execution_count": null,
      "outputs": [
        {
          "output_type": "stream",
          "name": "stdout",
          "text": [
            "Accuracy of Multinomial Naive Bayes classifier: 0.8364\n",
            "\n",
            "Classification Report:\n",
            "                           precision    recall  f1-score   support\n",
            "\n",
            "             alt.atheism       0.87      0.70      0.78       236\n",
            "           comp.graphics       0.84      0.80      0.82       287\n",
            " comp.os.ms-windows.misc       0.86      0.82      0.84       290\n",
            "comp.sys.ibm.pc.hardware       0.63      0.84      0.72       285\n",
            "   comp.sys.mac.hardware       0.96      0.79      0.87       312\n",
            "          comp.windows.x       0.96      0.78      0.86       308\n",
            "            misc.forsale       0.92      0.67      0.78       276\n",
            "               rec.autos       0.90      0.90      0.90       304\n",
            "         rec.motorcycles       0.93      0.95      0.94       279\n",
            "      rec.sport.baseball       0.96      0.94      0.95       308\n",
            "        rec.sport.hockey       0.91      0.97      0.94       309\n",
            "               sci.crypt       0.76      0.98      0.86       290\n",
            "         sci.electronics       0.91      0.77      0.83       304\n",
            "                 sci.med       0.97      0.88      0.92       300\n",
            "               sci.space       0.89      0.97      0.93       297\n",
            "  soc.religion.christian       0.49      0.99      0.65       292\n",
            "      talk.politics.guns       0.78      0.96      0.86       270\n",
            "   talk.politics.mideast       0.93      0.98      0.96       272\n",
            "      talk.politics.misc       1.00      0.58      0.74       239\n",
            "      talk.religion.misc       0.97      0.16      0.28       196\n",
            "\n",
            "                accuracy                           0.84      5654\n",
            "               macro avg       0.87      0.82      0.82      5654\n",
            "            weighted avg       0.87      0.84      0.83      5654\n",
            "\n"
          ]
        }
      ]
    },
    {
      "cell_type": "markdown",
      "source": [
        "#Question 27: Write a Python program to train an SVM Classifier with different C values and compare the decision boundaries visually"
      ],
      "metadata": {
        "id": "LhtwRqfhcJvz"
      }
    },
    {
      "cell_type": "code",
      "source": [
        "import numpy as np\n",
        "import matplotlib.pyplot as plt\n",
        "from sklearn import datasets\n",
        "from sklearn.svm import SVC\n",
        "\n",
        "# Generate a 2D dataset for visualization\n",
        "X, y = datasets.make_blobs(n_samples=200, centers=2, random_state=6, cluster_std=1.5)\n",
        "\n",
        "# Different C values to try\n",
        "C_values = [0.01, 0.1, 1, 10, 100]\n",
        "\n",
        "# Create mesh grid for plotting decision boundaries\n",
        "x_min, x_max = X[:, 0].min() - 1, X[:, 0].max() + 1\n",
        "y_min, y_max = X[:, 1].min() - 1, X[:, 1].max() + 1\n",
        "xx, yy = np.meshgrid(np.linspace(x_min, x_max, 500),\n",
        "                     np.linspace(y_min, y_max, 500))\n",
        "\n",
        "plt.figure(figsize=(20, 4))\n",
        "\n",
        "for i, C in enumerate(C_values):\n",
        "    # Train SVM with Linear kernel and given C\n",
        "    svm = SVC(kernel='linear', C=C)\n",
        "    svm.fit(X, y)\n",
        "\n",
        "    # Predict on the grid\n",
        "    Z = svm.predict(np.c_[xx.ravel(), yy.ravel()])\n",
        "    Z = Z.reshape(xx.shape)\n",
        "\n",
        "    # Plot decision boundary\n",
        "    plt.subplot(1, len(C_values), i + 1)\n",
        "    plt.contourf(xx, yy, Z, alpha=0.3, cmap=plt.cm.coolwarm)\n",
        "    plt.scatter(X[:, 0], X[:, 1], c=y, s=30, cmap=plt.cm.coolwarm, edgecolors='k')\n",
        "    plt.title(f\"SVM with Linear Kernel\\nC = {C}\")\n",
        "    plt.xlabel(\"Feature 1\")\n",
        "    plt.ylabel(\"Feature 2\")\n",
        "\n",
        "plt.tight_layout()\n",
        "plt.show()"
      ],
      "metadata": {
        "colab": {
          "base_uri": "https://localhost:8080/",
          "height": 261
        },
        "id": "4JYteiPCkhF2",
        "outputId": "ea6f6d6e-8545-471f-af55-f4e33e74dabf"
      },
      "execution_count": null,
      "outputs": [
        {
          "output_type": "display_data",
          "data": {
            "text/plain": [
              "<Figure size 2000x400 with 5 Axes>"
            ],
            "image/png": "[encoded data removed]"
          },
          "metadata": {}
        }
      ]
    },
    {
      "cell_type": "markdown",
      "source": [
        "#Question 28: Write a Python program to train a Bernoulli Naïve Bayes classifier for binary classification on a dataset with binary features"
      ],
      "metadata": {
        "id": "6cZprm4XcJyt"
      }
    },
    {
      "cell_type": "code",
      "source": [
        "from sklearn.datasets import make_classification\n",
        "from sklearn.model_selection import train_test_split\n",
        "from sklearn.naive_bayes import BernoulliNB\n",
        "from sklearn.metrics import accuracy_score\n",
        "\n",
        "# Generate a synthetic binary classification dataset with binary features\n",
        "X, y = make_classification(n_samples=500, n_features=20, n_informative=10,\n",
        "                           n_redundant=0, n_classes=2, random_state=42)\n",
        "\n",
        "# Convert features to binary by thresholding at 0 (to simulate binary features)\n",
        "X_binary = (X > 0).astype(int)\n",
        "\n",
        "# Split dataset into train and test sets\n",
        "X_train, X_test, y_train, y_test = train_test_split(X_binary, y, test_size=0.3, random_state=42)\n",
        "\n",
        "# Initialize Bernoulli Naive Bayes classifier\n",
        "bnb = BernoulliNB()\n",
        "\n",
        "# Train the model\n",
        "bnb.fit(X_train, y_train)\n",
        "\n",
        "# Predict on test data\n",
        "y_pred = bnb.predict(X_test)\n",
        "\n",
        "# Calculate accuracy\n",
        "accuracy = accuracy_score(y_test, y_pred)\n",
        "\n",
        "print(f\"Accuracy of Bernoulli Naive Bayes classifier: {accuracy:.4f}\")"
      ],
      "metadata": {
        "colab": {
          "base_uri": "https://localhost:8080/"
        },
        "id": "l9CORI78ktom",
        "outputId": "f5c0ddba-8fcb-4e1b-bcb7-f3e56d46b6cd"
      },
      "execution_count": null,
      "outputs": [
        {
          "output_type": "stream",
          "name": "stdout",
          "text": [
            "Accuracy of Bernoulli Naive Bayes classifier: 0.7000\n"
          ]
        }
      ]
    },
    {
      "cell_type": "markdown",
      "source": [
        "#Question 29:  Write a Python program to apply feature scaling before training an SVM model and compare results with unscaled data"
      ],
      "metadata": {
        "id": "T68bMokqcJ1l"
      }
    },
    {
      "cell_type": "code",
      "source": [
        "from sklearn import datasets\n",
        "from sklearn.model_selection import train_test_split\n",
        "from sklearn.svm import SVC\n",
        "from sklearn.preprocessing import StandardScaler\n",
        "from sklearn.metrics import accuracy_score\n",
        "\n",
        "# Load the Iris dataset (a common dataset for classification)\n",
        "iris = datasets.load_iris()\n",
        "X = iris.data\n",
        "y = iris.target\n",
        "\n",
        "# Split into train and test sets\n",
        "X_train, X_test, y_train, y_test = train_test_split(X, y, test_size=0.3, random_state=42)\n",
        "\n",
        "# 1. Train SVM on unscaled data\n",
        "svm_unscaled = SVC(kernel='rbf', random_state=42)\n",
        "svm_unscaled.fit(X_train, y_train)\n",
        "y_pred_unscaled = svm_unscaled.predict(X_test)\n",
        "accuracy_unscaled = accuracy_score(y_test, y_pred_unscaled)\n",
        "\n",
        "# 2. Scale features using StandardScaler\n",
        "scaler = StandardScaler()\n",
        "X_train_scaled = scaler.fit_transform(X_train)\n",
        "X_test_scaled = scaler.transform(X_test)\n",
        "\n",
        "# Train SVM on scaled data\n",
        "svm_scaled = SVC(kernel='rbf', random_state=42)\n",
        "svm_scaled.fit(X_train_scaled, y_train)\n",
        "y_pred_scaled = svm_scaled.predict(X_test_scaled)\n",
        "accuracy_scaled = accuracy_score(y_test, y_pred_scaled)\n",
        "\n",
        "# Print accuracies\n",
        "print(f\"Accuracy without scaling: {accuracy_unscaled:.4f}\")\n",
        "print(f\"Accuracy with scaling:    {accuracy_scaled:.4f}\")"
      ],
      "metadata": {
        "colab": {
          "base_uri": "https://localhost:8080/"
        },
        "id": "nbTgpwXkk998",
        "outputId": "e5f05c5b-abbc-467b-fc7e-0f8bbd2e52e2"
      },
      "execution_count": null,
      "outputs": [
        {
          "output_type": "stream",
          "name": "stdout",
          "text": [
            "Accuracy without scaling: 1.0000\n",
            "Accuracy with scaling:    1.0000\n"
          ]
        }
      ]
    },
    {
      "cell_type": "markdown",
      "source": [
        "#Question 30:  Write a Python program to train a Gaussian Naïve Bayes model and compare the predictions before and after Laplace Smoothing"
      ],
      "metadata": {
        "id": "VKOaNae0cJ4Z"
      }
    },
    {
      "cell_type": "code",
      "source": [
        "from sklearn.datasets import fetch_20newsgroups\n",
        "from sklearn.feature_extraction.text import CountVectorizer\n",
        "from sklearn.naive_bayes import MultinomialNB\n",
        "from sklearn.model_selection import train_test_split\n",
        "from sklearn.metrics import accuracy_score\n",
        "\n",
        "# Load a subset of 20 newsgroups dataset\n",
        "data = fetch_20newsgroups(subset='all', categories=['rec.sport.hockey', 'sci.space'])\n",
        "X = data.data\n",
        "y = data.target\n",
        "\n",
        "# Convert text data to count vectors\n",
        "vectorizer = CountVectorizer()\n",
        "X_counts = vectorizer.fit_transform(X)\n",
        "\n",
        "# Split data into train and test sets\n",
        "X_train, X_test, y_train, y_test = train_test_split(X_counts, y, test_size=0.3, random_state=42)\n",
        "\n",
        "# Train MultinomialNB with very small smoothing instead of zero\n",
        "mnb_no_smoothing = MultinomialNB(alpha=1e-10)\n",
        "mnb_no_smoothing.fit(X_train, y_train)\n",
        "y_pred_no_smooth = mnb_no_smoothing.predict(X_test)\n",
        "acc_no_smooth = accuracy_score(y_test, y_pred_no_smooth)\n",
        "\n",
        "# Train MultinomialNB with Laplace smoothing (alpha=1)\n",
        "mnb_smoothing = MultinomialNB(alpha=1)\n",
        "mnb_smoothing.fit(X_train, y_train)\n",
        "y_pred_smooth = mnb_smoothing.predict(X_test)\n",
        "acc_smooth = accuracy_score(y_test, y_pred_smooth)\n",
        "\n",
        "print(f\"Accuracy without Laplace smoothing (alpha≈0): {acc_no_smooth:.4f}\")\n",
        "print(f\"Accuracy with Laplace smoothing (alpha=1):    {acc_smooth:.4f}\")"
      ],
      "metadata": {
        "colab": {
          "base_uri": "https://localhost:8080/"
        },
        "id": "XTpe5iE1lKDS",
        "outputId": "487dd3af-0381-441d-de59-6fb04e7480da"
      },
      "execution_count": null,
      "outputs": [
        {
          "output_type": "stream",
          "name": "stdout",
          "text": [
            "Accuracy without Laplace smoothing (alpha≈0): 0.9983\n",
            "Accuracy with Laplace smoothing (alpha=1):    0.9983\n"
          ]
        }
      ]
    },
    {
      "cell_type": "markdown",
      "source": [
        "#Question 31:  Write a Python program to train an SVM Classifier and use GridSearchCV to tune the hyperparameters (C, gamma, kernel)"
      ],
      "metadata": {
        "id": "Sr-qrpt2cJ7N"
      }
    },
    {
      "cell_type": "code",
      "source": [
        "from sklearn import datasets\n",
        "from sklearn.model_selection import train_test_split, GridSearchCV\n",
        "from sklearn.svm import SVC\n",
        "from sklearn.metrics import accuracy_score\n",
        "\n",
        "# Load dataset\n",
        "iris = datasets.load_iris()\n",
        "X = iris.data\n",
        "y = iris.target\n",
        "\n",
        "# Split into train and test sets\n",
        "X_train, X_test, y_train, y_test = train_test_split(X, y, test_size=0.3, random_state=42)\n",
        "\n",
        "# Define the SVM model\n",
        "svm = SVC()\n",
        "\n",
        "# Define parameter grid for GridSearchCV\n",
        "param_grid = {\n",
        "    'C': [0.1, 1, 10, 100],\n",
        "    'gamma': ['scale', 'auto', 0.01, 0.1, 1],\n",
        "    'kernel': ['linear', 'rbf', 'poly']\n",
        "}\n",
        "\n",
        "# Initialize GridSearchCV\n",
        "grid_search = GridSearchCV(estimator=svm, param_grid=param_grid, cv=5, n_jobs=-1, verbose=1)\n",
        "\n",
        "# Fit GridSearchCV\n",
        "grid_search.fit(X_train, y_train)\n",
        "\n",
        "# Best parameters found\n",
        "print(\"Best hyperparameters:\", grid_search.best_params_)\n",
        "\n",
        "# Predict using the best estimator\n",
        "y_pred = grid_search.best_estimator_.predict(X_test)\n",
        "\n",
        "# Calculate accuracy\n",
        "accuracy = accuracy_score(y_test, y_pred)\n",
        "print(f\"Test set accuracy with best parameters: {accuracy:.4f}\")"
      ],
      "metadata": {
        "colab": {
          "base_uri": "https://localhost:8080/"
        },
        "id": "eti2dNgqltzK",
        "outputId": "858f9c3a-27a5-4ca2-e10c-fa7805f288c2"
      },
      "execution_count": null,
      "outputs": [
        {
          "output_type": "stream",
          "name": "stdout",
          "text": [
            "Fitting 5 folds for each of 60 candidates, totalling 300 fits\n",
            "Best hyperparameters: {'C': 1, 'gamma': 'scale', 'kernel': 'poly'}\n",
            "Test set accuracy with best parameters: 0.9778\n"
          ]
        }
      ]
    },
    {
      "cell_type": "markdown",
      "source": [
        "#Question 32:  Write a Python program to train an SVM Classifier on an imbalanced dataset and apply class weighting and check it improve accuracy"
      ],
      "metadata": {
        "id": "U1-EpQVEcJ-J"
      }
    },
    {
      "cell_type": "code",
      "source": [
        "from sklearn.datasets import make_classification\n",
        "from sklearn.model_selection import train_test_split\n",
        "from sklearn.svm import SVC\n",
        "from sklearn.metrics import classification_report, accuracy_score\n",
        "\n",
        "# Create an imbalanced binary classification dataset\n",
        "X, y = make_classification(n_samples=1000, n_features=20, n_classes=2,\n",
        "                           weights=[0.9, 0.1], flip_y=0, random_state=42)\n",
        "\n",
        "# Split dataset\n",
        "X_train, X_test, y_train, y_test = train_test_split(X, y, test_size=0.3, random_state=42)\n",
        "\n",
        "# Train SVM without class weighting\n",
        "svm_no_weight = SVC(kernel='rbf', random_state=42)\n",
        "svm_no_weight.fit(X_train, y_train)\n",
        "y_pred_no_weight = svm_no_weight.predict(X_test)\n",
        "acc_no_weight = accuracy_score(y_test, y_pred_no_weight)\n",
        "\n",
        "# Train SVM with class weighting balanced\n",
        "svm_weighted = SVC(kernel='rbf', class_weight='balanced', random_state=42)\n",
        "svm_weighted.fit(X_train, y_train)\n",
        "y_pred_weighted = svm_weighted.predict(X_test)\n",
        "acc_weighted = accuracy_score(y_test, y_pred_weighted)\n",
        "\n",
        "print(f\"Accuracy without class weighting: {acc_no_weight:.4f}\")\n",
        "print(f\"Accuracy with class weighting:    {acc_weighted:.4f}\")\n",
        "\n",
        "print(\"\\nClassification report without class weighting:\")\n",
        "print(classification_report(y_test, y_pred_no_weight))\n",
        "\n",
        "print(\"\\nClassification report with class weighting:\")\n",
        "print(classification_report(y_test, y_pred_weighted))"
      ],
      "metadata": {
        "colab": {
          "base_uri": "https://localhost:8080/"
        },
        "id": "nLVxtzsil8F8",
        "outputId": "5ac33df2-30e7-4765-fc35-ed7ba72d2a76"
      },
      "execution_count": null,
      "outputs": [
        {
          "output_type": "stream",
          "name": "stdout",
          "text": [
            "Accuracy without class weighting: 0.9367\n",
            "Accuracy with class weighting:    0.9200\n",
            "\n",
            "Classification report without class weighting:\n",
            "              precision    recall  f1-score   support\n",
            "\n",
            "           0       0.95      0.98      0.97       275\n",
            "           1       0.69      0.44      0.54        25\n",
            "\n",
            "    accuracy                           0.94       300\n",
            "   macro avg       0.82      0.71      0.75       300\n",
            "weighted avg       0.93      0.94      0.93       300\n",
            "\n",
            "\n",
            "Classification report with class weighting:\n",
            "              precision    recall  f1-score   support\n",
            "\n",
            "           0       0.97      0.95      0.96       275\n",
            "           1       0.52      0.64      0.57        25\n",
            "\n",
            "    accuracy                           0.92       300\n",
            "   macro avg       0.74      0.79      0.76       300\n",
            "weighted avg       0.93      0.92      0.92       300\n",
            "\n"
          ]
        }
      ]
    },
    {
      "cell_type": "markdown",
      "source": [
        "#Question 33:  Write a Python program to implement a Naïve Bayes classifier for spam detection using email data"
      ],
      "metadata": {
        "id": "_rLmupFucKBB"
      }
    },
    {
      "cell_type": "code",
      "source": [
        "import pandas as pd\n",
        "from sklearn.model_selection import train_test_split\n",
        "from sklearn.feature_extraction.text import TfidfVectorizer\n",
        "from sklearn.naive_bayes import MultinomialNB\n",
        "from sklearn.metrics import accuracy_score, classification_report\n",
        "\n",
        "# Load the SMS Spam dataset (download from https://archive.ics.uci.edu/ml/datasets/SMS+Spam+Collection)\n",
        "# Assuming file is saved as 'SMSSpamCollection' in the working directory\n",
        "\n",
        "data = pd.read_csv('SMSSpamCollection', sep='\\t', header=None, names=['label', 'message'])\n",
        "\n",
        "# Map labels to binary values: 'ham'->0, 'spam'->1\n",
        "data['label_num'] = data.label.map({'ham':0, 'spam':1})\n",
        "\n",
        "# Split into train and test sets\n",
        "X_train, X_test, y_train, y_test = train_test_split(data['message'], data['label_num'],\n",
        "                                                    test_size=0.3, random_state=42)\n",
        "\n",
        "# Vectorize text data using TF-IDF\n",
        "vectorizer = TfidfVectorizer(stop_words='english')\n",
        "X_train_tfidf = vectorizer.fit_transform(X_train)\n",
        "X_test_tfidf = vectorizer.transform(X_test)\n",
        "\n",
        "# Train Multinomial Naive Bayes classifier\n",
        "nb = MultinomialNB()\n",
        "nb.fit(X_train_tfidf, y_train)\n",
        "\n",
        "# Predict on test set\n",
        "y_pred = nb.predict(X_test_tfidf)\n",
        "\n",
        "# Evaluate\n",
        "accuracy = accuracy_score(y_test, y_pred)\n",
        "print(f\"Accuracy: {accuracy:.4f}\")\n",
        "print(\"\\nClassification Report:\\n\", classification_report(y_test, y_pred))"
      ],
      "metadata": {
        "id": "LiQZxVPHmVlZ"
      },
      "execution_count": null,
      "outputs": []
    },
    {
      "cell_type": "markdown",
      "source": [
        "#Question 34:  Write a Python program to train an SVM Classifier and a Naïve Bayes Classifier on the same dataset and compare their accuracy"
      ],
      "metadata": {
        "id": "84ZXA-zOcKEJ"
      }
    },
    {
      "cell_type": "code",
      "source": [
        "from sklearn import datasets\n",
        "from sklearn.model_selection import train_test_split\n",
        "from sklearn.svm import SVC\n",
        "from sklearn.naive_bayes import GaussianNB\n",
        "from sklearn.metrics import accuracy_score\n",
        "\n",
        "# Load the Iris dataset\n",
        "iris = datasets.load_iris()\n",
        "X = iris.data\n",
        "y = iris.target\n",
        "\n",
        "# Split the dataset into training and testing sets\n",
        "X_train, X_test, y_train, y_test = train_test_split(X, y, test_size=0.3, random_state=42)\n",
        "\n",
        "# Train SVM classifier\n",
        "svm_model = SVC(kernel='rbf', random_state=42)\n",
        "svm_model.fit(X_train, y_train)\n",
        "y_pred_svm = svm_model.predict(X_test)\n",
        "\n",
        "# Train Naïve Bayes classifier (GaussianNB for continuous features like Iris)\n",
        "nb_model = GaussianNB()\n",
        "nb_model.fit(X_train, y_train)\n",
        "y_pred_nb = nb_model.predict(X_test)\n",
        "\n",
        "# Calculate accuracy\n",
        "accuracy_svm = accuracy_score(y_test, y_pred_svm)\n",
        "accuracy_nb = accuracy_score(y_test, y_pred_nb)\n",
        "\n",
        "# Print the comparison\n",
        "print(f\"SVM Classifier Accuracy:        {accuracy_svm:.4f}\")\n",
        "print(f\"Naïve Bayes Classifier Accuracy: {accuracy_nb:.4f}\")"
      ],
      "metadata": {
        "colab": {
          "base_uri": "https://localhost:8080/"
        },
        "id": "XZOKLS3Bmqu6",
        "outputId": "1aa8ab7b-3b23-4814-b695-759b47569149"
      },
      "execution_count": null,
      "outputs": [
        {
          "output_type": "stream",
          "name": "stdout",
          "text": [
            "SVM Classifier Accuracy:        1.0000\n",
            "Naïve Bayes Classifier Accuracy: 0.9778\n"
          ]
        }
      ]
    },
    {
      "cell_type": "markdown",
      "source": [
        "#Question 35: Write a Python program to perform feature selection before training a Naïve Bayes classifier and compare results"
      ],
      "metadata": {
        "id": "Je1vu0--cKG_"
      }
    },
    {
      "cell_type": "code",
      "source": [
        "from sklearn.datasets import load_breast_cancer\n",
        "from sklearn.model_selection import train_test_split\n",
        "from sklearn.naive_bayes import GaussianNB\n",
        "from sklearn.feature_selection import SelectKBest, chi2\n",
        "from sklearn.metrics import accuracy_score\n",
        "\n",
        "# Load the Breast Cancer dataset\n",
        "data = load_breast_cancer()\n",
        "X = data.data\n",
        "y = data.target\n",
        "\n",
        "# Split into training and test sets\n",
        "X_train, X_test, y_train, y_test = train_test_split(X, y, test_size=0.3, random_state=42)\n",
        "\n",
        "# --- Step 1: Train without feature selection ---\n",
        "model_no_fs = GaussianNB()\n",
        "model_no_fs.fit(X_train, y_train)\n",
        "y_pred_no_fs = model_no_fs.predict(X_test)\n",
        "acc_no_fs = accuracy_score(y_test, y_pred_no_fs)\n",
        "\n",
        "# --- Step 2: Feature Selection using SelectKBest (chi-squared test) ---\n",
        "selector = SelectKBest(score_func=chi2, k=10)  # Select top 10 features\n",
        "X_train_selected = selector.fit_transform(X_train, y_train)\n",
        "X_test_selected = selector.transform(X_test)\n",
        "\n",
        "# --- Step 3: Train with selected features ---\n",
        "model_fs = GaussianNB()\n",
        "model_fs.fit(X_train_selected, y_train)\n",
        "y_pred_fs = model_fs.predict(X_test_selected)\n",
        "acc_fs = accuracy_score(y_test, y_pred_fs)\n",
        "\n",
        "# --- Step 4: Print Results ---\n",
        "print(f\"Accuracy WITHOUT feature selection: {acc_no_fs:.4f}\")\n",
        "print(f\"Accuracy WITH feature selection:    {acc_fs:.4f}\")"
      ],
      "metadata": {
        "colab": {
          "base_uri": "https://localhost:8080/"
        },
        "id": "edOi4XXdm57w",
        "outputId": "fbc5430c-9ff7-4a15-a91b-d6912f23232a"
      },
      "execution_count": null,
      "outputs": [
        {
          "output_type": "stream",
          "name": "stdout",
          "text": [
            "Accuracy WITHOUT feature selection: 0.9415\n",
            "Accuracy WITH feature selection:    0.9532\n"
          ]
        }
      ]
    },
    {
      "cell_type": "markdown",
      "source": [
        "#Question 36:  Write a Python program to train an SVM Classifier using One-vs-Rest (OvR) and One-vs-One (OvO) strategies on the Wine dataset and compare their accuracy"
      ],
      "metadata": {
        "id": "YZ_8wosLcKJp"
      }
    },
    {
      "cell_type": "code",
      "source": [
        "from sklearn.datasets import load_wine\n",
        "from sklearn.model_selection import train_test_split\n",
        "from sklearn.svm import SVC\n",
        "from sklearn.multiclass import OneVsRestClassifier, OneVsOneClassifier\n",
        "from sklearn.metrics import accuracy_score\n",
        "\n",
        "# Load the Wine dataset\n",
        "data = load_wine()\n",
        "X = data.data\n",
        "y = data.target\n",
        "\n",
        "# Split into training and testing sets\n",
        "X_train, X_test, y_train, y_test = train_test_split(X, y, test_size=0.3, random_state=42)\n",
        "\n",
        "# SVM Classifier base model\n",
        "svm_base = SVC(kernel='rbf', random_state=42)\n",
        "\n",
        "# One-vs-Rest strategy\n",
        "ovr_model = OneVsRestClassifier(svm_base)\n",
        "ovr_model.fit(X_train, y_train)\n",
        "y_pred_ovr = ovr_model.predict(X_test)\n",
        "acc_ovr = accuracy_score(y_test, y_pred_ovr)\n",
        "\n",
        "# One-vs-One strategy\n",
        "ovo_model = OneVsOneClassifier(svm_base)\n",
        "ovo_model.fit(X_train, y_train)\n",
        "y_pred_ovo = ovo_model.predict(X_test)\n",
        "acc_ovo = accuracy_score(y_test, y_pred_ovo)\n",
        "\n",
        "# Print comparison\n",
        "print(f\"Accuracy with One-vs-Rest strategy: {acc_ovr:.4f}\")\n",
        "print(f\"Accuracy with One-vs-One strategy:  {acc_ovo:.4f}\")"
      ],
      "metadata": {
        "colab": {
          "base_uri": "https://localhost:8080/"
        },
        "id": "dRKAt9AqnRPZ",
        "outputId": "6cbb9b84-f2f4-4bef-e492-9cc7a3762db4"
      },
      "execution_count": null,
      "outputs": [
        {
          "output_type": "stream",
          "name": "stdout",
          "text": [
            "Accuracy with One-vs-Rest strategy: 0.7222\n",
            "Accuracy with One-vs-One strategy:  0.7963\n"
          ]
        }
      ]
    },
    {
      "cell_type": "markdown",
      "source": [
        "#Question 37:  Write a Python program to train an SVM Classifier using Linear, Polynomial, and RBF kernels on the Breast Cancer dataset and compare their accuracy"
      ],
      "metadata": {
        "id": "P38estadcKLz"
      }
    },
    {
      "cell_type": "code",
      "source": [
        "#Question 38: from sklearn.datasets import load_breast_cancer\n",
        "from sklearn.model_selection import train_test_split\n",
        "from sklearn.svm import SVC\n",
        "from sklearn.metrics import accuracy_score\n",
        "\n",
        "# Load the Breast Cancer dataset\n",
        "data = load_breast_cancer()\n",
        "X = data.data\n",
        "y = data.target\n",
        "\n",
        "# Split the dataset into training and test sets\n",
        "X_train, X_test, y_train, y_test = train_test_split(X, y, test_size=0.3, random_state=42)\n",
        "\n",
        "# Define SVM models with different kernels\n",
        "svm_linear = SVC(kernel='linear', random_state=42)\n",
        "svm_poly = SVC(kernel='poly', degree=3, random_state=42)\n",
        "svm_rbf = SVC(kernel='rbf', random_state=42)\n",
        "\n",
        "# Train each model\n",
        "svm_linear.fit(X_train, y_train)\n",
        "svm_poly.fit(X_train, y_train)\n",
        "svm_rbf.fit(X_train, y_train)\n",
        "\n",
        "# Predict and evaluate\n",
        "pred_linear = svm_linear.predict(X_test)\n",
        "pred_poly = svm_poly.predict(X_test)\n",
        "pred_rbf = svm_rbf.predict(X_test)\n",
        "\n",
        "# Accuracy scores\n",
        "acc_linear = accuracy_score(y_test, pred_linear)\n",
        "acc_poly = accuracy_score(y_test, pred_poly)\n",
        "acc_rbf = accuracy_score(y_test, pred_rbf)\n",
        "\n",
        "# Print results\n",
        "print(f\"Linear Kernel Accuracy:     {acc_linear:.4f}\")\n",
        "print(f\"Polynomial Kernel Accuracy: {acc_poly:.4f}\")\n",
        "print(f\"RBF Kernel Accuracy:        {acc_rbf:.4f}\")"
      ],
      "metadata": {
        "colab": {
          "base_uri": "https://localhost:8080/"
        },
        "id": "ZeLNyYv9nszA",
        "outputId": "fae02cd8-0c9d-43ab-99a6-5fcfae9f2df5"
      },
      "execution_count": null,
      "outputs": [
        {
          "output_type": "stream",
          "name": "stdout",
          "text": [
            "Linear Kernel Accuracy:     0.9649\n",
            "Polynomial Kernel Accuracy: 0.9415\n",
            "RBF Kernel Accuracy:        0.9357\n"
          ]
        }
      ]
    },
    {
      "cell_type": "markdown",
      "source": [
        "#Question 38:  Write a Python program to train an SVM Classifier using Stratified K-Fold Cross-Validation and compute the average accuracy"
      ],
      "metadata": {
        "id": "meQY17L3dPSm"
      }
    },
    {
      "cell_type": "code",
      "source": [
        "from sklearn.datasets import load_breast_cancer\n",
        "from sklearn.model_selection import StratifiedKFold\n",
        "from sklearn.svm import SVC\n",
        "from sklearn.metrics import accuracy_score\n",
        "import numpy as np\n",
        "\n",
        "# Load dataset\n",
        "data = load_breast_cancer()\n",
        "X = data.data\n",
        "y = data.target\n",
        "\n",
        "# Initialize StratifiedKFold\n",
        "skf = StratifiedKFold(n_splits=5, shuffle=True, random_state=42)\n",
        "\n",
        "# SVM classifier\n",
        "svm = SVC(kernel='rbf', random_state=42)\n",
        "\n",
        "# Store accuracies\n",
        "accuracies = []\n",
        "\n",
        "# Cross-validation\n",
        "for train_index, test_index in skf.split(X, y):\n",
        "    X_train, X_test = X[train_index], X[test_index]\n",
        "    y_train, y_test = y[train_index], y[test_index]\n",
        "\n",
        "    svm.fit(X_train, y_train)\n",
        "    y_pred = svm.predict(X_test)\n",
        "    acc = accuracy_score(y_test, y_pred)\n",
        "    accuracies.append(acc)\n",
        "\n",
        "# Results\n",
        "average_accuracy = np.mean(accuracies)\n",
        "print(\"Accuracies for each fold:\", [f\"{a:.4f}\" for a in accuracies])\n",
        "print(f\"Average Accuracy: {average_accuracy:.4f}\")"
      ],
      "metadata": {
        "colab": {
          "base_uri": "https://localhost:8080/"
        },
        "id": "55wFKLVCn5Eb",
        "outputId": "721cb80c-5a0a-4570-b27c-38a4d10a2698"
      },
      "execution_count": null,
      "outputs": [
        {
          "output_type": "stream",
          "name": "stdout",
          "text": [
            "Accuracies for each fold: ['0.9386', '0.8772', '0.8947', '0.9386', '0.9204']\n",
            "Average Accuracy: 0.9139\n"
          ]
        }
      ]
    },
    {
      "cell_type": "markdown",
      "source": [
        "#Question 39 :  Write a Python program to train a Naïve Bayes classifier using different prior probabilities and compare performance"
      ],
      "metadata": {
        "id": "4Pi1CnhloCz1"
      }
    },
    {
      "cell_type": "code",
      "source": [
        "from sklearn.datasets import load_breast_cancer\n",
        "from sklearn.model_selection import train_test_split\n",
        "from sklearn.naive_bayes import GaussianNB\n",
        "from sklearn.metrics import accuracy_score\n",
        "\n",
        "# Load dataset\n",
        "data = load_breast_cancer()\n",
        "X = data.data\n",
        "y = data.target\n",
        "\n",
        "# Split into train/test sets\n",
        "X_train, X_test, y_train, y_test = train_test_split(X, y, test_size=0.3, random_state=42)\n",
        "\n",
        "# Default Naive Bayes (no custom priors)\n",
        "model_default = GaussianNB()\n",
        "model_default.fit(X_train, y_train)\n",
        "pred_default = model_default.predict(X_test)\n",
        "acc_default = accuracy_score(y_test, pred_default)\n",
        "\n",
        "# Custom priors (e.g., more bias toward class 0 or 1)\n",
        "model_prior_1 = GaussianNB(priors=[0.7, 0.3])\n",
        "model_prior_1.fit(X_train, y_train)\n",
        "pred_prior_1 = model_prior_1.predict(X_test)\n",
        "acc_prior_1 = accuracy_score(y_test, pred_prior_1)\n",
        "\n",
        "model_prior_2 = GaussianNB(priors=[0.3, 0.7])\n",
        "model_prior_2.fit(X_train, y_train)\n",
        "pred_prior_2 = model_prior_2.predict(X_test)\n",
        "acc_prior_2 = accuracy_score(y_test, pred_prior_2)\n",
        "\n",
        "# Print results\n",
        "print(f\"Accuracy with default priors:        {acc_default:.4f}\")\n",
        "print(f\"Accuracy with priors [0.7, 0.3]:     {acc_prior_1:.4f}\")\n",
        "print(f\"Accuracy with priors [0.3, 0.7]:     {acc_prior_2:.4f}\")"
      ],
      "metadata": {
        "colab": {
          "base_uri": "https://localhost:8080/"
        },
        "id": "xPmwULO9oJ3E",
        "outputId": "72bbd90c-55cf-44b3-b91f-c74e6806cef8"
      },
      "execution_count": null,
      "outputs": [
        {
          "output_type": "stream",
          "name": "stdout",
          "text": [
            "Accuracy with default priors:        0.9415\n",
            "Accuracy with priors [0.7, 0.3]:     0.9357\n",
            "Accuracy with priors [0.3, 0.7]:     0.9474\n"
          ]
        }
      ]
    },
    {
      "cell_type": "markdown",
      "source": [
        "#Question 40:  Write a Python program to perform Recursive Feature Elimination (RFE) before training an SVM Classifier and compare accuracy\n"
      ],
      "metadata": {
        "id": "_HXjhXBGdPVr"
      }
    },
    {
      "cell_type": "code",
      "source": [
        "from sklearn.datasets import load_breast_cancer\n",
        "from sklearn.svm import SVC\n",
        "from sklearn.feature_selection import RFE\n",
        "from sklearn.model_selection import train_test_split\n",
        "from sklearn.metrics import accuracy_score\n",
        "\n",
        "# Load dataset\n",
        "data = load_breast_cancer()\n",
        "X = data.data\n",
        "y = data.target\n",
        "\n",
        "# Split into training and test sets\n",
        "X_train, X_test, y_train, y_test = train_test_split(X, y, test_size=0.3, random_state=42)\n",
        "\n",
        "# Train SVM on all features\n",
        "svm_full = SVC(kernel='linear', random_state=42)\n",
        "svm_full.fit(X_train, y_train)\n",
        "y_pred_full = svm_full.predict(X_test)\n",
        "acc_full = accuracy_score(y_test, y_pred_full)\n",
        "\n",
        "# Apply RFE to select top 10 features\n",
        "rfe = RFE(estimator=SVC(kernel='linear'), n_features_to_select=10)\n",
        "rfe.fit(X_train, y_train)\n",
        "\n",
        "# Transform the data to selected features\n",
        "X_train_rfe = rfe.transform(X_train)\n",
        "X_test_rfe = rfe.transform(X_test)\n",
        "\n",
        "# Train SVM on selected features\n",
        "svm_rfe = SVC(kernel='linear', random_state=42)\n",
        "svm_rfe.fit(X_train_rfe, y_train)\n",
        "y_pred_rfe = svm_rfe.predict(X_test_rfe)\n",
        "acc_rfe = accuracy_score(y_test, y_pred_rfe)\n",
        "\n",
        "# Compare accuracies\n",
        "print(f\"Accuracy using all features:     {acc_full:.4f}\")\n",
        "print(f\"Accuracy after RFE (top 10):     {acc_rfe:.4f}\")"
      ],
      "metadata": {
        "colab": {
          "base_uri": "https://localhost:8080/"
        },
        "id": "bn8cL1Iuohpq",
        "outputId": "64033395-7d6d-49fc-8c79-5046302167a6"
      },
      "execution_count": null,
      "outputs": [
        {
          "output_type": "stream",
          "name": "stdout",
          "text": [
            "Accuracy using all features:     0.9649\n",
            "Accuracy after RFE (top 10):     0.9298\n"
          ]
        }
      ]
    },
    {
      "cell_type": "markdown",
      "source": [
        "#Question 41: Write a Python program to train an SVM Classifier and evaluate its performance using Precision, Recall, and F1-Score instead of accuracy"
      ],
      "metadata": {
        "id": "0AwfOZc8dPY0"
      }
    },
    {
      "cell_type": "code",
      "source": [
        "from sklearn.datasets import load_breast_cancer\n",
        "from sklearn.model_selection import train_test_split\n",
        "from sklearn.svm import SVC\n",
        "from sklearn.metrics import precision_score, recall_score, f1_score, classification_report\n",
        "\n",
        "# Load the dataset\n",
        "data = load_breast_cancer()\n",
        "X = data.data\n",
        "y = data.target\n",
        "\n",
        "# Split into train and test sets\n",
        "X_train, X_test, y_train, y_test = train_test_split(X, y, test_size=0.3, random_state=42)\n",
        "\n",
        "# Train SVM classifier\n",
        "svm = SVC(kernel='rbf', random_state=42)\n",
        "svm.fit(X_train, y_train)\n",
        "\n",
        "# Make predictions\n",
        "y_pred = svm.predict(X_test)\n",
        "\n",
        "# Evaluate using precision, recall, and F1-score\n",
        "precision = precision_score(y_test, y_pred)\n",
        "recall = recall_score(y_test, y_pred)\n",
        "f1 = f1_score(y_test, y_pred)\n",
        "\n",
        "# Print the results\n",
        "print(\"Classification Report:\")\n",
        "print(classification_report(y_test, y_pred, target_names=data.target_names))\n",
        "print(f\"Precision: {precision:.4f}\")\n",
        "print(f\"Recall:    {recall:.4f}\")\n",
        "print(f\"F1 Score:  {f1:.4f}\")"
      ],
      "metadata": {
        "colab": {
          "base_uri": "https://localhost:8080/"
        },
        "id": "rVQghJMmpA13",
        "outputId": "35e8689d-eb59-44fa-fcb8-ca686196f6ed"
      },
      "execution_count": null,
      "outputs": [
        {
          "output_type": "stream",
          "name": "stdout",
          "text": [
            "Classification Report:\n",
            "              precision    recall  f1-score   support\n",
            "\n",
            "   malignant       1.00      0.83      0.90        63\n",
            "      benign       0.91      1.00      0.95       108\n",
            "\n",
            "    accuracy                           0.94       171\n",
            "   macro avg       0.95      0.91      0.93       171\n",
            "weighted avg       0.94      0.94      0.93       171\n",
            "\n",
            "Precision: 0.9076\n",
            "Recall:    1.0000\n",
            "F1 Score:  0.9515\n"
          ]
        }
      ]
    },
    {
      "cell_type": "markdown",
      "source": [
        "#Question 42:  Write a Python program to train a Naïve Bayes Classifier and evaluate its performance using Log Loss (Cross-Entropy Loss)"
      ],
      "metadata": {
        "id": "OOBp0F5ndPcP"
      }
    },
    {
      "cell_type": "code",
      "source": [
        "from sklearn.datasets import load_breast_cancer\n",
        "from sklearn.model_selection import train_test_split\n",
        "from sklearn.naive_bayes import GaussianNB\n",
        "from sklearn.metrics import log_loss\n",
        "\n",
        "# Load dataset\n",
        "data = load_breast_cancer()\n",
        "X = data.data\n",
        "y = data.target\n",
        "\n",
        "# Train-test split\n",
        "X_train, X_test, y_train, y_test = train_test_split(X, y, test_size=0.3, random_state=42)\n",
        "\n",
        "# Train Naïve Bayes classifier\n",
        "nb = GaussianNB()\n",
        "nb.fit(X_train, y_train)\n",
        "\n",
        "# Predict probabilities\n",
        "y_prob = nb.predict_proba(X_test)\n",
        "\n",
        "# Calculate log loss\n",
        "loss = log_loss(y_test, y_prob)\n",
        "\n",
        "# Output\n",
        "print(f\"Log Loss (Cross-Entropy): {loss:.4f}\")"
      ],
      "metadata": {
        "colab": {
          "base_uri": "https://localhost:8080/"
        },
        "id": "iQnYtWdHpU0e",
        "outputId": "6bd0ddaf-035e-4992-8b4a-1df82a594b20"
      },
      "execution_count": null,
      "outputs": [
        {
          "output_type": "stream",
          "name": "stdout",
          "text": [
            "Log Loss (Cross-Entropy): 0.4899\n"
          ]
        }
      ]
    },
    {
      "cell_type": "markdown",
      "source": [
        "#Question 43:  Write a Python program to train an SVM Classifier and visualize the Confusion Matrix using seaborn"
      ],
      "metadata": {
        "id": "6vOt2bw2dPe7"
      }
    },
    {
      "cell_type": "code",
      "source": [
        "import seaborn as sns\n",
        "import matplotlib.pyplot as plt\n",
        "from sklearn.datasets import load_breast_cancer\n",
        "from sklearn.model_selection import train_test_split\n",
        "from sklearn.svm import SVC\n",
        "from sklearn.metrics import confusion_matrix, ConfusionMatrixDisplay\n",
        "\n",
        "# Load dataset\n",
        "data = load_breast_cancer()\n",
        "X = data.data\n",
        "y = data.target\n",
        "labels = data.target_names\n",
        "\n",
        "# Train-test split\n",
        "X_train, X_test, y_train, y_test = train_test_split(X, y, test_size=0.3, random_state=42)\n",
        "\n",
        "# Train SVM Classifier\n",
        "svm = SVC(kernel='rbf', random_state=42)\n",
        "svm.fit(X_train, y_train)\n",
        "\n",
        "# Predict\n",
        "y_pred = svm.predict(X_test)\n",
        "\n",
        "# Compute confusion matrix\n",
        "cm = confusion_matrix(y_test, y_pred)\n",
        "\n",
        "# Plot using seaborn\n",
        "plt.figure(figsize=(6, 5))\n",
        "sns.heatmap(cm, annot=True, fmt='d', cmap='Blues', xticklabels=labels, yticklabels=labels)\n",
        "plt.xlabel('Predicted Labels')\n",
        "plt.ylabel('True Labels')\n",
        "plt.title('SVM Confusion Matrix')\n",
        "plt.tight_layout()\n",
        "plt.show()"
      ],
      "metadata": {
        "colab": {
          "base_uri": "https://localhost:8080/",
          "height": 507
        },
        "id": "918UBzRWpmt9",
        "outputId": "2e87a32b-3279-4be3-d3da-8733457de4f1"
      },
      "execution_count": null,
      "outputs": [
        {
          "output_type": "display_data",
          "data": {
            "text/plain": [
              "<Figure size 600x500 with 2 Axes>"
            ],
            "image/png": "[encoded data removed]"
          },
          "metadata": {}
        }
      ]
    },
    {
      "cell_type": "markdown",
      "source": [
        "#Question 44:  Write a Python program to train an SVM Regressor (SVR) and evaluate its performance using Mean Absolute Error (MAE) instead of MSE"
      ],
      "metadata": {
        "id": "OVnhe8MBdPhr"
      }
    },
    {
      "cell_type": "code",
      "source": [
        "from sklearn.datasets import fetch_california_housing\n",
        "from sklearn.svm import SVR\n",
        "from sklearn.model_selection import train_test_split\n",
        "from sklearn.metrics import mean_absolute_error\n",
        "\n",
        "# Load California Housing dataset\n",
        "data = fetch_california_housing()\n",
        "X = data.data\n",
        "y = data.target\n",
        "\n",
        "# Split data into train and test sets\n",
        "X_train, X_test, y_train, y_test = train_test_split(X, y, test_size=0.3, random_state=42)\n",
        "\n",
        "# Initialize SVR model\n",
        "svr = SVR(kernel='rbf')\n",
        "\n",
        "# Train the model\n",
        "svr.fit(X_train, y_train)\n",
        "\n",
        "# Predict on test set\n",
        "y_pred = svr.predict(X_test)\n",
        "\n",
        "# Evaluate using Mean Absolute Error\n",
        "mae = mean_absolute_error(y_test, y_pred)\n",
        "\n",
        "print(f\"Mean Absolute Error (MAE): {mae:.4f}\")"
      ],
      "metadata": {
        "id": "s7sR0pC8p1W8",
        "outputId": "5c47b1a3-abaa-489e-a0e9-6fc09f6229b8",
        "colab": {
          "base_uri": "https://localhost:8080/"
        }
      },
      "execution_count": 26,
      "outputs": [
        {
          "output_type": "stream",
          "name": "stdout",
          "text": [
            "Mean Absolute Error (MAE): 0.8665\n"
          ]
        }
      ]
    },
    {
      "cell_type": "markdown",
      "source": [
        "#Question 45: Write a Python program to train a Naïve Bayes classifier and evaluate its performance using the ROC-AUC score"
      ],
      "metadata": {
        "id": "c-3neQ6NdPkN"
      }
    },
    {
      "cell_type": "code",
      "source": [
        "from sklearn.datasets import load_breast_cancer\n",
        "from sklearn.model_selection import train_test_split\n",
        "from sklearn.naive_bayes import GaussianNB\n",
        "from sklearn.metrics import roc_auc_score, roc_curve\n",
        "import matplotlib.pyplot as plt\n",
        "\n",
        "# Load dataset\n",
        "data = load_breast_cancer()\n",
        "X = data.data\n",
        "y = data.target\n",
        "\n",
        "# Split data\n",
        "X_train, X_test, y_train, y_test = train_test_split(X, y, test_size=0.3, random_state=42)\n",
        "\n",
        "# Train Naïve Bayes classifier\n",
        "nb = GaussianNB()\n",
        "nb.fit(X_train, y_train)\n",
        "\n",
        "# Predict probabilities for positive class\n",
        "y_prob = nb.predict_proba(X_test)[:, 1]\n",
        "\n",
        "# Calculate ROC-AUC score\n",
        "auc = roc_auc_score(y_test, y_prob)\n",
        "print(f\"ROC-AUC Score: {auc:.4f}\")\n",
        "\n",
        "# Optional: Plot ROC curve\n",
        "fpr, tpr, thresholds = roc_curve(y_test, y_prob)\n",
        "plt.figure(figsize=(6, 5))\n",
        "plt.plot(fpr, tpr, label=f'ROC curve (area = {auc:.4f})')\n",
        "plt.plot([0, 1], [0, 1], 'k--', label='Random guess')\n",
        "plt.xlabel('False Positive Rate')\n",
        "plt.ylabel('True Positive Rate')\n",
        "plt.title('ROC Curve for Naïve Bayes Classifier')\n",
        "plt.legend(loc='lower right')\n",
        "plt.show()"
      ],
      "metadata": {
        "colab": {
          "base_uri": "https://localhost:8080/",
          "height": 504
        },
        "id": "RjlAySlUrQCQ",
        "outputId": "7d7fb4c0-f3f9-4c97-e0bd-49dd3d01834d"
      },
      "execution_count": 27,
      "outputs": [
        {
          "output_type": "stream",
          "name": "stdout",
          "text": [
            "ROC-AUC Score: 0.9922\n"
          ]
        },
        {
          "output_type": "display_data",
          "data": {
            "text/plain": [
              "<Figure size 600x500 with 1 Axes>"
            ],
            "image/png": "[encoded data removed]"
          },
          "metadata": {}
        }
      ]
    },
    {
      "cell_type": "markdown",
      "source": [
        "#Question 46 :  Write a Python program to train an SVM Classifier and visualize the Precision-Recall Curve."
      ],
      "metadata": {
        "id": "uJ1ALwUvdh1m"
      }
    },
    {
      "cell_type": "code",
      "source": [
        "from sklearn.datasets import load_breast_cancer\n",
        "from sklearn.model_selection import train_test_split\n",
        "from sklearn.svm import SVC\n",
        "from sklearn.metrics import precision_recall_curve, average_precision_score\n",
        "import matplotlib.pyplot as plt\n",
        "\n",
        "# Load dataset\n",
        "data = load_breast_cancer()\n",
        "X = data.data\n",
        "y = data.target\n",
        "\n",
        "# Split into train and test sets\n",
        "X_train, X_test, y_train, y_test = train_test_split(X, y, test_size=0.3, random_state=42)\n",
        "\n",
        "# Train SVM classifier with probability estimates enabled\n",
        "svm = SVC(kernel='rbf', probability=True, random_state=42)\n",
        "svm.fit(X_train, y_train)\n",
        "\n",
        "# Predict probabilities for the positive class\n",
        "y_scores = svm.predict_proba(X_test)[:, 1]\n",
        "\n",
        "# Compute Precision-Recall curve\n",
        "precision, recall, thresholds = precision_recall_curve(y_test, y_scores)\n",
        "avg_precision = average_precision_score(y_test, y_scores)\n",
        "\n",
        "# Plot Precision-Recall curve\n",
        "plt.figure(figsize=(7, 6))\n",
        "plt.plot(recall, precision, label=f'Avg Precision = {avg_precision:.4f}')\n",
        "plt.xlabel('Recall')\n",
        "plt.ylabel('Precision')\n",
        "plt.title('Precision-Recall Curve for SVM Classifier')\n",
        "plt.legend()\n",
        "plt.grid(True)\n",
        "plt.show()"
      ],
      "metadata": {
        "colab": {
          "base_uri": "https://localhost:8080/",
          "height": 564
        },
        "id": "deNWhozwrk5Q",
        "outputId": "07d53189-f145-43f6-e641-a8c5c8ab67a5"
      },
      "execution_count": 28,
      "outputs": [
        {
          "output_type": "display_data",
          "data": {
            "text/plain": [
              "<Figure size 700x600 with 1 Axes>"
            ],
            "image/png": "[encoded data removed]"
          },
          "metadata": {}
        }
      ]
    }
  ]
}